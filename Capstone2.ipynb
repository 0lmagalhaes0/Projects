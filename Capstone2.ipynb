{
 "cells": [
  {
   "cell_type": "markdown",
   "metadata": {},
   "source": [
    "## <div align=\"center\">PYTHON DATA PRODUCTS FOR PREDICTIVE ANALYSIS</div>\n",
    "### <div align=\"center\">COURSE PROJECT</div>\n",
    "##### <div align=\"right\">Luis Magalhaes<br>Oct 2020</div>"
   ]
  },
  {
   "cell_type": "markdown",
   "metadata": {},
   "source": [
    "### <div align=\"center\">COLLECTION AND PREPARATION OF DATA</div>"
   ]
  },
  {
   "cell_type": "markdown",
   "metadata": {},
   "source": [
    "After importing libraries, we will load a JSON file obtained in Amazon.com with over 6 million reviews of the Electronics category. Then this data will be filtered, normalized, converted to their proper formats (dates and number, for example) and stored in a more convenient structure."
   ]
  },
  {
   "cell_type": "code",
   "execution_count": 2,
   "metadata": {},
   "outputs": [],
   "source": [
    "import json\n",
    "import gzip\n",
    "import datetime\n",
    "\n",
    "from requests import get\n",
    "from selenium import webdriver\n",
    "from selenium.webdriver.common.by import By\n",
    "from selenium.webdriver.support.ui import WebDriverWait\n",
    "from selenium.webdriver.support import expected_conditions as EC\n",
    "from selenium.common.exceptions import TimeoutException\n",
    "\n",
    "import itertools\n",
    "from collections import Counter\n",
    "from collections import defaultdict\n",
    "import numpy as np\n",
    "import pandas as pd\n",
    "import string\n",
    "import random\n",
    "\n",
    "import plotly.express as px\n",
    "import plotly.graph_objects as go\n",
    "from plotly.subplots import make_subplots\n",
    "import matplotlib.pyplot as plt\n",
    "%matplotlib inline\n",
    "import seaborn as sns\n",
    "\n",
    "from nltk.stem.porter import PorterStemmer\n",
    "from sklearn import linear_model\n",
    "from sklearn import svm\n",
    "#from sklearn.svm import SVR\n",
    "\n",
    "from sklearn.model_selection import train_test_split\n",
    "\n",
    "#from bs4 import BeautifulSoup"
   ]
  },
  {
   "cell_type": "code",
   "execution_count": 3,
   "metadata": {},
   "outputs": [],
   "source": [
    "preliminary_data = []\n",
    "f = open('Electronics_5.json')\n",
    "iter = 0\n",
    "for line in f:\n",
    "    preliminary_data.append(json.loads(line))\n",
    "    iter +=1\n",
    "    if iter == 10000:\n",
    "        break"
   ]
  },
  {
   "cell_type": "code",
   "execution_count": 4,
   "metadata": {},
   "outputs": [],
   "source": [
    "dataset = list(filter(lambda i: i['verified'] == True, preliminary_data))"
   ]
  },
  {
   "cell_type": "code",
   "execution_count": 5,
   "metadata": {},
   "outputs": [
    {
     "name": "stdout",
     "output_type": "stream",
     "text": [
      "From a total of 10000 entries, 8570 are verified.\n"
     ]
    }
   ],
   "source": [
    "print('From a total of ' + str(len(preliminary_data)) + ' entries, ' + str(len(dataset)) + ' are verified.')"
   ]
  },
  {
   "cell_type": "code",
   "execution_count": 6,
   "metadata": {},
   "outputs": [
    {
     "name": "stdout",
     "output_type": "stream",
     "text": [
      "Here's an example of the entries in the file:\n"
     ]
    },
    {
     "data": {
      "text/plain": [
       "{'overall': 3,\n",
       " 'vote': 8,\n",
       " 'verified': True,\n",
       " 'reviewTime': '02 4, 2000',\n",
       " 'reviewerID': 'A3QHJ0FXK33OBE',\n",
       " 'asin': '0151004714',\n",
       " 'style': {'Format:': ' Hardcover'},\n",
       " 'reviewerName': 'W. Shane Schmidt',\n",
       " 'reviewText': 'I was taken in by reviews that compared this book with The Leopard or promised a bildungsroman set in a family that is isolated and on the move.  Well...I didn\\'t feel any parallel with The Leopard and the author overstuffs her story with so many events that isolation is lost in the opportunity for  so many subplots.  And who\\'s moving - in any sense - in this novel?  Where\\'s the \"bildung?\"  The denouement?  The dsillusionner?  I must have  skimmed the wrong paragraph.\\nI do agree that parts of the novel are very  engaging.  They are.  And, like some other readers, I did enjoy the events  in Algeria.  This is the strongest part of the novel, perhaps because it is  not so deeply stuck in the protagonist\\'s life that had the unfortunate  knack of boring me in the first-person!  (Yeah, that\\'s what I mean.)  Overall, the novel is just a bit overdone.  I prefer a bildungsroman - if  that\\'s what this should be - to show me a growth, not tell me all about the  all-too-interesting things that happened along the way.\\nIf you\\'re the  kind of person who can sit for hours and listen to a friend tell you  endless stories about herself that you can\\'t help but suspect are just a  tad trumped up, then you might really dig into this novel.  Otherwise you  might have an experience more like mine which was one of detached interest.  For my part, I was relieved that I could close the book whenever I wanted  to quiet my jabbery friend.',\n",
       " 'summary': 'A dissenting view--In part.',\n",
       " 'unixReviewTime': 949622400}"
      ]
     },
     "execution_count": 6,
     "metadata": {},
     "output_type": "execute_result"
    }
   ],
   "source": [
    "def fix_key(d, k):\n",
    "    try:\n",
    "        d[k] = int(d[k])\n",
    "    except:\n",
    "        d[k] = 0\n",
    "\n",
    "def fix(d):\n",
    "    fix_key(d, 'vote')\n",
    "    fix_key(d, 'overall')\n",
    "    return d\n",
    "\n",
    "dataset = [fix(d) for d in dataset]\n",
    "\n",
    "print('Here\\'s an example of the entries in the file:')\n",
    "dataset[2]"
   ]
  },
  {
   "cell_type": "code",
   "execution_count": 7,
   "metadata": {},
   "outputs": [],
   "source": [
    "for i in dataset:\n",
    "    i['rating'] = i.pop('overall', None)\n",
    "    i['votes'] = i.pop('vote', None)\n",
    "    i.pop('reviewerName', None)\n",
    "    i.pop('style', None)\n",
    "    t = datetime.datetime.fromtimestamp(i['unixReviewTime'])\n",
    "    i['year'] = t.strftime('%Y')\n",
    "    i['month'] = t.strftime('%m')\n",
    "    i['date'] = t.strftime('%d')\n",
    "    i.pop('verified', None)\n",
    "    i.pop('reviewTime', None)\n",
    "    i.pop('unixReviewTime', None)"
   ]
  },
  {
   "cell_type": "code",
   "execution_count": 8,
   "metadata": {},
   "outputs": [
    {
     "name": "stdout",
     "output_type": "stream",
     "text": [
      "From the original 10000, there are 8531 entries that are verified and complete (no empty fields), so they will be further used in this analysis. \n",
      " Here is a sample of it:\n"
     ]
    },
    {
     "data": {
      "text/plain": [
       "{'reviewerID': 'A3QHJ0FXK33OBE',\n",
       " 'asin': '0151004714',\n",
       " 'reviewText': 'I was taken in by reviews that compared this book with The Leopard or promised a bildungsroman set in a family that is isolated and on the move.  Well...I didn\\'t feel any parallel with The Leopard and the author overstuffs her story with so many events that isolation is lost in the opportunity for  so many subplots.  And who\\'s moving - in any sense - in this novel?  Where\\'s the \"bildung?\"  The denouement?  The dsillusionner?  I must have  skimmed the wrong paragraph.\\nI do agree that parts of the novel are very  engaging.  They are.  And, like some other readers, I did enjoy the events  in Algeria.  This is the strongest part of the novel, perhaps because it is  not so deeply stuck in the protagonist\\'s life that had the unfortunate  knack of boring me in the first-person!  (Yeah, that\\'s what I mean.)  Overall, the novel is just a bit overdone.  I prefer a bildungsroman - if  that\\'s what this should be - to show me a growth, not tell me all about the  all-too-interesting things that happened along the way.\\nIf you\\'re the  kind of person who can sit for hours and listen to a friend tell you  endless stories about herself that you can\\'t help but suspect are just a  tad trumped up, then you might really dig into this novel.  Otherwise you  might have an experience more like mine which was one of detached interest.  For my part, I was relieved that I could close the book whenever I wanted  to quiet my jabbery friend.',\n",
       " 'summary': 'A dissenting view--In part.',\n",
       " 'rating': 3,\n",
       " 'votes': 8,\n",
       " 'year': '2000',\n",
       " 'month': '02',\n",
       " 'date': '04'}"
      ]
     },
     "execution_count": 8,
     "metadata": {},
     "output_type": "execute_result"
    }
   ],
   "source": [
    "for i in dataset:\n",
    "    if len(i.keys()) != 9:\n",
    "        dataset.remove(i)\n",
    "print('From the original {}, there are {} entries that are verified and complete (no empty fields), so they will be further used in this analysis. \\n Here is a sample of it:'.format(len(preliminary_data), len(dataset)))\n",
    "dataset[2]"
   ]
  },
  {
   "cell_type": "markdown",
   "metadata": {},
   "source": [
    "___\n",
    "Our data was incomplete, missing important information, like price, name (for our better understanding) and category. Let's fix this."
   ]
  },
  {
   "cell_type": "markdown",
   "metadata": {},
   "source": [
    "#### RETRIEVING ADDITIONAL PRODUCT INFO (WEB SCRAPING)"
   ]
  },
  {
   "cell_type": "code",
   "execution_count": 9,
   "metadata": {},
   "outputs": [
    {
     "data": {
      "text/html": [
       "<div>\n",
       "<style scoped>\n",
       "    .dataframe tbody tr th:only-of-type {\n",
       "        vertical-align: middle;\n",
       "    }\n",
       "\n",
       "    .dataframe tbody tr th {\n",
       "        vertical-align: top;\n",
       "    }\n",
       "\n",
       "    .dataframe thead th {\n",
       "        text-align: right;\n",
       "    }\n",
       "</style>\n",
       "<table border=\"1\" class=\"dataframe\">\n",
       "  <thead>\n",
       "    <tr style=\"text-align: right;\">\n",
       "      <th></th>\n",
       "      <th>reviewerID</th>\n",
       "      <th>asin</th>\n",
       "      <th>rating</th>\n",
       "      <th>year</th>\n",
       "      <th>month</th>\n",
       "    </tr>\n",
       "  </thead>\n",
       "  <tbody>\n",
       "    <tr>\n",
       "      <th>0</th>\n",
       "      <td>AAP7PPBU72QFM</td>\n",
       "      <td>0151004714</td>\n",
       "      <td>5</td>\n",
       "      <td>1999</td>\n",
       "      <td>09</td>\n",
       "    </tr>\n",
       "    <tr>\n",
       "      <th>1</th>\n",
       "      <td>A2E168DTVGE6SV</td>\n",
       "      <td>0151004714</td>\n",
       "      <td>3</td>\n",
       "      <td>2013</td>\n",
       "      <td>10</td>\n",
       "    </tr>\n",
       "    <tr>\n",
       "      <th>2</th>\n",
       "      <td>A3QHJ0FXK33OBE</td>\n",
       "      <td>0151004714</td>\n",
       "      <td>3</td>\n",
       "      <td>2000</td>\n",
       "      <td>02</td>\n",
       "    </tr>\n",
       "    <tr>\n",
       "      <th>3</th>\n",
       "      <td>A3IYSOTP3HA77N</td>\n",
       "      <td>0380709473</td>\n",
       "      <td>4</td>\n",
       "      <td>2013</td>\n",
       "      <td>06</td>\n",
       "    </tr>\n",
       "    <tr>\n",
       "      <th>4</th>\n",
       "      <td>A11SXV34PZUQ5E</td>\n",
       "      <td>0380709473</td>\n",
       "      <td>5</td>\n",
       "      <td>2016</td>\n",
       "      <td>06</td>\n",
       "    </tr>\n",
       "  </tbody>\n",
       "</table>\n",
       "</div>"
      ],
      "text/plain": [
       "       reviewerID        asin  rating  year month\n",
       "0   AAP7PPBU72QFM  0151004714       5  1999    09\n",
       "1  A2E168DTVGE6SV  0151004714       3  2013    10\n",
       "2  A3QHJ0FXK33OBE  0151004714       3  2000    02\n",
       "3  A3IYSOTP3HA77N  0380709473       4  2013    06\n",
       "4  A11SXV34PZUQ5E  0380709473       5  2016    06"
      ]
     },
     "execution_count": 9,
     "metadata": {},
     "output_type": "execute_result"
    }
   ],
   "source": [
    "fields = defaultdict(list)\n",
    "\n",
    "for d in dataset:\n",
    "    for k, v in d.items():\n",
    "        fields[k].append(v)\n",
    "\n",
    "temp = fields\n",
    "temp.pop('votes', None)\n",
    "temp.pop('summary', None)\n",
    "temp.pop('date', None)\n",
    "temp.pop('reviewText', None)\n",
    "\n",
    "df = pd.DataFrame(temp)\n",
    "df.head()"
   ]
  },
  {
   "cell_type": "code",
   "execution_count": 10,
   "metadata": {},
   "outputs": [
    {
     "data": {
      "text/html": [
       "<div>\n",
       "<style scoped>\n",
       "    .dataframe tbody tr th:only-of-type {\n",
       "        vertical-align: middle;\n",
       "    }\n",
       "\n",
       "    .dataframe tbody tr th {\n",
       "        vertical-align: top;\n",
       "    }\n",
       "\n",
       "    .dataframe thead th {\n",
       "        text-align: right;\n",
       "    }\n",
       "</style>\n",
       "<table border=\"1\" class=\"dataframe\">\n",
       "  <thead>\n",
       "    <tr style=\"text-align: right;\">\n",
       "      <th></th>\n",
       "      <th>reviewerID</th>\n",
       "      <th>asin</th>\n",
       "      <th>rating</th>\n",
       "      <th>year</th>\n",
       "      <th>month</th>\n",
       "    </tr>\n",
       "  </thead>\n",
       "  <tbody>\n",
       "    <tr>\n",
       "      <th>0</th>\n",
       "      <td>AAP7PPBU72QFM</td>\n",
       "      <td>0151004714</td>\n",
       "      <td>5</td>\n",
       "      <td>1999</td>\n",
       "      <td>09</td>\n",
       "    </tr>\n",
       "    <tr>\n",
       "      <th>1</th>\n",
       "      <td>A2E168DTVGE6SV</td>\n",
       "      <td>0151004714</td>\n",
       "      <td>3</td>\n",
       "      <td>2013</td>\n",
       "      <td>10</td>\n",
       "    </tr>\n",
       "    <tr>\n",
       "      <th>2</th>\n",
       "      <td>A3QHJ0FXK33OBE</td>\n",
       "      <td>0151004714</td>\n",
       "      <td>3</td>\n",
       "      <td>2000</td>\n",
       "      <td>02</td>\n",
       "    </tr>\n",
       "    <tr>\n",
       "      <th>3</th>\n",
       "      <td>A3IYSOTP3HA77N</td>\n",
       "      <td>0380709473</td>\n",
       "      <td>4</td>\n",
       "      <td>2013</td>\n",
       "      <td>06</td>\n",
       "    </tr>\n",
       "    <tr>\n",
       "      <th>4</th>\n",
       "      <td>A11SXV34PZUQ5E</td>\n",
       "      <td>0380709473</td>\n",
       "      <td>5</td>\n",
       "      <td>2016</td>\n",
       "      <td>06</td>\n",
       "    </tr>\n",
       "  </tbody>\n",
       "</table>\n",
       "</div>"
      ],
      "text/plain": [
       "       reviewerID        asin  rating  year month\n",
       "0   AAP7PPBU72QFM  0151004714       5  1999    09\n",
       "1  A2E168DTVGE6SV  0151004714       3  2013    10\n",
       "2  A3QHJ0FXK33OBE  0151004714       3  2000    02\n",
       "3  A3IYSOTP3HA77N  0380709473       4  2013    06\n",
       "4  A11SXV34PZUQ5E  0380709473       5  2016    06"
      ]
     },
     "execution_count": 10,
     "metadata": {},
     "output_type": "execute_result"
    }
   ],
   "source": [
    "temp2 = fields\n",
    "temp2.pop('votes', None)\n",
    "temp2.pop('reviewText', None)\n",
    "temp2.pop('summary', None)\n",
    "temp2.pop('date', None)\n",
    "\n",
    "df = pd.DataFrame(temp2)\n",
    "df.head()"
   ]
  },
  {
   "cell_type": "code",
   "execution_count": 11,
   "metadata": {},
   "outputs": [
    {
     "name": "stdout",
     "output_type": "stream",
     "text": [
      "Total number of products: 8531\n",
      "Total number of unique products in asin_set: 302\n",
      "Total number of unique products in dataframe: 302\n",
      "Example of product identifier: 0101635370\n"
     ]
    }
   ],
   "source": [
    "asin_set = set(df['asin'])\n",
    "asin_set = list(asin_set)\n",
    "asin_set.sort()\n",
    "\n",
    "print('Total number of products: ' + str(len(df['asin'])))\n",
    "print('Total number of unique products in asin_set: ' + str(len(asin_set)))\n",
    "print('Total number of unique products in dataframe: ' + str(len(df['asin'].unique())))\n",
    "print('Example of product identifier: ' + asin_set[0])"
   ]
  },
  {
   "cell_type": "code",
   "execution_count": 12,
   "metadata": {},
   "outputs": [],
   "source": [
    "driver = webdriver.Chrome()"
   ]
  },
  {
   "cell_type": "code",
   "execution_count": 13,
   "metadata": {},
   "outputs": [],
   "source": [
    "list_of_dicts = []\n",
    "bad_name = []\n",
    "bad_price = []\n",
    "bad_category = []\n",
    "bad_asin = []\n",
    "useless_asin = []"
   ]
  },
  {
   "cell_type": "code",
   "execution_count": 14,
   "metadata": {},
   "outputs": [
    {
     "name": "stdout",
     "output_type": "stream",
     "text": [
      "Obtaining requested info. Current item of 302:\n",
      ".1. .2. .3. .4. .5. .6. .7. .8. .9. .10. .11. .12. .13. .14. .15. .16. .17. .18. .19. .20. .21. .22. .23. .24. .25. .26. .27. .28. .29. .30. .31. .32. .33. .34. .35. .36. .37. .38. .39. .40. .41. .42. .43. .44. .45. .46. .47. .48. .49. .50. \n",
      "Done!\n"
     ]
    }
   ],
   "source": [
    "print('Obtaining requested info. Current item of {}:'.format(len(asin_set)))\n",
    "for i in asin_set[:50]:\n",
    "    url = 'https://www.amazon.com/gp/product/{}'.format(i)\n",
    "    driver.get(url)\n",
    "    product_info = {}\n",
    "    product_info['asin'] = i\n",
    "    try:\n",
    "        WebDriverWait(driver,10).until(EC.visibility_of_element_located((By.XPATH,'//span[@id=\"productTitle\"]')))\n",
    "        try:\n",
    "            name = driver.find_element_by_xpath('//span[@id=\"productTitle\"]')\n",
    "            product_info['name'] = name.text.strip()\n",
    "        except:\n",
    "            product_info['name'] = ''\n",
    "        try:\n",
    "            price = driver.find_element_by_xpath(\"(//span[contains(@class,'a-color-price')])[1]\")\n",
    "            product_info['price'] = price.text\n",
    "        except:\n",
    "            product_info['price'] = ''\n",
    "        try:\n",
    "            category = driver.find_element_by_xpath(\"(//span[@class='a-list-item']/a)[last()]\") \n",
    "            product_info['category'] = category.text.strip()\n",
    "        except:\n",
    "            product_info['category'] = ''\n",
    "    except:   # try a 2nd time in case any problems were due to browser behavior\n",
    "        try:\n",
    "            driver.get(url)\n",
    "            WebDriverWait(driver,10).until(EC.visibility_of_element_located((By.XPATH,'//span[@id=\"productTitle\"]')))\n",
    "            try:\n",
    "                name = driver.find_element_by_xpath('//span[@id=\"productTitle\"]')\n",
    "                product_info['name'] = name.text.strip()\n",
    "            except:\n",
    "                product_info['name'] = ''\n",
    "            try:\n",
    "                price = driver.find_element_by_xpath(\"(//span[contains(@class,'a-color-price')])[1]\")\n",
    "                product_info['price'] = price.text\n",
    "            except:\n",
    "                product_info['price'] = ''\n",
    "            try:\n",
    "                category = driver.find_element_by_xpath(\"(//span[@class='a-list-item']/a)[last()]\") \n",
    "                product_info['category'] = category.text.strip()\n",
    "            except:\n",
    "                product_info['category'] = ''\n",
    "        except:\n",
    "            product_info['name'] = ''\n",
    "            product_info['price'] = ''\n",
    "            product_info['category'] = ''\n",
    "\n",
    "    list_of_dicts.append(product_info)  # Append scrape to dictionary\n",
    "    print('.' + str(len(list_of_dicts)) + '. ', end='')   # print the last completed item of the scrapes\n",
    "    \n",
    "print('\\nDone!')"
   ]
  },
  {
   "cell_type": "code",
   "execution_count": 15,
   "metadata": {},
   "outputs": [
    {
     "name": "stdout",
     "output_type": "stream",
     "text": [
      "Organizing elements within list_of_dicts:\n",
      "...............................\n",
      "There are 3 unavailable names, 23 unavailable prices and 0 unavailable categories.\n",
      "In total, 23 products are missing some info and 0 have no information whatsoever.\n"
     ]
    }
   ],
   "source": [
    "print('Organizing elements within list_of_dicts:')\n",
    "\n",
    "for i in list_of_dicts:\n",
    "    if i['name'] == 'Currently unavailable.':\n",
    "        i['name'] = 0\n",
    "        bad_name.append(i['asin'])\n",
    "        print('.', end='')\n",
    "    elif i['name'] == '':\n",
    "        i['name'] = 0\n",
    "        bad_name.append(i['asin'])\n",
    "        print('.', end='')\n",
    "    if '$' not in i['price']:\n",
    "        i['price'] = 0.0\n",
    "        bad_price.append(i['asin'])\n",
    "        print('.', end='')\n",
    "    else:\n",
    "        i['price'] = i['price'].replace('$', '')\n",
    "        i['price'] = float(i['price'])\n",
    "    if i['category'] == 'Currently unavailable.':\n",
    "        i['category'] = 0\n",
    "        bad_category.append(i['asin'])\n",
    "        print('.', end='')\n",
    "    elif i['category'] == '':\n",
    "        i['category'] = 0\n",
    "        print('.', end='')\n",
    "\n",
    "for v in bad_name + bad_price + bad_category:\n",
    "    if v not in bad_asin:\n",
    "        bad_asin.append(v)\n",
    "for v in bad_name:\n",
    "    if v in bad_price:\n",
    "        if v in bad_category:\n",
    "            if v not in useless_asin:\n",
    "                useless_asin.append(v)\n",
    "    \n",
    "print('\\nThere are {} unavailable names, {} unavailable prices and {} unavailable categories.\\nIn total, {} products are missing some info and {} have no information whatsoever.'\\\n",
    ".format(len(bad_name), len(bad_price), len(bad_category), len(bad_asin), len(useless_asin)))"
   ]
  },
  {
   "cell_type": "code",
   "execution_count": 24,
   "metadata": {},
   "outputs": [
    {
     "name": "stdout",
     "output_type": "stream",
     "text": [
      "So, after filtering reviews that had no product info (no Name AND no Price AND no Category), we ended up with 1482 reviews with 12 fields. \n",
      "This is how our data is looking, now:\n",
      " \n"
     ]
    },
    {
     "data": {
      "text/html": [
       "<div>\n",
       "<style scoped>\n",
       "    .dataframe tbody tr th:only-of-type {\n",
       "        vertical-align: middle;\n",
       "    }\n",
       "\n",
       "    .dataframe tbody tr th {\n",
       "        vertical-align: top;\n",
       "    }\n",
       "\n",
       "    .dataframe thead th {\n",
       "        text-align: right;\n",
       "    }\n",
       "</style>\n",
       "<table border=\"1\" class=\"dataframe\">\n",
       "  <thead>\n",
       "    <tr style=\"text-align: right;\">\n",
       "      <th></th>\n",
       "      <th>reviewerID</th>\n",
       "      <th>asin</th>\n",
       "      <th>reviewText</th>\n",
       "      <th>summary</th>\n",
       "      <th>rating</th>\n",
       "      <th>votes</th>\n",
       "      <th>year</th>\n",
       "      <th>month</th>\n",
       "      <th>date</th>\n",
       "      <th>name</th>\n",
       "      <th>price</th>\n",
       "      <th>category</th>\n",
       "    </tr>\n",
       "  </thead>\n",
       "  <tbody>\n",
       "    <tr>\n",
       "      <th>0</th>\n",
       "      <td>AAP7PPBU72QFM</td>\n",
       "      <td>0151004714</td>\n",
       "      <td>This is the best novel I have read in 2 or 3 y...</td>\n",
       "      <td>A star is born</td>\n",
       "      <td>5</td>\n",
       "      <td>67</td>\n",
       "      <td>1999</td>\n",
       "      <td>09</td>\n",
       "      <td>18</td>\n",
       "      <td>The Last Life: A Novel</td>\n",
       "      <td>15.27</td>\n",
       "      <td>American Literature (Books)</td>\n",
       "    </tr>\n",
       "    <tr>\n",
       "      <th>1</th>\n",
       "      <td>A2E168DTVGE6SV</td>\n",
       "      <td>0151004714</td>\n",
       "      <td>Pages and pages of introspection, in the style...</td>\n",
       "      <td>A stream of consciousness novel</td>\n",
       "      <td>3</td>\n",
       "      <td>5</td>\n",
       "      <td>2013</td>\n",
       "      <td>10</td>\n",
       "      <td>23</td>\n",
       "      <td>The Last Life: A Novel</td>\n",
       "      <td>15.27</td>\n",
       "      <td>American Literature (Books)</td>\n",
       "    </tr>\n",
       "    <tr>\n",
       "      <th>2</th>\n",
       "      <td>A3QHJ0FXK33OBE</td>\n",
       "      <td>0151004714</td>\n",
       "      <td>I was taken in by reviews that compared this b...</td>\n",
       "      <td>A dissenting view--In part.</td>\n",
       "      <td>3</td>\n",
       "      <td>8</td>\n",
       "      <td>2000</td>\n",
       "      <td>02</td>\n",
       "      <td>04</td>\n",
       "      <td>The Last Life: A Novel</td>\n",
       "      <td>15.27</td>\n",
       "      <td>American Literature (Books)</td>\n",
       "    </tr>\n",
       "    <tr>\n",
       "      <th>3</th>\n",
       "      <td>A3IYSOTP3HA77N</td>\n",
       "      <td>0380709473</td>\n",
       "      <td>I read this probably 50 years ago in my youth ...</td>\n",
       "      <td>Above average mystery</td>\n",
       "      <td>4</td>\n",
       "      <td>0</td>\n",
       "      <td>2013</td>\n",
       "      <td>06</td>\n",
       "      <td>05</td>\n",
       "      <td>Crows Can't Count</td>\n",
       "      <td>10.15</td>\n",
       "      <td>Mysteries (Books)</td>\n",
       "    </tr>\n",
       "    <tr>\n",
       "      <th>4</th>\n",
       "      <td>A11SXV34PZUQ5E</td>\n",
       "      <td>0380709473</td>\n",
       "      <td>I read every Perry mason book voraciously. Fin...</td>\n",
       "      <td>Lam is cool!</td>\n",
       "      <td>5</td>\n",
       "      <td>0</td>\n",
       "      <td>2016</td>\n",
       "      <td>06</td>\n",
       "      <td>27</td>\n",
       "      <td>Crows Can't Count</td>\n",
       "      <td>10.15</td>\n",
       "      <td>Mysteries (Books)</td>\n",
       "    </tr>\n",
       "  </tbody>\n",
       "</table>\n",
       "</div>"
      ],
      "text/plain": [
       "       reviewerID        asin  \\\n",
       "0   AAP7PPBU72QFM  0151004714   \n",
       "1  A2E168DTVGE6SV  0151004714   \n",
       "2  A3QHJ0FXK33OBE  0151004714   \n",
       "3  A3IYSOTP3HA77N  0380709473   \n",
       "4  A11SXV34PZUQ5E  0380709473   \n",
       "\n",
       "                                          reviewText  \\\n",
       "0  This is the best novel I have read in 2 or 3 y...   \n",
       "1  Pages and pages of introspection, in the style...   \n",
       "2  I was taken in by reviews that compared this b...   \n",
       "3  I read this probably 50 years ago in my youth ...   \n",
       "4  I read every Perry mason book voraciously. Fin...   \n",
       "\n",
       "                           summary  rating  votes  year month date  \\\n",
       "0                   A star is born       5     67  1999    09   18   \n",
       "1  A stream of consciousness novel       3      5  2013    10   23   \n",
       "2      A dissenting view--In part.       3      8  2000    02   04   \n",
       "3            Above average mystery       4      0  2013    06   05   \n",
       "4                     Lam is cool!       5      0  2016    06   27   \n",
       "\n",
       "                     name  price                     category  \n",
       "0  The Last Life: A Novel  15.27  American Literature (Books)  \n",
       "1  The Last Life: A Novel  15.27  American Literature (Books)  \n",
       "2  The Last Life: A Novel  15.27  American Literature (Books)  \n",
       "3       Crows Can't Count  10.15            Mysteries (Books)  \n",
       "4       Crows Can't Count  10.15            Mysteries (Books)  "
      ]
     },
     "execution_count": 24,
     "metadata": {},
     "output_type": "execute_result"
    }
   ],
   "source": [
    "products = {k: [dic[k] for dic in list_of_dicts] for k in list_of_dicts[0]}\n",
    "df_temp = pd.DataFrame.from_dict(products)\n",
    "df_temp2 = pd.DataFrame(dataset)\n",
    "df = df_temp2.merge(df_temp, how='inner', on='asin')\n",
    "print('So, after filtering reviews that had no product info (no Name AND no Price AND no Category), '\n",
    "      'we ended up with {} reviews with {} fields. \\nThis is how our data is looking, now:\\n '.format(df.shape[0], df.shape[1]))\n",
    "df.head()"
   ]
  },
  {
   "cell_type": "code",
   "execution_count": 25,
   "metadata": {},
   "outputs": [
    {
     "name": "stdout",
     "output_type": "stream",
     "text": [
      "Since some of our models are better fit to data in dictionaries instead of dataframes, we make a suitable copy of it. This is its length and how it looks:\n",
      "1482\n"
     ]
    },
    {
     "data": {
      "text/plain": [
       "{'reviewerID': 'A2E168DTVGE6SV',\n",
       " 'asin': '0151004714',\n",
       " 'reviewText': 'Pages and pages of introspection, in the style of writers like Henry James.  I like this kind of  novels and the writer occasionally delights me with her descriptions and observations.  But it\\'s way too repetitious for me and, I think, some parts could have been cut out while still preserving, and probably more tightly crystallizing, the themes and \"truths\" within the story.\\n\\nIt\\'s a story I could relate to but I wish it hadn\\'t been too tedious to read.',\n",
       " 'summary': 'A stream of consciousness novel',\n",
       " 'rating': 3,\n",
       " 'votes': 5,\n",
       " 'year': '2013',\n",
       " 'month': '10',\n",
       " 'date': '23',\n",
       " 'name': 'The Last Life: A Novel',\n",
       " 'price': 15.27,\n",
       " 'category': 'American Literature (Books)'}"
      ]
     },
     "execution_count": 25,
     "metadata": {},
     "output_type": "execute_result"
    }
   ],
   "source": [
    "data = df.to_dict('records')\n",
    "print('Since some of our models are better fit to data in dictionaries instead of dataframes, we make a suitable copy of it. This is its length and how it looks:')\n",
    "print(len(data))\n",
    "data[1]"
   ]
  },
  {
   "cell_type": "markdown",
   "metadata": {},
   "source": [
    "### <div align=\"center\">EXPLORATORY ANALYSIS</div>"
   ]
  },
  {
   "cell_type": "markdown",
   "metadata": {},
   "source": [
    "Let's now get to know our data. We will visualize distribution of ratings, users, products and prices, as well as temporal distribution of the reviews."
   ]
  },
  {
   "cell_type": "code",
   "execution_count": 32,
   "metadata": {},
   "outputs": [
    {
     "name": "stdout",
     "output_type": "stream",
     "text": [
      "Out of curiosity, we have now 1482 reviews from 1461 reviewers of 50 different products.\n",
      "This means and average of 1.01 reviews per person and 29.64 reviews per product. But let's see it in more details and accuracy:\n"
     ]
    }
   ],
   "source": [
    "print('Out of curiosity, we have now {} reviews from {} reviewers of {} different products.'\\\n",
    "      .format(df.shape[0], df['reviewerID'].nunique(), df['asin'].nunique()))\n",
    "print('This means and average of {:.2f} reviews per person and {:.2f} reviews per product. But let\\'s see it in more details and accuracy:'\\\n",
    "      .format(int(df.shape[0])/int(df['reviewerID'].nunique()), int(df.shape[0])/int(df['asin'].nunique())))"
   ]
  },
  {
   "cell_type": "code",
   "execution_count": 33,
   "metadata": {},
   "outputs": [],
   "source": [
    "fields = defaultdict(list)\n",
    "\n",
    "for d in data:\n",
    "    for k, v in d.items():\n",
    "        fields[k].append(v)"
   ]
  },
  {
   "cell_type": "code",
   "execution_count": 60,
   "metadata": {},
   "outputs": [],
   "source": [
    "freq=[]\n",
    "n_users = []\n",
    "user_freq = {}\n",
    "\n",
    "frequ=[]\n",
    "n_items = []\n",
    "item_frequ = {}\n",
    "\n",
    "pfreq = []\n",
    "n_price = []\n",
    "price_freq = {}"
   ]
  },
  {
   "cell_type": "code",
   "execution_count": 61,
   "metadata": {},
   "outputs": [],
   "source": [
    "users = Counter(fields['reviewerID']).most_common()\n",
    "user_freq = defaultdict(int)\n",
    "for user,number in users:\n",
    "    if not number in freq: freq.append(number)\n",
    "    user_freq[number]+=1\n",
    "for f in user_freq:\n",
    "    n_users.append(user_freq[f])\n",
    "    \n",
    "items = Counter(fields['asin']).most_common()\n",
    "item_frequ = defaultdict(int)\n",
    "for item,number in items:\n",
    "    if not number in frequ: frequ.append(number)\n",
    "    item_frequ[number]+=1\n",
    "n_items = list(item_frequ.values())\n",
    "\n",
    "prices = Counter(fields['price']).most_common()\n",
    "price_freq = defaultdict(int)\n",
    "for price, number in prices:\n",
    "    if price != 0.0:\n",
    "        if not number in pfreq: pfreq.append(number)\n",
    "        price_freq[number]+=1\n",
    "n_price = list(price_freq.values())"
   ]
  },
  {
   "cell_type": "code",
   "execution_count": 64,
   "metadata": {},
   "outputs": [
    {
     "data": {
      "application/vnd.plotly.v1+json": {
       "config": {
        "plotlyServerURL": "https://plot.ly"
       },
       "data": [
        {
         "hovertemplate": "%{x} users with %{y} reviews",
         "orientation": "h",
         "type": "bar",
         "x": [
          2,
          17,
          1442
         ],
         "xaxis": "x",
         "y": [
          3,
          2,
          1
         ],
         "yaxis": "y"
        },
        {
         "histnorm": "percent",
         "hovertemplate": "%{y:0.0f}% of products with %{x} reviews",
         "nbinsx": 100,
         "type": "histogram",
         "x": [
          458,
          276,
          96,
          56,
          43,
          39,
          37,
          34,
          33,
          31,
          30,
          25,
          19,
          18,
          16,
          15,
          14,
          13,
          12,
          11,
          10,
          9,
          8,
          7,
          6,
          5,
          4,
          3,
          2,
          1
         ],
         "xaxis": "x2",
         "y": [
          1,
          1,
          1,
          1,
          1,
          1,
          1,
          1,
          1,
          1,
          1,
          1,
          1,
          2,
          1,
          1,
          5,
          1,
          2,
          1,
          1,
          3,
          1,
          1,
          4,
          3,
          4,
          1,
          4,
          2
         ],
         "yaxis": "y2"
        },
        {
         "histnorm": "percent",
         "hovertemplate": "%{y:0.0f}% of products with prices between %{x}",
         "nbinsx": 100,
         "type": "histogram",
         "x": [
          276,
          96,
          56,
          43,
          39,
          34,
          33,
          31,
          30,
          18,
          14,
          13,
          12,
          9,
          8,
          6,
          5,
          4,
          3,
          2
         ],
         "xaxis": "x3",
         "y": [
          1,
          1,
          1,
          1,
          1,
          1,
          1,
          1,
          1,
          2,
          3,
          1,
          1,
          1,
          1,
          1,
          2,
          2,
          1,
          3
         ],
         "yaxis": "y3"
        }
       ],
       "layout": {
        "annotations": [
         {
          "font": {
           "size": 16
          },
          "showarrow": false,
          "text": "Number of Reviews per User",
          "x": 0.5,
          "xanchor": "center",
          "xref": "paper",
          "y": 1,
          "yanchor": "bottom",
          "yref": "paper"
         },
         {
          "font": {
           "size": 16
          },
          "showarrow": false,
          "text": "Percentage of Products per Number of Reviews",
          "x": 0.5,
          "xanchor": "center",
          "xref": "paper",
          "y": 0.6111111111111112,
          "yanchor": "bottom",
          "yref": "paper"
         },
         {
          "font": {
           "size": 16
          },
          "showarrow": false,
          "text": "Percentage of Products per Price",
          "x": 0.5,
          "xanchor": "center",
          "xref": "paper",
          "y": 0.22222222222222224,
          "yanchor": "bottom",
          "yref": "paper"
         }
        ],
        "autosize": true,
        "showlegend": false,
        "template": {
         "data": {
          "bar": [
           {
            "error_x": {
             "color": "#f2f5fa"
            },
            "error_y": {
             "color": "#f2f5fa"
            },
            "marker": {
             "line": {
              "color": "rgb(17,17,17)",
              "width": 0.5
             }
            },
            "type": "bar"
           }
          ],
          "barpolar": [
           {
            "marker": {
             "line": {
              "color": "rgb(17,17,17)",
              "width": 0.5
             }
            },
            "type": "barpolar"
           }
          ],
          "carpet": [
           {
            "aaxis": {
             "endlinecolor": "#A2B1C6",
             "gridcolor": "#506784",
             "linecolor": "#506784",
             "minorgridcolor": "#506784",
             "startlinecolor": "#A2B1C6"
            },
            "baxis": {
             "endlinecolor": "#A2B1C6",
             "gridcolor": "#506784",
             "linecolor": "#506784",
             "minorgridcolor": "#506784",
             "startlinecolor": "#A2B1C6"
            },
            "type": "carpet"
           }
          ],
          "choropleth": [
           {
            "colorbar": {
             "outlinewidth": 0,
             "ticks": ""
            },
            "type": "choropleth"
           }
          ],
          "contour": [
           {
            "colorbar": {
             "outlinewidth": 0,
             "ticks": ""
            },
            "colorscale": [
             [
              0,
              "#0d0887"
             ],
             [
              0.1111111111111111,
              "#46039f"
             ],
             [
              0.2222222222222222,
              "#7201a8"
             ],
             [
              0.3333333333333333,
              "#9c179e"
             ],
             [
              0.4444444444444444,
              "#bd3786"
             ],
             [
              0.5555555555555556,
              "#d8576b"
             ],
             [
              0.6666666666666666,
              "#ed7953"
             ],
             [
              0.7777777777777778,
              "#fb9f3a"
             ],
             [
              0.8888888888888888,
              "#fdca26"
             ],
             [
              1,
              "#f0f921"
             ]
            ],
            "type": "contour"
           }
          ],
          "contourcarpet": [
           {
            "colorbar": {
             "outlinewidth": 0,
             "ticks": ""
            },
            "type": "contourcarpet"
           }
          ],
          "heatmap": [
           {
            "colorbar": {
             "outlinewidth": 0,
             "ticks": ""
            },
            "colorscale": [
             [
              0,
              "#0d0887"
             ],
             [
              0.1111111111111111,
              "#46039f"
             ],
             [
              0.2222222222222222,
              "#7201a8"
             ],
             [
              0.3333333333333333,
              "#9c179e"
             ],
             [
              0.4444444444444444,
              "#bd3786"
             ],
             [
              0.5555555555555556,
              "#d8576b"
             ],
             [
              0.6666666666666666,
              "#ed7953"
             ],
             [
              0.7777777777777778,
              "#fb9f3a"
             ],
             [
              0.8888888888888888,
              "#fdca26"
             ],
             [
              1,
              "#f0f921"
             ]
            ],
            "type": "heatmap"
           }
          ],
          "heatmapgl": [
           {
            "colorbar": {
             "outlinewidth": 0,
             "ticks": ""
            },
            "colorscale": [
             [
              0,
              "#0d0887"
             ],
             [
              0.1111111111111111,
              "#46039f"
             ],
             [
              0.2222222222222222,
              "#7201a8"
             ],
             [
              0.3333333333333333,
              "#9c179e"
             ],
             [
              0.4444444444444444,
              "#bd3786"
             ],
             [
              0.5555555555555556,
              "#d8576b"
             ],
             [
              0.6666666666666666,
              "#ed7953"
             ],
             [
              0.7777777777777778,
              "#fb9f3a"
             ],
             [
              0.8888888888888888,
              "#fdca26"
             ],
             [
              1,
              "#f0f921"
             ]
            ],
            "type": "heatmapgl"
           }
          ],
          "histogram": [
           {
            "marker": {
             "colorbar": {
              "outlinewidth": 0,
              "ticks": ""
             }
            },
            "type": "histogram"
           }
          ],
          "histogram2d": [
           {
            "colorbar": {
             "outlinewidth": 0,
             "ticks": ""
            },
            "colorscale": [
             [
              0,
              "#0d0887"
             ],
             [
              0.1111111111111111,
              "#46039f"
             ],
             [
              0.2222222222222222,
              "#7201a8"
             ],
             [
              0.3333333333333333,
              "#9c179e"
             ],
             [
              0.4444444444444444,
              "#bd3786"
             ],
             [
              0.5555555555555556,
              "#d8576b"
             ],
             [
              0.6666666666666666,
              "#ed7953"
             ],
             [
              0.7777777777777778,
              "#fb9f3a"
             ],
             [
              0.8888888888888888,
              "#fdca26"
             ],
             [
              1,
              "#f0f921"
             ]
            ],
            "type": "histogram2d"
           }
          ],
          "histogram2dcontour": [
           {
            "colorbar": {
             "outlinewidth": 0,
             "ticks": ""
            },
            "colorscale": [
             [
              0,
              "#0d0887"
             ],
             [
              0.1111111111111111,
              "#46039f"
             ],
             [
              0.2222222222222222,
              "#7201a8"
             ],
             [
              0.3333333333333333,
              "#9c179e"
             ],
             [
              0.4444444444444444,
              "#bd3786"
             ],
             [
              0.5555555555555556,
              "#d8576b"
             ],
             [
              0.6666666666666666,
              "#ed7953"
             ],
             [
              0.7777777777777778,
              "#fb9f3a"
             ],
             [
              0.8888888888888888,
              "#fdca26"
             ],
             [
              1,
              "#f0f921"
             ]
            ],
            "type": "histogram2dcontour"
           }
          ],
          "mesh3d": [
           {
            "colorbar": {
             "outlinewidth": 0,
             "ticks": ""
            },
            "type": "mesh3d"
           }
          ],
          "parcoords": [
           {
            "line": {
             "colorbar": {
              "outlinewidth": 0,
              "ticks": ""
             }
            },
            "type": "parcoords"
           }
          ],
          "pie": [
           {
            "automargin": true,
            "type": "pie"
           }
          ],
          "scatter": [
           {
            "marker": {
             "line": {
              "color": "#283442"
             }
            },
            "type": "scatter"
           }
          ],
          "scatter3d": [
           {
            "line": {
             "colorbar": {
              "outlinewidth": 0,
              "ticks": ""
             }
            },
            "marker": {
             "colorbar": {
              "outlinewidth": 0,
              "ticks": ""
             }
            },
            "type": "scatter3d"
           }
          ],
          "scattercarpet": [
           {
            "marker": {
             "colorbar": {
              "outlinewidth": 0,
              "ticks": ""
             }
            },
            "type": "scattercarpet"
           }
          ],
          "scattergeo": [
           {
            "marker": {
             "colorbar": {
              "outlinewidth": 0,
              "ticks": ""
             }
            },
            "type": "scattergeo"
           }
          ],
          "scattergl": [
           {
            "marker": {
             "line": {
              "color": "#283442"
             }
            },
            "type": "scattergl"
           }
          ],
          "scattermapbox": [
           {
            "marker": {
             "colorbar": {
              "outlinewidth": 0,
              "ticks": ""
             }
            },
            "type": "scattermapbox"
           }
          ],
          "scatterpolar": [
           {
            "marker": {
             "colorbar": {
              "outlinewidth": 0,
              "ticks": ""
             }
            },
            "type": "scatterpolar"
           }
          ],
          "scatterpolargl": [
           {
            "marker": {
             "colorbar": {
              "outlinewidth": 0,
              "ticks": ""
             }
            },
            "type": "scatterpolargl"
           }
          ],
          "scatterternary": [
           {
            "marker": {
             "colorbar": {
              "outlinewidth": 0,
              "ticks": ""
             }
            },
            "type": "scatterternary"
           }
          ],
          "surface": [
           {
            "colorbar": {
             "outlinewidth": 0,
             "ticks": ""
            },
            "colorscale": [
             [
              0,
              "#0d0887"
             ],
             [
              0.1111111111111111,
              "#46039f"
             ],
             [
              0.2222222222222222,
              "#7201a8"
             ],
             [
              0.3333333333333333,
              "#9c179e"
             ],
             [
              0.4444444444444444,
              "#bd3786"
             ],
             [
              0.5555555555555556,
              "#d8576b"
             ],
             [
              0.6666666666666666,
              "#ed7953"
             ],
             [
              0.7777777777777778,
              "#fb9f3a"
             ],
             [
              0.8888888888888888,
              "#fdca26"
             ],
             [
              1,
              "#f0f921"
             ]
            ],
            "type": "surface"
           }
          ],
          "table": [
           {
            "cells": {
             "fill": {
              "color": "#506784"
             },
             "line": {
              "color": "rgb(17,17,17)"
             }
            },
            "header": {
             "fill": {
              "color": "#2a3f5f"
             },
             "line": {
              "color": "rgb(17,17,17)"
             }
            },
            "type": "table"
           }
          ]
         },
         "layout": {
          "annotationdefaults": {
           "arrowcolor": "#f2f5fa",
           "arrowhead": 0,
           "arrowwidth": 1
          },
          "coloraxis": {
           "colorbar": {
            "outlinewidth": 0,
            "ticks": ""
           }
          },
          "colorscale": {
           "diverging": [
            [
             0,
             "#8e0152"
            ],
            [
             0.1,
             "#c51b7d"
            ],
            [
             0.2,
             "#de77ae"
            ],
            [
             0.3,
             "#f1b6da"
            ],
            [
             0.4,
             "#fde0ef"
            ],
            [
             0.5,
             "#f7f7f7"
            ],
            [
             0.6,
             "#e6f5d0"
            ],
            [
             0.7,
             "#b8e186"
            ],
            [
             0.8,
             "#7fbc41"
            ],
            [
             0.9,
             "#4d9221"
            ],
            [
             1,
             "#276419"
            ]
           ],
           "sequential": [
            [
             0,
             "#0d0887"
            ],
            [
             0.1111111111111111,
             "#46039f"
            ],
            [
             0.2222222222222222,
             "#7201a8"
            ],
            [
             0.3333333333333333,
             "#9c179e"
            ],
            [
             0.4444444444444444,
             "#bd3786"
            ],
            [
             0.5555555555555556,
             "#d8576b"
            ],
            [
             0.6666666666666666,
             "#ed7953"
            ],
            [
             0.7777777777777778,
             "#fb9f3a"
            ],
            [
             0.8888888888888888,
             "#fdca26"
            ],
            [
             1,
             "#f0f921"
            ]
           ],
           "sequentialminus": [
            [
             0,
             "#0d0887"
            ],
            [
             0.1111111111111111,
             "#46039f"
            ],
            [
             0.2222222222222222,
             "#7201a8"
            ],
            [
             0.3333333333333333,
             "#9c179e"
            ],
            [
             0.4444444444444444,
             "#bd3786"
            ],
            [
             0.5555555555555556,
             "#d8576b"
            ],
            [
             0.6666666666666666,
             "#ed7953"
            ],
            [
             0.7777777777777778,
             "#fb9f3a"
            ],
            [
             0.8888888888888888,
             "#fdca26"
            ],
            [
             1,
             "#f0f921"
            ]
           ]
          },
          "colorway": [
           "#636efa",
           "#EF553B",
           "#00cc96",
           "#ab63fa",
           "#FFA15A",
           "#19d3f3",
           "#FF6692",
           "#B6E880",
           "#FF97FF",
           "#FECB52"
          ],
          "font": {
           "color": "#f2f5fa"
          },
          "geo": {
           "bgcolor": "rgb(17,17,17)",
           "lakecolor": "rgb(17,17,17)",
           "landcolor": "rgb(17,17,17)",
           "showlakes": true,
           "showland": true,
           "subunitcolor": "#506784"
          },
          "hoverlabel": {
           "align": "left"
          },
          "hovermode": "closest",
          "mapbox": {
           "style": "dark"
          },
          "paper_bgcolor": "rgb(17,17,17)",
          "plot_bgcolor": "rgb(17,17,17)",
          "polar": {
           "angularaxis": {
            "gridcolor": "#506784",
            "linecolor": "#506784",
            "ticks": ""
           },
           "bgcolor": "rgb(17,17,17)",
           "radialaxis": {
            "gridcolor": "#506784",
            "linecolor": "#506784",
            "ticks": ""
           }
          },
          "scene": {
           "xaxis": {
            "backgroundcolor": "rgb(17,17,17)",
            "gridcolor": "#506784",
            "gridwidth": 2,
            "linecolor": "#506784",
            "showbackground": true,
            "ticks": "",
            "zerolinecolor": "#C8D4E3"
           },
           "yaxis": {
            "backgroundcolor": "rgb(17,17,17)",
            "gridcolor": "#506784",
            "gridwidth": 2,
            "linecolor": "#506784",
            "showbackground": true,
            "ticks": "",
            "zerolinecolor": "#C8D4E3"
           },
           "zaxis": {
            "backgroundcolor": "rgb(17,17,17)",
            "gridcolor": "#506784",
            "gridwidth": 2,
            "linecolor": "#506784",
            "showbackground": true,
            "ticks": "",
            "zerolinecolor": "#C8D4E3"
           }
          },
          "shapedefaults": {
           "line": {
            "color": "#f2f5fa"
           }
          },
          "sliderdefaults": {
           "bgcolor": "#C8D4E3",
           "bordercolor": "rgb(17,17,17)",
           "borderwidth": 1,
           "tickwidth": 0
          },
          "ternary": {
           "aaxis": {
            "gridcolor": "#506784",
            "linecolor": "#506784",
            "ticks": ""
           },
           "baxis": {
            "gridcolor": "#506784",
            "linecolor": "#506784",
            "ticks": ""
           },
           "bgcolor": "rgb(17,17,17)",
           "caxis": {
            "gridcolor": "#506784",
            "linecolor": "#506784",
            "ticks": ""
           }
          },
          "title": {
           "x": 0.05
          },
          "updatemenudefaults": {
           "bgcolor": "#506784",
           "borderwidth": 0
          },
          "xaxis": {
           "automargin": true,
           "gridcolor": "#283442",
           "linecolor": "#506784",
           "ticks": "",
           "title": {
            "standoff": 15
           },
           "zerolinecolor": "#283442",
           "zerolinewidth": 2
          },
          "yaxis": {
           "automargin": true,
           "gridcolor": "#283442",
           "linecolor": "#506784",
           "ticks": "",
           "title": {
            "standoff": 15
           },
           "zerolinecolor": "#283442",
           "zerolinewidth": 2
          }
         }
        },
        "xaxis": {
         "anchor": "y",
         "autorange": true,
         "domain": [
          0,
          1
         ],
         "range": [
          0,
          1517.8947368421052
         ],
         "type": "linear"
        },
        "xaxis2": {
         "anchor": "y2",
         "autorange": true,
         "domain": [
          0,
          1
         ],
         "range": [
          -0.5,
          459.5
         ],
         "type": "linear"
        },
        "xaxis3": {
         "anchor": "y3",
         "autorange": true,
         "domain": [
          0,
          1
         ],
         "range": [
          -0.5,
          279.5
         ],
         "type": "linear"
        },
        "yaxis": {
         "anchor": "x",
         "autorange": true,
         "domain": [
          0.7777777777777778,
          1
         ],
         "range": [
          0.5,
          3.5
         ],
         "type": "linear"
        },
        "yaxis2": {
         "anchor": "x2",
         "autorange": true,
         "domain": [
          0.3888888888888889,
          0.6111111111111112
         ],
         "range": [
          0,
          17.54385964912281
         ],
         "type": "linear"
        },
        "yaxis3": {
         "anchor": "x3",
         "autorange": true,
         "domain": [
          0,
          0.22222222222222224
         ],
         "range": [
          0,
          21.05263157894737
         ],
         "type": "linear"
        }
       }
      },
      "image/png": "[encoded data removed]",
      "text/html": [
       "<div>\n",
       "        \n",
       "        \n",
       "            <div id=\"2c35bbf9-2da3-485f-adc7-194a522cdd43\" class=\"plotly-graph-div\" style=\"height:1000px; width:100%;\"></div>\n",
       "            <script type=\"text/javascript\">\n",
       "                require([\"plotly\"], function(Plotly) {\n",
       "                    window.PLOTLYENV=window.PLOTLYENV || {};\n",
       "                    \n",
       "                if (document.getElementById(\"2c35bbf9-2da3-485f-adc7-194a522cdd43\")) {\n",
       "                    Plotly.newPlot(\n",
       "                        '2c35bbf9-2da3-485f-adc7-194a522cdd43',\n",
       "                        [{\"hovertemplate\": \"%{x} users with %{y} reviews\", \"orientation\": \"h\", \"type\": \"bar\", \"x\": [2, 17, 1442], \"xaxis\": \"x\", \"y\": [3, 2, 1], \"yaxis\": \"y\"}, {\"histnorm\": \"percent\", \"hovertemplate\": \"%{y:0.0f}% of products with %{x} reviews\", \"nbinsx\": 100, \"type\": \"histogram\", \"x\": [458, 276, 96, 56, 43, 39, 37, 34, 33, 31, 30, 25, 19, 18, 16, 15, 14, 13, 12, 11, 10, 9, 8, 7, 6, 5, 4, 3, 2, 1], \"xaxis\": \"x2\", \"y\": [1, 1, 1, 1, 1, 1, 1, 1, 1, 1, 1, 1, 1, 2, 1, 1, 5, 1, 2, 1, 1, 3, 1, 1, 4, 3, 4, 1, 4, 2], \"yaxis\": \"y2\"}, {\"histnorm\": \"percent\", \"hovertemplate\": \"%{y:0.0f}% of products with prices between %{x}\", \"nbinsx\": 100, \"type\": \"histogram\", \"x\": [276, 96, 56, 43, 39, 34, 33, 31, 30, 18, 14, 13, 12, 9, 8, 6, 5, 4, 3, 2], \"xaxis\": \"x3\", \"y\": [1, 1, 1, 1, 1, 1, 1, 1, 1, 2, 3, 1, 1, 1, 1, 1, 2, 2, 1, 3], \"yaxis\": \"y3\"}],\n",
       "                        {\"annotations\": [{\"font\": {\"size\": 16}, \"showarrow\": false, \"text\": \"Number of Reviews per User\", \"x\": 0.5, \"xanchor\": \"center\", \"xref\": \"paper\", \"y\": 1.0, \"yanchor\": \"bottom\", \"yref\": \"paper\"}, {\"font\": {\"size\": 16}, \"showarrow\": false, \"text\": \"Percentage of Products per Number of Reviews\", \"x\": 0.5, \"xanchor\": \"center\", \"xref\": \"paper\", \"y\": 0.6111111111111112, \"yanchor\": \"bottom\", \"yref\": \"paper\"}, {\"font\": {\"size\": 16}, \"showarrow\": false, \"text\": \"Percentage of Products per Price\", \"x\": 0.5, \"xanchor\": \"center\", \"xref\": \"paper\", \"y\": 0.22222222222222224, \"yanchor\": \"bottom\", \"yref\": \"paper\"}], \"height\": 1000, \"showlegend\": false, \"template\": {\"data\": {\"bar\": [{\"error_x\": {\"color\": \"#f2f5fa\"}, \"error_y\": {\"color\": \"#f2f5fa\"}, \"marker\": {\"line\": {\"color\": \"rgb(17,17,17)\", \"width\": 0.5}}, \"type\": \"bar\"}], \"barpolar\": [{\"marker\": {\"line\": {\"color\": \"rgb(17,17,17)\", \"width\": 0.5}}, \"type\": \"barpolar\"}], \"carpet\": [{\"aaxis\": {\"endlinecolor\": \"#A2B1C6\", \"gridcolor\": \"#506784\", \"linecolor\": \"#506784\", \"minorgridcolor\": \"#506784\", \"startlinecolor\": \"#A2B1C6\"}, \"baxis\": {\"endlinecolor\": \"#A2B1C6\", \"gridcolor\": \"#506784\", \"linecolor\": \"#506784\", \"minorgridcolor\": \"#506784\", \"startlinecolor\": \"#A2B1C6\"}, \"type\": \"carpet\"}], \"choropleth\": [{\"colorbar\": {\"outlinewidth\": 0, \"ticks\": \"\"}, \"type\": \"choropleth\"}], \"contour\": [{\"colorbar\": {\"outlinewidth\": 0, \"ticks\": \"\"}, \"colorscale\": [[0.0, \"#0d0887\"], [0.1111111111111111, \"#46039f\"], [0.2222222222222222, \"#7201a8\"], [0.3333333333333333, \"#9c179e\"], [0.4444444444444444, \"#bd3786\"], [0.5555555555555556, \"#d8576b\"], [0.6666666666666666, \"#ed7953\"], [0.7777777777777778, \"#fb9f3a\"], [0.8888888888888888, \"#fdca26\"], [1.0, \"#f0f921\"]], \"type\": \"contour\"}], \"contourcarpet\": [{\"colorbar\": {\"outlinewidth\": 0, \"ticks\": \"\"}, \"type\": \"contourcarpet\"}], \"heatmap\": [{\"colorbar\": {\"outlinewidth\": 0, \"ticks\": \"\"}, \"colorscale\": [[0.0, \"#0d0887\"], [0.1111111111111111, \"#46039f\"], [0.2222222222222222, \"#7201a8\"], [0.3333333333333333, \"#9c179e\"], [0.4444444444444444, \"#bd3786\"], [0.5555555555555556, \"#d8576b\"], [0.6666666666666666, \"#ed7953\"], [0.7777777777777778, \"#fb9f3a\"], [0.8888888888888888, \"#fdca26\"], [1.0, \"#f0f921\"]], \"type\": \"heatmap\"}], \"heatmapgl\": [{\"colorbar\": {\"outlinewidth\": 0, \"ticks\": \"\"}, \"colorscale\": [[0.0, \"#0d0887\"], [0.1111111111111111, \"#46039f\"], [0.2222222222222222, \"#7201a8\"], [0.3333333333333333, \"#9c179e\"], [0.4444444444444444, \"#bd3786\"], [0.5555555555555556, \"#d8576b\"], [0.6666666666666666, \"#ed7953\"], [0.7777777777777778, \"#fb9f3a\"], [0.8888888888888888, \"#fdca26\"], [1.0, \"#f0f921\"]], \"type\": \"heatmapgl\"}], \"histogram\": [{\"marker\": {\"colorbar\": {\"outlinewidth\": 0, \"ticks\": \"\"}}, \"type\": \"histogram\"}], \"histogram2d\": [{\"colorbar\": {\"outlinewidth\": 0, \"ticks\": \"\"}, \"colorscale\": [[0.0, \"#0d0887\"], [0.1111111111111111, \"#46039f\"], [0.2222222222222222, \"#7201a8\"], [0.3333333333333333, \"#9c179e\"], [0.4444444444444444, \"#bd3786\"], [0.5555555555555556, \"#d8576b\"], [0.6666666666666666, \"#ed7953\"], [0.7777777777777778, \"#fb9f3a\"], [0.8888888888888888, \"#fdca26\"], [1.0, \"#f0f921\"]], \"type\": \"histogram2d\"}], \"histogram2dcontour\": [{\"colorbar\": {\"outlinewidth\": 0, \"ticks\": \"\"}, \"colorscale\": [[0.0, \"#0d0887\"], [0.1111111111111111, \"#46039f\"], [0.2222222222222222, \"#7201a8\"], [0.3333333333333333, \"#9c179e\"], [0.4444444444444444, \"#bd3786\"], [0.5555555555555556, \"#d8576b\"], [0.6666666666666666, \"#ed7953\"], [0.7777777777777778, \"#fb9f3a\"], [0.8888888888888888, \"#fdca26\"], [1.0, \"#f0f921\"]], \"type\": \"histogram2dcontour\"}], \"mesh3d\": [{\"colorbar\": {\"outlinewidth\": 0, \"ticks\": \"\"}, \"type\": \"mesh3d\"}], \"parcoords\": [{\"line\": {\"colorbar\": {\"outlinewidth\": 0, \"ticks\": \"\"}}, \"type\": \"parcoords\"}], \"pie\": [{\"automargin\": true, \"type\": \"pie\"}], \"scatter\": [{\"marker\": {\"line\": {\"color\": \"#283442\"}}, \"type\": \"scatter\"}], \"scatter3d\": [{\"line\": {\"colorbar\": {\"outlinewidth\": 0, \"ticks\": \"\"}}, \"marker\": {\"colorbar\": {\"outlinewidth\": 0, \"ticks\": \"\"}}, \"type\": \"scatter3d\"}], \"scattercarpet\": [{\"marker\": {\"colorbar\": {\"outlinewidth\": 0, \"ticks\": \"\"}}, \"type\": \"scattercarpet\"}], \"scattergeo\": [{\"marker\": {\"colorbar\": {\"outlinewidth\": 0, \"ticks\": \"\"}}, \"type\": \"scattergeo\"}], \"scattergl\": [{\"marker\": {\"line\": {\"color\": \"#283442\"}}, \"type\": \"scattergl\"}], \"scattermapbox\": [{\"marker\": {\"colorbar\": {\"outlinewidth\": 0, \"ticks\": \"\"}}, \"type\": \"scattermapbox\"}], \"scatterpolar\": [{\"marker\": {\"colorbar\": {\"outlinewidth\": 0, \"ticks\": \"\"}}, \"type\": \"scatterpolar\"}], \"scatterpolargl\": [{\"marker\": {\"colorbar\": {\"outlinewidth\": 0, \"ticks\": \"\"}}, \"type\": \"scatterpolargl\"}], \"scatterternary\": [{\"marker\": {\"colorbar\": {\"outlinewidth\": 0, \"ticks\": \"\"}}, \"type\": \"scatterternary\"}], \"surface\": [{\"colorbar\": {\"outlinewidth\": 0, \"ticks\": \"\"}, \"colorscale\": [[0.0, \"#0d0887\"], [0.1111111111111111, \"#46039f\"], [0.2222222222222222, \"#7201a8\"], [0.3333333333333333, \"#9c179e\"], [0.4444444444444444, \"#bd3786\"], [0.5555555555555556, \"#d8576b\"], [0.6666666666666666, \"#ed7953\"], [0.7777777777777778, \"#fb9f3a\"], [0.8888888888888888, \"#fdca26\"], [1.0, \"#f0f921\"]], \"type\": \"surface\"}], \"table\": [{\"cells\": {\"fill\": {\"color\": \"#506784\"}, \"line\": {\"color\": \"rgb(17,17,17)\"}}, \"header\": {\"fill\": {\"color\": \"#2a3f5f\"}, \"line\": {\"color\": \"rgb(17,17,17)\"}}, \"type\": \"table\"}]}, \"layout\": {\"annotationdefaults\": {\"arrowcolor\": \"#f2f5fa\", \"arrowhead\": 0, \"arrowwidth\": 1}, \"coloraxis\": {\"colorbar\": {\"outlinewidth\": 0, \"ticks\": \"\"}}, \"colorscale\": {\"diverging\": [[0, \"#8e0152\"], [0.1, \"#c51b7d\"], [0.2, \"#de77ae\"], [0.3, \"#f1b6da\"], [0.4, \"#fde0ef\"], [0.5, \"#f7f7f7\"], [0.6, \"#e6f5d0\"], [0.7, \"#b8e186\"], [0.8, \"#7fbc41\"], [0.9, \"#4d9221\"], [1, \"#276419\"]], \"sequential\": [[0.0, \"#0d0887\"], [0.1111111111111111, \"#46039f\"], [0.2222222222222222, \"#7201a8\"], [0.3333333333333333, \"#9c179e\"], [0.4444444444444444, \"#bd3786\"], [0.5555555555555556, \"#d8576b\"], [0.6666666666666666, \"#ed7953\"], [0.7777777777777778, \"#fb9f3a\"], [0.8888888888888888, \"#fdca26\"], [1.0, \"#f0f921\"]], \"sequentialminus\": [[0.0, \"#0d0887\"], [0.1111111111111111, \"#46039f\"], [0.2222222222222222, \"#7201a8\"], [0.3333333333333333, \"#9c179e\"], [0.4444444444444444, \"#bd3786\"], [0.5555555555555556, \"#d8576b\"], [0.6666666666666666, \"#ed7953\"], [0.7777777777777778, \"#fb9f3a\"], [0.8888888888888888, \"#fdca26\"], [1.0, \"#f0f921\"]]}, \"colorway\": [\"#636efa\", \"#EF553B\", \"#00cc96\", \"#ab63fa\", \"#FFA15A\", \"#19d3f3\", \"#FF6692\", \"#B6E880\", \"#FF97FF\", \"#FECB52\"], \"font\": {\"color\": \"#f2f5fa\"}, \"geo\": {\"bgcolor\": \"rgb(17,17,17)\", \"lakecolor\": \"rgb(17,17,17)\", \"landcolor\": \"rgb(17,17,17)\", \"showlakes\": true, \"showland\": true, \"subunitcolor\": \"#506784\"}, \"hoverlabel\": {\"align\": \"left\"}, \"hovermode\": \"closest\", \"mapbox\": {\"style\": \"dark\"}, \"paper_bgcolor\": \"rgb(17,17,17)\", \"plot_bgcolor\": \"rgb(17,17,17)\", \"polar\": {\"angularaxis\": {\"gridcolor\": \"#506784\", \"linecolor\": \"#506784\", \"ticks\": \"\"}, \"bgcolor\": \"rgb(17,17,17)\", \"radialaxis\": {\"gridcolor\": \"#506784\", \"linecolor\": \"#506784\", \"ticks\": \"\"}}, \"scene\": {\"xaxis\": {\"backgroundcolor\": \"rgb(17,17,17)\", \"gridcolor\": \"#506784\", \"gridwidth\": 2, \"linecolor\": \"#506784\", \"showbackground\": true, \"ticks\": \"\", \"zerolinecolor\": \"#C8D4E3\"}, \"yaxis\": {\"backgroundcolor\": \"rgb(17,17,17)\", \"gridcolor\": \"#506784\", \"gridwidth\": 2, \"linecolor\": \"#506784\", \"showbackground\": true, \"ticks\": \"\", \"zerolinecolor\": \"#C8D4E3\"}, \"zaxis\": {\"backgroundcolor\": \"rgb(17,17,17)\", \"gridcolor\": \"#506784\", \"gridwidth\": 2, \"linecolor\": \"#506784\", \"showbackground\": true, \"ticks\": \"\", \"zerolinecolor\": \"#C8D4E3\"}}, \"shapedefaults\": {\"line\": {\"color\": \"#f2f5fa\"}}, \"sliderdefaults\": {\"bgcolor\": \"#C8D4E3\", \"bordercolor\": \"rgb(17,17,17)\", \"borderwidth\": 1, \"tickwidth\": 0}, \"ternary\": {\"aaxis\": {\"gridcolor\": \"#506784\", \"linecolor\": \"#506784\", \"ticks\": \"\"}, \"baxis\": {\"gridcolor\": \"#506784\", \"linecolor\": \"#506784\", \"ticks\": \"\"}, \"bgcolor\": \"rgb(17,17,17)\", \"caxis\": {\"gridcolor\": \"#506784\", \"linecolor\": \"#506784\", \"ticks\": \"\"}}, \"title\": {\"x\": 0.05}, \"updatemenudefaults\": {\"bgcolor\": \"#506784\", \"borderwidth\": 0}, \"xaxis\": {\"automargin\": true, \"gridcolor\": \"#283442\", \"linecolor\": \"#506784\", \"ticks\": \"\", \"title\": {\"standoff\": 15}, \"zerolinecolor\": \"#283442\", \"zerolinewidth\": 2}, \"yaxis\": {\"automargin\": true, \"gridcolor\": \"#283442\", \"linecolor\": \"#506784\", \"ticks\": \"\", \"title\": {\"standoff\": 15}, \"zerolinecolor\": \"#283442\", \"zerolinewidth\": 2}}}, \"xaxis\": {\"anchor\": \"y\", \"domain\": [0.0, 1.0]}, \"xaxis2\": {\"anchor\": \"y2\", \"domain\": [0.0, 1.0]}, \"xaxis3\": {\"anchor\": \"y3\", \"domain\": [0.0, 1.0]}, \"yaxis\": {\"anchor\": \"x\", \"domain\": [0.7777777777777778, 1.0]}, \"yaxis2\": {\"anchor\": \"x2\", \"domain\": [0.3888888888888889, 0.6111111111111112]}, \"yaxis3\": {\"anchor\": \"x3\", \"domain\": [0.0, 0.22222222222222224]}},\n",
       "                        {\"responsive\": true}\n",
       "                    ).then(function(){\n",
       "                            \n",
       "var gd = document.getElementById('2c35bbf9-2da3-485f-adc7-194a522cdd43');\n",
       "var x = new MutationObserver(function (mutations, observer) {{\n",
       "        var display = window.getComputedStyle(gd).display;\n",
       "        if (!display || display === 'none') {{\n",
       "            console.log([gd, 'removed!']);\n",
       "            Plotly.purge(gd);\n",
       "            observer.disconnect();\n",
       "        }}\n",
       "}});\n",
       "\n",
       "// Listen for the removal of the full notebook cells\n",
       "var notebookContainer = gd.closest('#notebook-container');\n",
       "if (notebookContainer) {{\n",
       "    x.observe(notebookContainer, {childList: true});\n",
       "}}\n",
       "\n",
       "// Listen for the clearing of the current output cell\n",
       "var outputEl = gd.closest('.output');\n",
       "if (outputEl) {{\n",
       "    x.observe(outputEl, {childList: true});\n",
       "}}\n",
       "\n",
       "                        })\n",
       "                };\n",
       "                });\n",
       "            </script>\n",
       "        </div>"
      ]
     },
     "metadata": {},
     "output_type": "display_data"
    }
   ],
   "source": [
    "fig1 = make_subplots(rows=3, cols=1, subplot_titles=(\"Number of Reviews per User\", \"Percentage of Products per Number of Reviews\", \\\n",
    "                                                     \"Percentage of Products per Price\"))\n",
    "\n",
    "fig1.add_trace(go.Bar(y=freq, x=n_users, orientation='h', hovertemplate=\"%{x} users with %{y} reviews\"), row=1, col=1)\n",
    "fig1.add_trace(go.Histogram(x=frequ, y=n_items, histnorm='percent', nbinsx=100, hovertemplate=\"%{y:0.0f}% of products with %{x} reviews\"), row=2, col=1)\n",
    "fig1.add_trace(go.Histogram(x=pfreq, y=n_price, histnorm='percent', nbinsx=100, hovertemplate=\"%{y:0.0f}% of products with prices between %{x}\"), row=3, col=1)\n",
    "            \n",
    "fig1.update_layout(template='plotly_dark', showlegend=False, height=1000)\n",
    "\n",
    "fig1.show()"
   ]
  },
  {
   "cell_type": "code",
   "execution_count": 103,
   "metadata": {},
   "outputs": [],
   "source": [
    "df_p = df[['price', 'rating']]"
   ]
  },
  {
   "cell_type": "code",
   "execution_count": 105,
   "metadata": {},
   "outputs": [],
   "source": [
    "df_p1 = df_p[(df_p != 0).all(1)]   # like in the previous graph, let's exclude null values of price\n",
    "df_p2 = df_p1[(df_p1 < 100).all(1)]  # given that few products cost more than $100, let's drop them to see the main distribution in more detail"
   ]
  },
  {
   "cell_type": "code",
   "execution_count": 106,
   "metadata": {},
   "outputs": [
    {
     "data": {
      "application/vnd.plotly.v1+json": {
       "config": {
        "plotlyServerURL": "https://plot.ly"
       },
       "data": [
        {
         "hovertemplate": "price=%{x}<br>rating=%{y}<extra></extra>",
         "legendgroup": "",
         "marker": {
          "color": "#636efa",
          "symbol": "circle"
         },
         "mode": "markers",
         "name": "",
         "orientation": "v",
         "showlegend": false,
         "type": "scatter",
         "x": [
          15.27,
          15.27,
          15.27,
          10.15,
          10.15,
          10.15,
          10.15,
          4,
          4,
          4,
          4,
          4,
          4,
          4,
          4,
          4,
          4,
          4,
          4,
          4,
          4,
          4,
          4,
          4,
          4,
          4,
          4,
          4,
          4,
          4,
          4,
          4,
          4,
          4,
          4,
          4,
          4,
          13.97,
          13.97,
          13.97,
          13.97,
          13.97,
          47.88,
          47.88,
          47.88,
          47.88,
          47.88,
          47.88,
          47.88,
          47.88,
          47.88,
          47.88,
          47.88,
          47.88,
          47.88,
          47.88,
          47.88,
          47.88,
          47.88,
          47.88,
          47.88,
          47.88,
          47.88,
          47.88,
          47.88,
          47.88,
          47.88,
          47.88,
          47.88,
          47.88,
          47.88,
          47.88,
          47.88,
          47.88,
          47.88,
          47.88,
          47.88,
          47.88,
          47.88,
          47.88,
          47.88,
          47.88,
          47.88,
          47.88,
          47.88,
          15.99,
          15.99,
          15.99,
          15.99,
          15.99,
          15.99,
          15.99,
          15.99,
          15.99,
          44.88,
          44.88,
          44.88,
          44.88,
          44.88,
          44.88,
          44.88,
          44.88,
          44.88,
          44.88,
          44.88,
          44.88,
          44.88,
          44.88,
          44.88,
          44.88,
          44.88,
          44.88,
          9.94,
          9.94,
          9.94,
          9.94,
          9.94,
          9.94,
          9.94,
          9.94,
          9.94,
          9.94,
          9.94,
          9.94,
          9.94,
          9.94,
          9.94,
          9.94,
          9.94,
          9.94,
          9.94,
          9.94,
          9.94,
          9.94,
          9.94,
          9.94,
          9.94,
          9.94,
          9.94,
          9.94,
          9.94,
          9.94,
          9.94,
          9.94,
          9.94,
          17.89,
          17.89,
          17.89,
          17.89,
          17.89,
          17.89,
          17.89,
          17.89,
          17.89,
          17.89,
          17.89,
          17.89,
          17.89,
          17.89,
          17,
          17,
          99.26,
          99.26,
          99.26,
          99.26,
          99.26,
          99.26,
          99.26,
          99.26,
          99.26,
          99.26,
          99.26,
          99.26,
          99.26,
          99.26,
          11.15,
          11.15,
          11.15,
          11.15,
          11.15,
          11.15,
          11.15,
          11.15,
          11.15,
          11.15,
          11.15,
          11.15,
          11.15,
          11.15,
          11.15,
          11.15,
          11.15,
          11.15,
          11.15,
          11.15,
          11.15,
          11.15,
          11.15,
          11.15,
          11.15,
          11.15,
          11.15,
          11.15,
          11.15,
          11.15,
          11.15,
          11.15,
          11.15,
          11.15,
          11.15,
          11.15,
          11.15,
          11.15,
          11.15,
          11.15,
          11.15,
          11.15,
          11.15,
          11.15,
          11.15,
          11.15,
          11.15,
          11.15,
          11.15,
          11.15,
          11.15,
          11.15,
          11.15,
          11.15,
          11.15,
          11.15,
          11.15,
          11.15,
          11.15,
          11.15,
          11.15,
          11.15,
          11.15,
          11.15,
          11.15,
          11.15,
          11.15,
          11.15,
          11.15,
          11.15,
          11.15,
          11.15,
          11.15,
          11.15,
          11.15,
          11.15,
          11.15,
          11.15,
          11.15,
          11.15,
          11.15,
          11.15,
          11.15,
          11.15,
          11.15,
          11.15,
          11.15,
          11.15,
          11.15,
          11.15,
          11.15,
          11.15,
          11.15,
          11.15,
          11.15,
          11.15,
          11.15,
          11.15,
          11.15,
          11.15,
          11.15,
          11.15,
          11.15,
          11.15,
          11.15,
          11.15,
          11.15,
          11.15,
          11.15,
          11.15,
          11.15,
          11.15,
          11.15,
          11.15,
          11.15,
          11.15,
          11.15,
          11.15,
          11.15,
          11.15,
          11.15,
          11.15,
          11.15,
          11.15,
          11.15,
          11.15,
          11.15,
          11.15,
          11.15,
          11.15,
          11.15,
          11.15,
          11.15,
          11.15,
          11.15,
          11.15,
          11.15,
          11.15,
          11.15,
          11.15,
          11.15,
          11.15,
          11.15,
          11.15,
          11.15,
          11.15,
          11.15,
          11.15,
          11.15,
          11.15,
          11.15,
          11.15,
          11.15,
          11.15,
          11.15,
          11.15,
          11.15,
          11.15,
          11.15,
          11.15,
          11.15,
          11.15,
          11.15,
          11.15,
          11.15,
          11.15,
          11.15,
          11.15,
          11.15,
          11.15,
          11.15,
          11.15,
          11.15,
          11.15,
          11.15,
          11.15,
          11.15,
          11.15,
          11.15,
          11.15,
          11.15,
          11.15,
          11.15,
          11.15,
          11.15,
          11.15,
          11.15,
          11.15,
          11.15,
          11.15,
          11.15,
          11.15,
          11.15,
          11.15,
          11.15,
          11.15,
          11.15,
          11.15,
          11.15,
          11.15,
          11.15,
          11.15,
          11.15,
          11.15,
          11.15,
          11.15,
          11.15,
          11.15,
          11.15,
          11.15,
          11.15,
          11.15,
          11.15,
          11.15,
          11.15,
          11.15,
          11.15,
          11.15,
          11.15,
          11.15,
          11.15,
          11.15,
          11.15,
          11.15,
          11.15,
          11.15,
          11.15,
          11.15,
          11.15,
          11.15,
          11.15,
          11.15,
          11.15,
          11.15,
          11.15,
          11.15,
          11.15,
          11.15,
          11.15,
          11.15,
          11.15,
          11.15,
          11.15,
          11.15,
          11.15,
          11.15,
          11.15,
          11.15,
          11.15,
          11.15,
          11.15,
          11.15,
          11.15,
          11.15,
          11.15,
          11.15,
          11.15,
          11.15,
          11.15,
          11.15,
          11.15,
          11.15,
          11.15,
          11.15,
          11.15,
          11.15,
          11.15,
          11.15,
          11.15,
          11.15,
          11.15,
          11.15,
          11.15,
          11.15,
          11.15,
          11.15,
          59.99,
          59.99,
          59.99,
          59.99,
          59.99,
          59.99,
          59.99,
          59.99,
          59.99,
          59.99,
          59.99,
          59.99,
          59.99,
          59.99,
          59.99,
          59.99,
          59.99,
          59.99,
          59.99,
          59.99,
          59.99,
          59.99,
          59.99,
          59.99,
          59.99,
          59.99,
          59.99,
          59.99,
          59.99,
          59.99,
          59.99,
          4.99,
          4.99,
          4.99,
          4.99,
          4.99,
          4.99,
          4.99,
          4.99,
          4.99,
          4.99,
          4.99,
          4.99,
          4.99,
          4.99,
          4.99,
          4.99,
          4.99,
          4.99,
          8.47,
          8.47,
          8.47,
          8.47,
          8.47,
          27.99,
          27.99,
          27.99,
          27.99,
          27.99,
          27.99,
          27.99,
          27.99,
          27.99,
          27.99,
          27.99,
          27.99,
          27.99,
          27.99,
          27.99,
          27.99,
          27.99,
          27.99,
          27.99,
          27.99,
          27.99,
          27.99,
          27.99,
          27.99,
          27.99,
          27.99,
          27.99,
          27.99,
          27.99,
          27.99,
          27.99,
          27.99,
          27.99,
          27.99,
          27.99,
          27.99,
          27.99,
          27.99,
          27.99,
          27.99,
          27.99,
          27.99,
          27.99,
          27.99,
          27.99,
          27.99,
          27.99,
          27.99,
          27.99,
          27.99,
          27.99,
          27.99,
          27.99,
          27.99,
          27.99,
          27.99,
          27.99,
          27.99,
          27.99,
          27.99,
          27.99,
          27.99,
          27.99,
          27.99,
          27.99,
          27.99,
          27.99,
          27.99,
          27.99,
          27.99,
          27.99,
          27.99,
          27.99,
          27.99,
          27.99,
          27.99,
          27.99,
          27.99,
          27.99,
          27.99,
          27.99,
          27.99,
          27.99,
          27.99,
          27.99,
          27.99,
          27.99,
          27.99,
          27.99,
          27.99,
          27.99,
          27.99,
          27.99,
          27.99,
          27.99,
          27.99,
          89.99,
          89.99,
          89.99,
          89.99,
          89.99,
          89.99,
          89.99,
          89.99,
          89.99,
          89.99,
          89.99,
          89.99,
          89.99,
          90,
          90,
          90,
          90,
          90,
          90,
          90,
          90,
          90,
          90,
          90,
          90,
          90,
          90,
          90,
          90,
          90,
          90,
          90,
          90,
          90,
          90,
          90,
          90,
          90,
          90,
          90,
          90,
          90,
          90,
          90,
          90,
          90,
          90,
          90,
          90,
          90,
          90,
          90,
          90,
          90,
          90,
          90,
          90,
          90,
          90,
          90,
          90,
          90,
          90,
          90,
          90,
          90,
          90,
          90,
          90,
          14.95,
          14.95,
          14.99,
          14.99,
          14.99,
          14.99,
          14.99,
          14.99,
          14.99,
          14.99,
          12.99,
          12.99,
          12.99,
          12.99,
          5.99,
          5.99,
          5.99,
          5.99,
          5.99,
          5.99,
          5.99,
          5.99,
          5.99,
          5.99,
          5.99,
          5.99,
          5.99,
          5.99,
          9.39,
          9.39,
          14.6,
          14.6,
          14.6,
          14.6,
          14.6,
          14.6,
          12.95,
          12.95,
          12.95,
          12.95,
          12.95,
          12.95,
          12.95,
          12.95,
          12.95,
          12.95,
          12.95,
          12.95,
          61.99,
          61.99,
          61.99,
          61.99,
          61.99,
          61.99,
          61.99,
          61.99,
          61.99,
          61.99,
          61.99,
          61.99,
          61.99,
          61.99,
          61.99,
          61.99,
          61.99,
          61.99,
          61.99,
          61.99,
          61.99,
          61.99,
          61.99,
          61.99,
          61.99,
          61.99,
          61.99,
          61.99,
          61.99,
          61.99,
          61.99,
          61.99,
          61.99,
          61.99,
          61.99,
          61.99,
          61.99,
          61.99,
          61.99
         ],
         "xaxis": "x",
         "y": [
          5,
          3,
          3,
          4,
          5,
          5,
          5,
          5,
          5,
          5,
          5,
          3,
          4,
          5,
          5,
          1,
          5,
          5,
          4,
          5,
          5,
          5,
          5,
          5,
          5,
          5,
          4,
          5,
          3,
          5,
          5,
          5,
          5,
          5,
          5,
          5,
          3,
          5,
          5,
          5,
          5,
          5,
          4,
          5,
          3,
          2,
          5,
          5,
          4,
          5,
          5,
          4,
          5,
          5,
          5,
          5,
          5,
          4,
          5,
          1,
          5,
          5,
          5,
          5,
          5,
          5,
          4,
          4,
          5,
          5,
          4,
          5,
          5,
          5,
          5,
          5,
          5,
          5,
          5,
          5,
          5,
          4,
          5,
          5,
          5,
          5,
          4,
          5,
          5,
          5,
          4,
          5,
          5,
          5,
          5,
          5,
          3,
          5,
          5,
          5,
          4,
          2,
          4,
          5,
          5,
          1,
          5,
          3,
          5,
          5,
          5,
          5,
          4,
          5,
          5,
          5,
          5,
          5,
          5,
          5,
          5,
          3,
          5,
          4,
          5,
          5,
          5,
          2,
          3,
          5,
          5,
          5,
          5,
          5,
          4,
          5,
          5,
          5,
          3,
          5,
          5,
          5,
          3,
          4,
          5,
          5,
          5,
          5,
          5,
          3,
          5,
          5,
          4,
          5,
          4,
          5,
          5,
          5,
          4,
          3,
          5,
          3,
          5,
          5,
          4,
          5,
          5,
          4,
          4,
          5,
          5,
          5,
          5,
          4,
          5,
          5,
          5,
          5,
          4,
          5,
          5,
          5,
          4,
          5,
          5,
          5,
          5,
          5,
          2,
          5,
          5,
          5,
          5,
          5,
          5,
          5,
          5,
          5,
          5,
          5,
          5,
          5,
          5,
          5,
          5,
          5,
          5,
          5,
          5,
          5,
          5,
          4,
          5,
          5,
          5,
          5,
          5,
          5,
          5,
          5,
          5,
          5,
          5,
          1,
          5,
          5,
          5,
          5,
          5,
          5,
          5,
          5,
          5,
          3,
          5,
          5,
          4,
          4,
          5,
          5,
          5,
          4,
          5,
          5,
          4,
          5,
          5,
          5,
          5,
          5,
          5,
          5,
          4,
          5,
          5,
          5,
          5,
          5,
          5,
          5,
          5,
          5,
          4,
          5,
          5,
          5,
          5,
          5,
          5,
          5,
          5,
          5,
          5,
          5,
          4,
          5,
          5,
          5,
          5,
          1,
          5,
          5,
          1,
          5,
          1,
          5,
          5,
          5,
          5,
          5,
          5,
          5,
          5,
          5,
          5,
          5,
          5,
          5,
          3,
          5,
          5,
          5,
          5,
          5,
          5,
          1,
          2,
          5,
          5,
          1,
          5,
          5,
          5,
          5,
          4,
          5,
          4,
          5,
          2,
          4,
          5,
          5,
          5,
          5,
          5,
          5,
          2,
          5,
          5,
          5,
          5,
          5,
          5,
          5,
          5,
          5,
          5,
          5,
          5,
          5,
          4,
          5,
          5,
          5,
          5,
          5,
          5,
          5,
          5,
          5,
          5,
          5,
          5,
          4,
          5,
          5,
          5,
          5,
          5,
          5,
          5,
          5,
          5,
          5,
          5,
          5,
          5,
          5,
          5,
          5,
          5,
          5,
          5,
          5,
          5,
          5,
          5,
          1,
          2,
          5,
          5,
          2,
          5,
          5,
          5,
          5,
          5,
          5,
          5,
          5,
          1,
          5,
          5,
          5,
          5,
          5,
          5,
          5,
          5,
          5,
          5,
          5,
          5,
          5,
          5,
          5,
          5,
          5,
          5,
          5,
          5,
          5,
          3,
          4,
          5,
          5,
          3,
          5,
          5,
          5,
          4,
          5,
          5,
          5,
          5,
          1,
          5,
          5,
          2,
          4,
          1,
          5,
          5,
          5,
          5,
          5,
          5,
          5,
          5,
          5,
          5,
          5,
          5,
          5,
          5,
          5,
          5,
          5,
          5,
          5,
          5,
          5,
          1,
          5,
          1,
          4,
          1,
          1,
          1,
          2,
          5,
          5,
          5,
          3,
          1,
          5,
          1,
          2,
          5,
          2,
          5,
          3,
          4,
          1,
          1,
          5,
          1,
          5,
          5,
          5,
          1,
          1,
          5,
          5,
          5,
          5,
          1,
          5,
          5,
          5,
          4,
          5,
          5,
          5,
          5,
          4,
          5,
          5,
          5,
          4,
          1,
          4,
          4,
          1,
          1,
          5,
          5,
          5,
          5,
          5,
          4,
          5,
          5,
          5,
          5,
          5,
          5,
          3,
          2,
          3,
          3,
          4,
          5,
          5,
          4,
          5,
          5,
          5,
          4,
          4,
          5,
          4,
          5,
          5,
          5,
          5,
          5,
          5,
          5,
          5,
          5,
          5,
          5,
          5,
          5,
          5,
          5,
          4,
          5,
          1,
          1,
          1,
          4,
          3,
          5,
          3,
          2,
          5,
          5,
          1,
          5,
          2,
          4,
          4,
          5,
          1,
          4,
          5,
          5,
          4,
          5,
          5,
          5,
          2,
          1,
          5,
          5,
          4,
          4,
          5,
          2,
          5,
          1,
          5,
          5,
          5,
          5,
          5,
          4,
          5,
          3,
          2,
          5,
          3,
          5,
          1,
          5,
          2,
          5,
          5,
          2,
          3,
          1,
          5,
          5,
          5,
          5,
          4,
          5,
          5,
          4,
          5,
          5,
          4,
          4,
          5,
          4,
          5,
          5,
          5,
          5,
          5,
          5,
          5,
          5,
          1,
          5,
          5,
          5,
          5,
          5,
          1,
          5,
          5,
          4,
          5,
          5,
          5,
          4,
          5,
          5,
          5,
          1,
          5,
          5,
          5,
          4,
          5,
          4,
          5,
          5,
          5,
          5,
          5,
          5,
          4,
          5,
          5,
          4,
          5,
          5,
          5,
          1,
          5,
          5,
          5,
          5,
          1,
          5,
          5,
          5,
          5,
          5,
          4,
          1,
          5,
          5,
          5,
          4,
          2,
          4,
          5,
          5,
          4,
          4,
          3,
          2,
          3,
          3,
          5,
          5,
          5,
          4,
          4,
          4,
          4,
          5,
          3,
          4,
          2,
          4,
          5,
          5,
          4,
          5,
          5,
          5,
          5,
          5,
          5,
          2,
          4,
          5,
          4,
          5,
          4,
          4,
          3,
          5,
          2,
          5,
          3,
          4,
          5,
          2,
          5,
          3,
          5,
          5,
          4,
          1,
          2,
          5,
          5,
          1,
          5,
          1,
          5,
          5,
          5,
          5,
          5,
          5,
          3,
          4,
          4,
          5,
          5,
          5,
          3,
          4,
          4,
          5,
          3,
          5,
          5,
          4
         ],
         "yaxis": "y"
        },
        {
         "alignmentgroup": "True",
         "hovertemplate": "price=%{x}<extra></extra>",
         "legendgroup": "",
         "marker": {
          "color": "#636efa",
          "symbol": "circle"
         },
         "name": "",
         "offsetgroup": "",
         "scalegroup": "x",
         "showlegend": false,
         "type": "violin",
         "x": [
          15.27,
          15.27,
          15.27,
          10.15,
          10.15,
          10.15,
          10.15,
          4,
          4,
          4,
          4,
          4,
          4,
          4,
          4,
          4,
          4,
          4,
          4,
          4,
          4,
          4,
          4,
          4,
          4,
          4,
          4,
          4,
          4,
          4,
          4,
          4,
          4,
          4,
          4,
          4,
          4,
          13.97,
          13.97,
          13.97,
          13.97,
          13.97,
          47.88,
          47.88,
          47.88,
          47.88,
          47.88,
          47.88,
          47.88,
          47.88,
          47.88,
          47.88,
          47.88,
          47.88,
          47.88,
          47.88,
          47.88,
          47.88,
          47.88,
          47.88,
          47.88,
          47.88,
          47.88,
          47.88,
          47.88,
          47.88,
          47.88,
          47.88,
          47.88,
          47.88,
          47.88,
          47.88,
          47.88,
          47.88,
          47.88,
          47.88,
          47.88,
          47.88,
          47.88,
          47.88,
          47.88,
          47.88,
          47.88,
          47.88,
          47.88,
          15.99,
          15.99,
          15.99,
          15.99,
          15.99,
          15.99,
          15.99,
          15.99,
          15.99,
          44.88,
          44.88,
          44.88,
          44.88,
          44.88,
          44.88,
          44.88,
          44.88,
          44.88,
          44.88,
          44.88,
          44.88,
          44.88,
          44.88,
          44.88,
          44.88,
          44.88,
          44.88,
          9.94,
          9.94,
          9.94,
          9.94,
          9.94,
          9.94,
          9.94,
          9.94,
          9.94,
          9.94,
          9.94,
          9.94,
          9.94,
          9.94,
          9.94,
          9.94,
          9.94,
          9.94,
          9.94,
          9.94,
          9.94,
          9.94,
          9.94,
          9.94,
          9.94,
          9.94,
          9.94,
          9.94,
          9.94,
          9.94,
          9.94,
          9.94,
          9.94,
          17.89,
          17.89,
          17.89,
          17.89,
          17.89,
          17.89,
          17.89,
          17.89,
          17.89,
          17.89,
          17.89,
          17.89,
          17.89,
          17.89,
          17,
          17,
          99.26,
          99.26,
          99.26,
          99.26,
          99.26,
          99.26,
          99.26,
          99.26,
          99.26,
          99.26,
          99.26,
          99.26,
          99.26,
          99.26,
          11.15,
          11.15,
          11.15,
          11.15,
          11.15,
          11.15,
          11.15,
          11.15,
          11.15,
          11.15,
          11.15,
          11.15,
          11.15,
          11.15,
          11.15,
          11.15,
          11.15,
          11.15,
          11.15,
          11.15,
          11.15,
          11.15,
          11.15,
          11.15,
          11.15,
          11.15,
          11.15,
          11.15,
          11.15,
          11.15,
          11.15,
          11.15,
          11.15,
          11.15,
          11.15,
          11.15,
          11.15,
          11.15,
          11.15,
          11.15,
          11.15,
          11.15,
          11.15,
          11.15,
          11.15,
          11.15,
          11.15,
          11.15,
          11.15,
          11.15,
          11.15,
          11.15,
          11.15,
          11.15,
          11.15,
          11.15,
          11.15,
          11.15,
          11.15,
          11.15,
          11.15,
          11.15,
          11.15,
          11.15,
          11.15,
          11.15,
          11.15,
          11.15,
          11.15,
          11.15,
          11.15,
          11.15,
          11.15,
          11.15,
          11.15,
          11.15,
          11.15,
          11.15,
          11.15,
          11.15,
          11.15,
          11.15,
          11.15,
          11.15,
          11.15,
          11.15,
          11.15,
          11.15,
          11.15,
          11.15,
          11.15,
          11.15,
          11.15,
          11.15,
          11.15,
          11.15,
          11.15,
          11.15,
          11.15,
          11.15,
          11.15,
          11.15,
          11.15,
          11.15,
          11.15,
          11.15,
          11.15,
          11.15,
          11.15,
          11.15,
          11.15,
          11.15,
          11.15,
          11.15,
          11.15,
          11.15,
          11.15,
          11.15,
          11.15,
          11.15,
          11.15,
          11.15,
          11.15,
          11.15,
          11.15,
          11.15,
          11.15,
          11.15,
          11.15,
          11.15,
          11.15,
          11.15,
          11.15,
          11.15,
          11.15,
          11.15,
          11.15,
          11.15,
          11.15,
          11.15,
          11.15,
          11.15,
          11.15,
          11.15,
          11.15,
          11.15,
          11.15,
          11.15,
          11.15,
          11.15,
          11.15,
          11.15,
          11.15,
          11.15,
          11.15,
          11.15,
          11.15,
          11.15,
          11.15,
          11.15,
          11.15,
          11.15,
          11.15,
          11.15,
          11.15,
          11.15,
          11.15,
          11.15,
          11.15,
          11.15,
          11.15,
          11.15,
          11.15,
          11.15,
          11.15,
          11.15,
          11.15,
          11.15,
          11.15,
          11.15,
          11.15,
          11.15,
          11.15,
          11.15,
          11.15,
          11.15,
          11.15,
          11.15,
          11.15,
          11.15,
          11.15,
          11.15,
          11.15,
          11.15,
          11.15,
          11.15,
          11.15,
          11.15,
          11.15,
          11.15,
          11.15,
          11.15,
          11.15,
          11.15,
          11.15,
          11.15,
          11.15,
          11.15,
          11.15,
          11.15,
          11.15,
          11.15,
          11.15,
          11.15,
          11.15,
          11.15,
          11.15,
          11.15,
          11.15,
          11.15,
          11.15,
          11.15,
          11.15,
          11.15,
          11.15,
          11.15,
          11.15,
          11.15,
          11.15,
          11.15,
          11.15,
          11.15,
          11.15,
          11.15,
          11.15,
          11.15,
          11.15,
          11.15,
          11.15,
          11.15,
          11.15,
          11.15,
          11.15,
          11.15,
          11.15,
          11.15,
          11.15,
          11.15,
          11.15,
          11.15,
          11.15,
          11.15,
          11.15,
          11.15,
          11.15,
          11.15,
          11.15,
          11.15,
          11.15,
          11.15,
          11.15,
          11.15,
          11.15,
          11.15,
          11.15,
          11.15,
          11.15,
          11.15,
          11.15,
          11.15,
          11.15,
          11.15,
          11.15,
          11.15,
          11.15,
          11.15,
          59.99,
          59.99,
          59.99,
          59.99,
          59.99,
          59.99,
          59.99,
          59.99,
          59.99,
          59.99,
          59.99,
          59.99,
          59.99,
          59.99,
          59.99,
          59.99,
          59.99,
          59.99,
          59.99,
          59.99,
          59.99,
          59.99,
          59.99,
          59.99,
          59.99,
          59.99,
          59.99,
          59.99,
          59.99,
          59.99,
          59.99,
          4.99,
          4.99,
          4.99,
          4.99,
          4.99,
          4.99,
          4.99,
          4.99,
          4.99,
          4.99,
          4.99,
          4.99,
          4.99,
          4.99,
          4.99,
          4.99,
          4.99,
          4.99,
          8.47,
          8.47,
          8.47,
          8.47,
          8.47,
          27.99,
          27.99,
          27.99,
          27.99,
          27.99,
          27.99,
          27.99,
          27.99,
          27.99,
          27.99,
          27.99,
          27.99,
          27.99,
          27.99,
          27.99,
          27.99,
          27.99,
          27.99,
          27.99,
          27.99,
          27.99,
          27.99,
          27.99,
          27.99,
          27.99,
          27.99,
          27.99,
          27.99,
          27.99,
          27.99,
          27.99,
          27.99,
          27.99,
          27.99,
          27.99,
          27.99,
          27.99,
          27.99,
          27.99,
          27.99,
          27.99,
          27.99,
          27.99,
          27.99,
          27.99,
          27.99,
          27.99,
          27.99,
          27.99,
          27.99,
          27.99,
          27.99,
          27.99,
          27.99,
          27.99,
          27.99,
          27.99,
          27.99,
          27.99,
          27.99,
          27.99,
          27.99,
          27.99,
          27.99,
          27.99,
          27.99,
          27.99,
          27.99,
          27.99,
          27.99,
          27.99,
          27.99,
          27.99,
          27.99,
          27.99,
          27.99,
          27.99,
          27.99,
          27.99,
          27.99,
          27.99,
          27.99,
          27.99,
          27.99,
          27.99,
          27.99,
          27.99,
          27.99,
          27.99,
          27.99,
          27.99,
          27.99,
          27.99,
          27.99,
          27.99,
          27.99,
          89.99,
          89.99,
          89.99,
          89.99,
          89.99,
          89.99,
          89.99,
          89.99,
          89.99,
          89.99,
          89.99,
          89.99,
          89.99,
          90,
          90,
          90,
          90,
          90,
          90,
          90,
          90,
          90,
          90,
          90,
          90,
          90,
          90,
          90,
          90,
          90,
          90,
          90,
          90,
          90,
          90,
          90,
          90,
          90,
          90,
          90,
          90,
          90,
          90,
          90,
          90,
          90,
          90,
          90,
          90,
          90,
          90,
          90,
          90,
          90,
          90,
          90,
          90,
          90,
          90,
          90,
          90,
          90,
          90,
          90,
          90,
          90,
          90,
          90,
          90,
          14.95,
          14.95,
          14.99,
          14.99,
          14.99,
          14.99,
          14.99,
          14.99,
          14.99,
          14.99,
          12.99,
          12.99,
          12.99,
          12.99,
          5.99,
          5.99,
          5.99,
          5.99,
          5.99,
          5.99,
          5.99,
          5.99,
          5.99,
          5.99,
          5.99,
          5.99,
          5.99,
          5.99,
          9.39,
          9.39,
          14.6,
          14.6,
          14.6,
          14.6,
          14.6,
          14.6,
          12.95,
          12.95,
          12.95,
          12.95,
          12.95,
          12.95,
          12.95,
          12.95,
          12.95,
          12.95,
          12.95,
          12.95,
          61.99,
          61.99,
          61.99,
          61.99,
          61.99,
          61.99,
          61.99,
          61.99,
          61.99,
          61.99,
          61.99,
          61.99,
          61.99,
          61.99,
          61.99,
          61.99,
          61.99,
          61.99,
          61.99,
          61.99,
          61.99,
          61.99,
          61.99,
          61.99,
          61.99,
          61.99,
          61.99,
          61.99,
          61.99,
          61.99,
          61.99,
          61.99,
          61.99,
          61.99,
          61.99,
          61.99,
          61.99,
          61.99,
          61.99
         ],
         "xaxis": "x3",
         "yaxis": "y3"
        },
        {
         "alignmentgroup": "True",
         "hovertemplate": "rating=%{y}<extra></extra>",
         "legendgroup": "",
         "marker": {
          "color": "#636efa",
          "symbol": "circle"
         },
         "name": "",
         "offsetgroup": "",
         "scalegroup": "y",
         "showlegend": false,
         "type": "violin",
         "xaxis": "x2",
         "y": [
          5,
          3,
          3,
          4,
          5,
          5,
          5,
          5,
          5,
          5,
          5,
          3,
          4,
          5,
          5,
          1,
          5,
          5,
          4,
          5,
          5,
          5,
          5,
          5,
          5,
          5,
          4,
          5,
          3,
          5,
          5,
          5,
          5,
          5,
          5,
          5,
          3,
          5,
          5,
          5,
          5,
          5,
          4,
          5,
          3,
          2,
          5,
          5,
          4,
          5,
          5,
          4,
          5,
          5,
          5,
          5,
          5,
          4,
          5,
          1,
          5,
          5,
          5,
          5,
          5,
          5,
          4,
          4,
          5,
          5,
          4,
          5,
          5,
          5,
          5,
          5,
          5,
          5,
          5,
          5,
          5,
          4,
          5,
          5,
          5,
          5,
          4,
          5,
          5,
          5,
          4,
          5,
          5,
          5,
          5,
          5,
          3,
          5,
          5,
          5,
          4,
          2,
          4,
          5,
          5,
          1,
          5,
          3,
          5,
          5,
          5,
          5,
          4,
          5,
          5,
          5,
          5,
          5,
          5,
          5,
          5,
          3,
          5,
          4,
          5,
          5,
          5,
          2,
          3,
          5,
          5,
          5,
          5,
          5,
          4,
          5,
          5,
          5,
          3,
          5,
          5,
          5,
          3,
          4,
          5,
          5,
          5,
          5,
          5,
          3,
          5,
          5,
          4,
          5,
          4,
          5,
          5,
          5,
          4,
          3,
          5,
          3,
          5,
          5,
          4,
          5,
          5,
          4,
          4,
          5,
          5,
          5,
          5,
          4,
          5,
          5,
          5,
          5,
          4,
          5,
          5,
          5,
          4,
          5,
          5,
          5,
          5,
          5,
          2,
          5,
          5,
          5,
          5,
          5,
          5,
          5,
          5,
          5,
          5,
          5,
          5,
          5,
          5,
          5,
          5,
          5,
          5,
          5,
          5,
          5,
          5,
          4,
          5,
          5,
          5,
          5,
          5,
          5,
          5,
          5,
          5,
          5,
          5,
          1,
          5,
          5,
          5,
          5,
          5,
          5,
          5,
          5,
          5,
          3,
          5,
          5,
          4,
          4,
          5,
          5,
          5,
          4,
          5,
          5,
          4,
          5,
          5,
          5,
          5,
          5,
          5,
          5,
          4,
          5,
          5,
          5,
          5,
          5,
          5,
          5,
          5,
          5,
          4,
          5,
          5,
          5,
          5,
          5,
          5,
          5,
          5,
          5,
          5,
          5,
          4,
          5,
          5,
          5,
          5,
          1,
          5,
          5,
          1,
          5,
          1,
          5,
          5,
          5,
          5,
          5,
          5,
          5,
          5,
          5,
          5,
          5,
          5,
          5,
          3,
          5,
          5,
          5,
          5,
          5,
          5,
          1,
          2,
          5,
          5,
          1,
          5,
          5,
          5,
          5,
          4,
          5,
          4,
          5,
          2,
          4,
          5,
          5,
          5,
          5,
          5,
          5,
          2,
          5,
          5,
          5,
          5,
          5,
          5,
          5,
          5,
          5,
          5,
          5,
          5,
          5,
          4,
          5,
          5,
          5,
          5,
          5,
          5,
          5,
          5,
          5,
          5,
          5,
          5,
          4,
          5,
          5,
          5,
          5,
          5,
          5,
          5,
          5,
          5,
          5,
          5,
          5,
          5,
          5,
          5,
          5,
          5,
          5,
          5,
          5,
          5,
          5,
          5,
          1,
          2,
          5,
          5,
          2,
          5,
          5,
          5,
          5,
          5,
          5,
          5,
          5,
          1,
          5,
          5,
          5,
          5,
          5,
          5,
          5,
          5,
          5,
          5,
          5,
          5,
          5,
          5,
          5,
          5,
          5,
          5,
          5,
          5,
          5,
          3,
          4,
          5,
          5,
          3,
          5,
          5,
          5,
          4,
          5,
          5,
          5,
          5,
          1,
          5,
          5,
          2,
          4,
          1,
          5,
          5,
          5,
          5,
          5,
          5,
          5,
          5,
          5,
          5,
          5,
          5,
          5,
          5,
          5,
          5,
          5,
          5,
          5,
          5,
          5,
          1,
          5,
          1,
          4,
          1,
          1,
          1,
          2,
          5,
          5,
          5,
          3,
          1,
          5,
          1,
          2,
          5,
          2,
          5,
          3,
          4,
          1,
          1,
          5,
          1,
          5,
          5,
          5,
          1,
          1,
          5,
          5,
          5,
          5,
          1,
          5,
          5,
          5,
          4,
          5,
          5,
          5,
          5,
          4,
          5,
          5,
          5,
          4,
          1,
          4,
          4,
          1,
          1,
          5,
          5,
          5,
          5,
          5,
          4,
          5,
          5,
          5,
          5,
          5,
          5,
          3,
          2,
          3,
          3,
          4,
          5,
          5,
          4,
          5,
          5,
          5,
          4,
          4,
          5,
          4,
          5,
          5,
          5,
          5,
          5,
          5,
          5,
          5,
          5,
          5,
          5,
          5,
          5,
          5,
          5,
          4,
          5,
          1,
          1,
          1,
          4,
          3,
          5,
          3,
          2,
          5,
          5,
          1,
          5,
          2,
          4,
          4,
          5,
          1,
          4,
          5,
          5,
          4,
          5,
          5,
          5,
          2,
          1,
          5,
          5,
          4,
          4,
          5,
          2,
          5,
          1,
          5,
          5,
          5,
          5,
          5,
          4,
          5,
          3,
          2,
          5,
          3,
          5,
          1,
          5,
          2,
          5,
          5,
          2,
          3,
          1,
          5,
          5,
          5,
          5,
          4,
          5,
          5,
          4,
          5,
          5,
          4,
          4,
          5,
          4,
          5,
          5,
          5,
          5,
          5,
          5,
          5,
          5,
          1,
          5,
          5,
          5,
          5,
          5,
          1,
          5,
          5,
          4,
          5,
          5,
          5,
          4,
          5,
          5,
          5,
          1,
          5,
          5,
          5,
          4,
          5,
          4,
          5,
          5,
          5,
          5,
          5,
          5,
          4,
          5,
          5,
          4,
          5,
          5,
          5,
          1,
          5,
          5,
          5,
          5,
          1,
          5,
          5,
          5,
          5,
          5,
          4,
          1,
          5,
          5,
          5,
          4,
          2,
          4,
          5,
          5,
          4,
          4,
          3,
          2,
          3,
          3,
          5,
          5,
          5,
          4,
          4,
          4,
          4,
          5,
          3,
          4,
          2,
          4,
          5,
          5,
          4,
          5,
          5,
          5,
          5,
          5,
          5,
          2,
          4,
          5,
          4,
          5,
          4,
          4,
          3,
          5,
          2,
          5,
          3,
          4,
          5,
          2,
          5,
          3,
          5,
          5,
          4,
          1,
          2,
          5,
          5,
          1,
          5,
          1,
          5,
          5,
          5,
          5,
          5,
          5,
          3,
          4,
          4,
          5,
          5,
          5,
          3,
          4,
          4,
          5,
          3,
          5,
          5,
          4
         ],
         "yaxis": "y2"
        }
       ],
       "layout": {
        "autosize": true,
        "legend": {
         "tracegroupgap": 0
        },
        "template": {
         "data": {
          "bar": [
           {
            "error_x": {
             "color": "#f2f5fa"
            },
            "error_y": {
             "color": "#f2f5fa"
            },
            "marker": {
             "line": {
              "color": "rgb(17,17,17)",
              "width": 0.5
             }
            },
            "type": "bar"
           }
          ],
          "barpolar": [
           {
            "marker": {
             "line": {
              "color": "rgb(17,17,17)",
              "width": 0.5
             }
            },
            "type": "barpolar"
           }
          ],
          "carpet": [
           {
            "aaxis": {
             "endlinecolor": "#A2B1C6",
             "gridcolor": "#506784",
             "linecolor": "#506784",
             "minorgridcolor": "#506784",
             "startlinecolor": "#A2B1C6"
            },
            "baxis": {
             "endlinecolor": "#A2B1C6",
             "gridcolor": "#506784",
             "linecolor": "#506784",
             "minorgridcolor": "#506784",
             "startlinecolor": "#A2B1C6"
            },
            "type": "carpet"
           }
          ],
          "choropleth": [
           {
            "colorbar": {
             "outlinewidth": 0,
             "ticks": ""
            },
            "type": "choropleth"
           }
          ],
          "contour": [
           {
            "colorbar": {
             "outlinewidth": 0,
             "ticks": ""
            },
            "colorscale": [
             [
              0,
              "#0d0887"
             ],
             [
              0.1111111111111111,
              "#46039f"
             ],
             [
              0.2222222222222222,
              "#7201a8"
             ],
             [
              0.3333333333333333,
              "#9c179e"
             ],
             [
              0.4444444444444444,
              "#bd3786"
             ],
             [
              0.5555555555555556,
              "#d8576b"
             ],
             [
              0.6666666666666666,
              "#ed7953"
             ],
             [
              0.7777777777777778,
              "#fb9f3a"
             ],
             [
              0.8888888888888888,
              "#fdca26"
             ],
             [
              1,
              "#f0f921"
             ]
            ],
            "type": "contour"
           }
          ],
          "contourcarpet": [
           {
            "colorbar": {
             "outlinewidth": 0,
             "ticks": ""
            },
            "type": "contourcarpet"
           }
          ],
          "heatmap": [
           {
            "colorbar": {
             "outlinewidth": 0,
             "ticks": ""
            },
            "colorscale": [
             [
              0,
              "#0d0887"
             ],
             [
              0.1111111111111111,
              "#46039f"
             ],
             [
              0.2222222222222222,
              "#7201a8"
             ],
             [
              0.3333333333333333,
              "#9c179e"
             ],
             [
              0.4444444444444444,
              "#bd3786"
             ],
             [
              0.5555555555555556,
              "#d8576b"
             ],
             [
              0.6666666666666666,
              "#ed7953"
             ],
             [
              0.7777777777777778,
              "#fb9f3a"
             ],
             [
              0.8888888888888888,
              "#fdca26"
             ],
             [
              1,
              "#f0f921"
             ]
            ],
            "type": "heatmap"
           }
          ],
          "heatmapgl": [
           {
            "colorbar": {
             "outlinewidth": 0,
             "ticks": ""
            },
            "colorscale": [
             [
              0,
              "#0d0887"
             ],
             [
              0.1111111111111111,
              "#46039f"
             ],
             [
              0.2222222222222222,
              "#7201a8"
             ],
             [
              0.3333333333333333,
              "#9c179e"
             ],
             [
              0.4444444444444444,
              "#bd3786"
             ],
             [
              0.5555555555555556,
              "#d8576b"
             ],
             [
              0.6666666666666666,
              "#ed7953"
             ],
             [
              0.7777777777777778,
              "#fb9f3a"
             ],
             [
              0.8888888888888888,
              "#fdca26"
             ],
             [
              1,
              "#f0f921"
             ]
            ],
            "type": "heatmapgl"
           }
          ],
          "histogram": [
           {
            "marker": {
             "colorbar": {
              "outlinewidth": 0,
              "ticks": ""
             }
            },
            "type": "histogram"
           }
          ],
          "histogram2d": [
           {
            "colorbar": {
             "outlinewidth": 0,
             "ticks": ""
            },
            "colorscale": [
             [
              0,
              "#0d0887"
             ],
             [
              0.1111111111111111,
              "#46039f"
             ],
             [
              0.2222222222222222,
              "#7201a8"
             ],
             [
              0.3333333333333333,
              "#9c179e"
             ],
             [
              0.4444444444444444,
              "#bd3786"
             ],
             [
              0.5555555555555556,
              "#d8576b"
             ],
             [
              0.6666666666666666,
              "#ed7953"
             ],
             [
              0.7777777777777778,
              "#fb9f3a"
             ],
             [
              0.8888888888888888,
              "#fdca26"
             ],
             [
              1,
              "#f0f921"
             ]
            ],
            "type": "histogram2d"
           }
          ],
          "histogram2dcontour": [
           {
            "colorbar": {
             "outlinewidth": 0,
             "ticks": ""
            },
            "colorscale": [
             [
              0,
              "#0d0887"
             ],
             [
              0.1111111111111111,
              "#46039f"
             ],
             [
              0.2222222222222222,
              "#7201a8"
             ],
             [
              0.3333333333333333,
              "#9c179e"
             ],
             [
              0.4444444444444444,
              "#bd3786"
             ],
             [
              0.5555555555555556,
              "#d8576b"
             ],
             [
              0.6666666666666666,
              "#ed7953"
             ],
             [
              0.7777777777777778,
              "#fb9f3a"
             ],
             [
              0.8888888888888888,
              "#fdca26"
             ],
             [
              1,
              "#f0f921"
             ]
            ],
            "type": "histogram2dcontour"
           }
          ],
          "mesh3d": [
           {
            "colorbar": {
             "outlinewidth": 0,
             "ticks": ""
            },
            "type": "mesh3d"
           }
          ],
          "parcoords": [
           {
            "line": {
             "colorbar": {
              "outlinewidth": 0,
              "ticks": ""
             }
            },
            "type": "parcoords"
           }
          ],
          "pie": [
           {
            "automargin": true,
            "type": "pie"
           }
          ],
          "scatter": [
           {
            "marker": {
             "line": {
              "color": "#283442"
             }
            },
            "type": "scatter"
           }
          ],
          "scatter3d": [
           {
            "line": {
             "colorbar": {
              "outlinewidth": 0,
              "ticks": ""
             }
            },
            "marker": {
             "colorbar": {
              "outlinewidth": 0,
              "ticks": ""
             }
            },
            "type": "scatter3d"
           }
          ],
          "scattercarpet": [
           {
            "marker": {
             "colorbar": {
              "outlinewidth": 0,
              "ticks": ""
             }
            },
            "type": "scattercarpet"
           }
          ],
          "scattergeo": [
           {
            "marker": {
             "colorbar": {
              "outlinewidth": 0,
              "ticks": ""
             }
            },
            "type": "scattergeo"
           }
          ],
          "scattergl": [
           {
            "marker": {
             "line": {
              "color": "#283442"
             }
            },
            "type": "scattergl"
           }
          ],
          "scattermapbox": [
           {
            "marker": {
             "colorbar": {
              "outlinewidth": 0,
              "ticks": ""
             }
            },
            "type": "scattermapbox"
           }
          ],
          "scatterpolar": [
           {
            "marker": {
             "colorbar": {
              "outlinewidth": 0,
              "ticks": ""
             }
            },
            "type": "scatterpolar"
           }
          ],
          "scatterpolargl": [
           {
            "marker": {
             "colorbar": {
              "outlinewidth": 0,
              "ticks": ""
             }
            },
            "type": "scatterpolargl"
           }
          ],
          "scatterternary": [
           {
            "marker": {
             "colorbar": {
              "outlinewidth": 0,
              "ticks": ""
             }
            },
            "type": "scatterternary"
           }
          ],
          "surface": [
           {
            "colorbar": {
             "outlinewidth": 0,
             "ticks": ""
            },
            "colorscale": [
             [
              0,
              "#0d0887"
             ],
             [
              0.1111111111111111,
              "#46039f"
             ],
             [
              0.2222222222222222,
              "#7201a8"
             ],
             [
              0.3333333333333333,
              "#9c179e"
             ],
             [
              0.4444444444444444,
              "#bd3786"
             ],
             [
              0.5555555555555556,
              "#d8576b"
             ],
             [
              0.6666666666666666,
              "#ed7953"
             ],
             [
              0.7777777777777778,
              "#fb9f3a"
             ],
             [
              0.8888888888888888,
              "#fdca26"
             ],
             [
              1,
              "#f0f921"
             ]
            ],
            "type": "surface"
           }
          ],
          "table": [
           {
            "cells": {
             "fill": {
              "color": "#506784"
             },
             "line": {
              "color": "rgb(17,17,17)"
             }
            },
            "header": {
             "fill": {
              "color": "#2a3f5f"
             },
             "line": {
              "color": "rgb(17,17,17)"
             }
            },
            "type": "table"
           }
          ]
         },
         "layout": {
          "annotationdefaults": {
           "arrowcolor": "#f2f5fa",
           "arrowhead": 0,
           "arrowwidth": 1
          },
          "coloraxis": {
           "colorbar": {
            "outlinewidth": 0,
            "ticks": ""
           }
          },
          "colorscale": {
           "diverging": [
            [
             0,
             "#8e0152"
            ],
            [
             0.1,
             "#c51b7d"
            ],
            [
             0.2,
             "#de77ae"
            ],
            [
             0.3,
             "#f1b6da"
            ],
            [
             0.4,
             "#fde0ef"
            ],
            [
             0.5,
             "#f7f7f7"
            ],
            [
             0.6,
             "#e6f5d0"
            ],
            [
             0.7,
             "#b8e186"
            ],
            [
             0.8,
             "#7fbc41"
            ],
            [
             0.9,
             "#4d9221"
            ],
            [
             1,
             "#276419"
            ]
           ],
           "sequential": [
            [
             0,
             "#0d0887"
            ],
            [
             0.1111111111111111,
             "#46039f"
            ],
            [
             0.2222222222222222,
             "#7201a8"
            ],
            [
             0.3333333333333333,
             "#9c179e"
            ],
            [
             0.4444444444444444,
             "#bd3786"
            ],
            [
             0.5555555555555556,
             "#d8576b"
            ],
            [
             0.6666666666666666,
             "#ed7953"
            ],
            [
             0.7777777777777778,
             "#fb9f3a"
            ],
            [
             0.8888888888888888,
             "#fdca26"
            ],
            [
             1,
             "#f0f921"
            ]
           ],
           "sequentialminus": [
            [
             0,
             "#0d0887"
            ],
            [
             0.1111111111111111,
             "#46039f"
            ],
            [
             0.2222222222222222,
             "#7201a8"
            ],
            [
             0.3333333333333333,
             "#9c179e"
            ],
            [
             0.4444444444444444,
             "#bd3786"
            ],
            [
             0.5555555555555556,
             "#d8576b"
            ],
            [
             0.6666666666666666,
             "#ed7953"
            ],
            [
             0.7777777777777778,
             "#fb9f3a"
            ],
            [
             0.8888888888888888,
             "#fdca26"
            ],
            [
             1,
             "#f0f921"
            ]
           ]
          },
          "colorway": [
           "#636efa",
           "#EF553B",
           "#00cc96",
           "#ab63fa",
           "#FFA15A",
           "#19d3f3",
           "#FF6692",
           "#B6E880",
           "#FF97FF",
           "#FECB52"
          ],
          "font": {
           "color": "#f2f5fa"
          },
          "geo": {
           "bgcolor": "rgb(17,17,17)",
           "lakecolor": "rgb(17,17,17)",
           "landcolor": "rgb(17,17,17)",
           "showlakes": true,
           "showland": true,
           "subunitcolor": "#506784"
          },
          "hoverlabel": {
           "align": "left"
          },
          "hovermode": "closest",
          "mapbox": {
           "style": "dark"
          },
          "paper_bgcolor": "rgb(17,17,17)",
          "plot_bgcolor": "rgb(17,17,17)",
          "polar": {
           "angularaxis": {
            "gridcolor": "#506784",
            "linecolor": "#506784",
            "ticks": ""
           },
           "bgcolor": "rgb(17,17,17)",
           "radialaxis": {
            "gridcolor": "#506784",
            "linecolor": "#506784",
            "ticks": ""
           }
          },
          "scene": {
           "xaxis": {
            "backgroundcolor": "rgb(17,17,17)",
            "gridcolor": "#506784",
            "gridwidth": 2,
            "linecolor": "#506784",
            "showbackground": true,
            "ticks": "",
            "zerolinecolor": "#C8D4E3"
           },
           "yaxis": {
            "backgroundcolor": "rgb(17,17,17)",
            "gridcolor": "#506784",
            "gridwidth": 2,
            "linecolor": "#506784",
            "showbackground": true,
            "ticks": "",
            "zerolinecolor": "#C8D4E3"
           },
           "zaxis": {
            "backgroundcolor": "rgb(17,17,17)",
            "gridcolor": "#506784",
            "gridwidth": 2,
            "linecolor": "#506784",
            "showbackground": true,
            "ticks": "",
            "zerolinecolor": "#C8D4E3"
           }
          },
          "shapedefaults": {
           "line": {
            "color": "#f2f5fa"
           }
          },
          "sliderdefaults": {
           "bgcolor": "#C8D4E3",
           "bordercolor": "rgb(17,17,17)",
           "borderwidth": 1,
           "tickwidth": 0
          },
          "ternary": {
           "aaxis": {
            "gridcolor": "#506784",
            "linecolor": "#506784",
            "ticks": ""
           },
           "baxis": {
            "gridcolor": "#506784",
            "linecolor": "#506784",
            "ticks": ""
           },
           "bgcolor": "rgb(17,17,17)",
           "caxis": {
            "gridcolor": "#506784",
            "linecolor": "#506784",
            "ticks": ""
           }
          },
          "title": {
           "x": 0.05
          },
          "updatemenudefaults": {
           "bgcolor": "#506784",
           "borderwidth": 0
          },
          "xaxis": {
           "automargin": true,
           "gridcolor": "#283442",
           "linecolor": "#506784",
           "ticks": "",
           "title": {
            "standoff": 15
           },
           "zerolinecolor": "#283442",
           "zerolinewidth": 2
          },
          "yaxis": {
           "automargin": true,
           "gridcolor": "#283442",
           "linecolor": "#506784",
           "ticks": "",
           "title": {
            "standoff": 15
           },
           "zerolinecolor": "#283442",
           "zerolinewidth": 2
          }
         }
        },
        "title": {
         "text": "Distribution of Prices per Rating"
        },
        "xaxis": {
         "anchor": "y",
         "autorange": true,
         "domain": [
          0,
          0.8358
         ],
         "range": [
          -18.30884020109213,
          121.56884020109214
         ],
         "title": {
          "text": "price"
         },
         "type": "linear"
        },
        "xaxis2": {
         "anchor": "y2",
         "autorange": true,
         "domain": [
          0.8408,
          1
         ],
         "matches": "x2",
         "range": [
          -0.5,
          0.5
         ],
         "showgrid": false,
         "showline": false,
         "showticklabels": false,
         "ticks": "",
         "type": "category"
        },
        "xaxis3": {
         "anchor": "y3",
         "autorange": true,
         "domain": [
          0,
          0.8358
         ],
         "matches": "x",
         "range": [
          -18.30884020109213,
          121.56884020109214
         ],
         "showgrid": true,
         "showticklabels": false,
         "type": "linear"
        },
        "xaxis4": {
         "anchor": "y4",
         "domain": [
          0.8408,
          1
         ],
         "matches": "x2",
         "showgrid": false,
         "showline": false,
         "showticklabels": false,
         "ticks": ""
        },
        "yaxis": {
         "anchor": "x",
         "autorange": true,
         "domain": [
          0,
          0.8316
         ],
         "range": [
          0.3144884236021746,
          5.6855115763978255
         ],
         "title": {
          "text": "rating"
         },
         "type": "linear"
        },
        "yaxis2": {
         "anchor": "x2",
         "autorange": true,
         "domain": [
          0,
          0.8316
         ],
         "matches": "y",
         "range": [
          0.3144884236021746,
          5.6855115763978255
         ],
         "showgrid": true,
         "showticklabels": false,
         "type": "linear"
        },
        "yaxis3": {
         "anchor": "x3",
         "autorange": true,
         "domain": [
          0.8416,
          1
         ],
         "matches": "y3",
         "range": [
          -0.5,
          0.5
         ],
         "showgrid": false,
         "showline": false,
         "showticklabels": false,
         "ticks": "",
         "type": "category"
        },
        "yaxis4": {
         "anchor": "x4",
         "domain": [
          0.8416,
          1
         ],
         "matches": "y3",
         "showgrid": true,
         "showline": false,
         "showticklabels": false,
         "ticks": ""
        }
       }
      },
      "image/png": "[encoded data removed]",
      "text/html": [
       "<div>\n",
       "        \n",
       "        \n",
       "            <div id=\"fb2dca1f-ee00-4e54-8cd7-885eb4cb77c9\" class=\"plotly-graph-div\" style=\"height:525px; width:100%;\"></div>\n",
       "            <script type=\"text/javascript\">\n",
       "                require([\"plotly\"], function(Plotly) {\n",
       "                    window.PLOTLYENV=window.PLOTLYENV || {};\n",
       "                    \n",
       "                if (document.getElementById(\"fb2dca1f-ee00-4e54-8cd7-885eb4cb77c9\")) {\n",
       "                    Plotly.newPlot(\n",
       "                        'fb2dca1f-ee00-4e54-8cd7-885eb4cb77c9',\n",
       "                        [{\"hovertemplate\": \"price=%{x}<br>rating=%{y}<extra></extra>\", \"legendgroup\": \"\", \"marker\": {\"color\": \"#636efa\", \"symbol\": \"circle\"}, \"mode\": \"markers\", \"name\": \"\", \"orientation\": \"v\", \"showlegend\": false, \"type\": \"scatter\", \"x\": [15.27, 15.27, 15.27, 10.15, 10.15, 10.15, 10.15, 4.0, 4.0, 4.0, 4.0, 4.0, 4.0, 4.0, 4.0, 4.0, 4.0, 4.0, 4.0, 4.0, 4.0, 4.0, 4.0, 4.0, 4.0, 4.0, 4.0, 4.0, 4.0, 4.0, 4.0, 4.0, 4.0, 4.0, 4.0, 4.0, 4.0, 13.97, 13.97, 13.97, 13.97, 13.97, 47.88, 47.88, 47.88, 47.88, 47.88, 47.88, 47.88, 47.88, 47.88, 47.88, 47.88, 47.88, 47.88, 47.88, 47.88, 47.88, 47.88, 47.88, 47.88, 47.88, 47.88, 47.88, 47.88, 47.88, 47.88, 47.88, 47.88, 47.88, 47.88, 47.88, 47.88, 47.88, 47.88, 47.88, 47.88, 47.88, 47.88, 47.88, 47.88, 47.88, 47.88, 47.88, 47.88, 15.99, 15.99, 15.99, 15.99, 15.99, 15.99, 15.99, 15.99, 15.99, 44.88, 44.88, 44.88, 44.88, 44.88, 44.88, 44.88, 44.88, 44.88, 44.88, 44.88, 44.88, 44.88, 44.88, 44.88, 44.88, 44.88, 44.88, 9.94, 9.94, 9.94, 9.94, 9.94, 9.94, 9.94, 9.94, 9.94, 9.94, 9.94, 9.94, 9.94, 9.94, 9.94, 9.94, 9.94, 9.94, 9.94, 9.94, 9.94, 9.94, 9.94, 9.94, 9.94, 9.94, 9.94, 9.94, 9.94, 9.94, 9.94, 9.94, 9.94, 17.89, 17.89, 17.89, 17.89, 17.89, 17.89, 17.89, 17.89, 17.89, 17.89, 17.89, 17.89, 17.89, 17.89, 17.0, 17.0, 99.26, 99.26, 99.26, 99.26, 99.26, 99.26, 99.26, 99.26, 99.26, 99.26, 99.26, 99.26, 99.26, 99.26, 11.15, 11.15, 11.15, 11.15, 11.15, 11.15, 11.15, 11.15, 11.15, 11.15, 11.15, 11.15, 11.15, 11.15, 11.15, 11.15, 11.15, 11.15, 11.15, 11.15, 11.15, 11.15, 11.15, 11.15, 11.15, 11.15, 11.15, 11.15, 11.15, 11.15, 11.15, 11.15, 11.15, 11.15, 11.15, 11.15, 11.15, 11.15, 11.15, 11.15, 11.15, 11.15, 11.15, 11.15, 11.15, 11.15, 11.15, 11.15, 11.15, 11.15, 11.15, 11.15, 11.15, 11.15, 11.15, 11.15, 11.15, 11.15, 11.15, 11.15, 11.15, 11.15, 11.15, 11.15, 11.15, 11.15, 11.15, 11.15, 11.15, 11.15, 11.15, 11.15, 11.15, 11.15, 11.15, 11.15, 11.15, 11.15, 11.15, 11.15, 11.15, 11.15, 11.15, 11.15, 11.15, 11.15, 11.15, 11.15, 11.15, 11.15, 11.15, 11.15, 11.15, 11.15, 11.15, 11.15, 11.15, 11.15, 11.15, 11.15, 11.15, 11.15, 11.15, 11.15, 11.15, 11.15, 11.15, 11.15, 11.15, 11.15, 11.15, 11.15, 11.15, 11.15, 11.15, 11.15, 11.15, 11.15, 11.15, 11.15, 11.15, 11.15, 11.15, 11.15, 11.15, 11.15, 11.15, 11.15, 11.15, 11.15, 11.15, 11.15, 11.15, 11.15, 11.15, 11.15, 11.15, 11.15, 11.15, 11.15, 11.15, 11.15, 11.15, 11.15, 11.15, 11.15, 11.15, 11.15, 11.15, 11.15, 11.15, 11.15, 11.15, 11.15, 11.15, 11.15, 11.15, 11.15, 11.15, 11.15, 11.15, 11.15, 11.15, 11.15, 11.15, 11.15, 11.15, 11.15, 11.15, 11.15, 11.15, 11.15, 11.15, 11.15, 11.15, 11.15, 11.15, 11.15, 11.15, 11.15, 11.15, 11.15, 11.15, 11.15, 11.15, 11.15, 11.15, 11.15, 11.15, 11.15, 11.15, 11.15, 11.15, 11.15, 11.15, 11.15, 11.15, 11.15, 11.15, 11.15, 11.15, 11.15, 11.15, 11.15, 11.15, 11.15, 11.15, 11.15, 11.15, 11.15, 11.15, 11.15, 11.15, 11.15, 11.15, 11.15, 11.15, 11.15, 11.15, 11.15, 11.15, 11.15, 11.15, 11.15, 11.15, 11.15, 11.15, 11.15, 11.15, 11.15, 11.15, 11.15, 11.15, 11.15, 11.15, 11.15, 11.15, 11.15, 11.15, 11.15, 11.15, 11.15, 11.15, 11.15, 11.15, 11.15, 11.15, 11.15, 11.15, 11.15, 11.15, 11.15, 11.15, 11.15, 11.15, 11.15, 11.15, 11.15, 11.15, 11.15, 11.15, 11.15, 11.15, 11.15, 11.15, 11.15, 11.15, 11.15, 11.15, 11.15, 11.15, 11.15, 11.15, 11.15, 11.15, 11.15, 59.99, 59.99, 59.99, 59.99, 59.99, 59.99, 59.99, 59.99, 59.99, 59.99, 59.99, 59.99, 59.99, 59.99, 59.99, 59.99, 59.99, 59.99, 59.99, 59.99, 59.99, 59.99, 59.99, 59.99, 59.99, 59.99, 59.99, 59.99, 59.99, 59.99, 59.99, 4.99, 4.99, 4.99, 4.99, 4.99, 4.99, 4.99, 4.99, 4.99, 4.99, 4.99, 4.99, 4.99, 4.99, 4.99, 4.99, 4.99, 4.99, 8.47, 8.47, 8.47, 8.47, 8.47, 27.99, 27.99, 27.99, 27.99, 27.99, 27.99, 27.99, 27.99, 27.99, 27.99, 27.99, 27.99, 27.99, 27.99, 27.99, 27.99, 27.99, 27.99, 27.99, 27.99, 27.99, 27.99, 27.99, 27.99, 27.99, 27.99, 27.99, 27.99, 27.99, 27.99, 27.99, 27.99, 27.99, 27.99, 27.99, 27.99, 27.99, 27.99, 27.99, 27.99, 27.99, 27.99, 27.99, 27.99, 27.99, 27.99, 27.99, 27.99, 27.99, 27.99, 27.99, 27.99, 27.99, 27.99, 27.99, 27.99, 27.99, 27.99, 27.99, 27.99, 27.99, 27.99, 27.99, 27.99, 27.99, 27.99, 27.99, 27.99, 27.99, 27.99, 27.99, 27.99, 27.99, 27.99, 27.99, 27.99, 27.99, 27.99, 27.99, 27.99, 27.99, 27.99, 27.99, 27.99, 27.99, 27.99, 27.99, 27.99, 27.99, 27.99, 27.99, 27.99, 27.99, 27.99, 27.99, 27.99, 89.99, 89.99, 89.99, 89.99, 89.99, 89.99, 89.99, 89.99, 89.99, 89.99, 89.99, 89.99, 89.99, 90.0, 90.0, 90.0, 90.0, 90.0, 90.0, 90.0, 90.0, 90.0, 90.0, 90.0, 90.0, 90.0, 90.0, 90.0, 90.0, 90.0, 90.0, 90.0, 90.0, 90.0, 90.0, 90.0, 90.0, 90.0, 90.0, 90.0, 90.0, 90.0, 90.0, 90.0, 90.0, 90.0, 90.0, 90.0, 90.0, 90.0, 90.0, 90.0, 90.0, 90.0, 90.0, 90.0, 90.0, 90.0, 90.0, 90.0, 90.0, 90.0, 90.0, 90.0, 90.0, 90.0, 90.0, 90.0, 90.0, 14.95, 14.95, 14.99, 14.99, 14.99, 14.99, 14.99, 14.99, 14.99, 14.99, 12.99, 12.99, 12.99, 12.99, 5.99, 5.99, 5.99, 5.99, 5.99, 5.99, 5.99, 5.99, 5.99, 5.99, 5.99, 5.99, 5.99, 5.99, 9.39, 9.39, 14.6, 14.6, 14.6, 14.6, 14.6, 14.6, 12.95, 12.95, 12.95, 12.95, 12.95, 12.95, 12.95, 12.95, 12.95, 12.95, 12.95, 12.95, 61.99, 61.99, 61.99, 61.99, 61.99, 61.99, 61.99, 61.99, 61.99, 61.99, 61.99, 61.99, 61.99, 61.99, 61.99, 61.99, 61.99, 61.99, 61.99, 61.99, 61.99, 61.99, 61.99, 61.99, 61.99, 61.99, 61.99, 61.99, 61.99, 61.99, 61.99, 61.99, 61.99, 61.99, 61.99, 61.99, 61.99, 61.99, 61.99], \"xaxis\": \"x\", \"y\": [5, 3, 3, 4, 5, 5, 5, 5, 5, 5, 5, 3, 4, 5, 5, 1, 5, 5, 4, 5, 5, 5, 5, 5, 5, 5, 4, 5, 3, 5, 5, 5, 5, 5, 5, 5, 3, 5, 5, 5, 5, 5, 4, 5, 3, 2, 5, 5, 4, 5, 5, 4, 5, 5, 5, 5, 5, 4, 5, 1, 5, 5, 5, 5, 5, 5, 4, 4, 5, 5, 4, 5, 5, 5, 5, 5, 5, 5, 5, 5, 5, 4, 5, 5, 5, 5, 4, 5, 5, 5, 4, 5, 5, 5, 5, 5, 3, 5, 5, 5, 4, 2, 4, 5, 5, 1, 5, 3, 5, 5, 5, 5, 4, 5, 5, 5, 5, 5, 5, 5, 5, 3, 5, 4, 5, 5, 5, 2, 3, 5, 5, 5, 5, 5, 4, 5, 5, 5, 3, 5, 5, 5, 3, 4, 5, 5, 5, 5, 5, 3, 5, 5, 4, 5, 4, 5, 5, 5, 4, 3, 5, 3, 5, 5, 4, 5, 5, 4, 4, 5, 5, 5, 5, 4, 5, 5, 5, 5, 4, 5, 5, 5, 4, 5, 5, 5, 5, 5, 2, 5, 5, 5, 5, 5, 5, 5, 5, 5, 5, 5, 5, 5, 5, 5, 5, 5, 5, 5, 5, 5, 5, 4, 5, 5, 5, 5, 5, 5, 5, 5, 5, 5, 5, 1, 5, 5, 5, 5, 5, 5, 5, 5, 5, 3, 5, 5, 4, 4, 5, 5, 5, 4, 5, 5, 4, 5, 5, 5, 5, 5, 5, 5, 4, 5, 5, 5, 5, 5, 5, 5, 5, 5, 4, 5, 5, 5, 5, 5, 5, 5, 5, 5, 5, 5, 4, 5, 5, 5, 5, 1, 5, 5, 1, 5, 1, 5, 5, 5, 5, 5, 5, 5, 5, 5, 5, 5, 5, 5, 3, 5, 5, 5, 5, 5, 5, 1, 2, 5, 5, 1, 5, 5, 5, 5, 4, 5, 4, 5, 2, 4, 5, 5, 5, 5, 5, 5, 2, 5, 5, 5, 5, 5, 5, 5, 5, 5, 5, 5, 5, 5, 4, 5, 5, 5, 5, 5, 5, 5, 5, 5, 5, 5, 5, 4, 5, 5, 5, 5, 5, 5, 5, 5, 5, 5, 5, 5, 5, 5, 5, 5, 5, 5, 5, 5, 5, 5, 5, 1, 2, 5, 5, 2, 5, 5, 5, 5, 5, 5, 5, 5, 1, 5, 5, 5, 5, 5, 5, 5, 5, 5, 5, 5, 5, 5, 5, 5, 5, 5, 5, 5, 5, 5, 3, 4, 5, 5, 3, 5, 5, 5, 4, 5, 5, 5, 5, 1, 5, 5, 2, 4, 1, 5, 5, 5, 5, 5, 5, 5, 5, 5, 5, 5, 5, 5, 5, 5, 5, 5, 5, 5, 5, 5, 1, 5, 1, 4, 1, 1, 1, 2, 5, 5, 5, 3, 1, 5, 1, 2, 5, 2, 5, 3, 4, 1, 1, 5, 1, 5, 5, 5, 1, 1, 5, 5, 5, 5, 1, 5, 5, 5, 4, 5, 5, 5, 5, 4, 5, 5, 5, 4, 1, 4, 4, 1, 1, 5, 5, 5, 5, 5, 4, 5, 5, 5, 5, 5, 5, 3, 2, 3, 3, 4, 5, 5, 4, 5, 5, 5, 4, 4, 5, 4, 5, 5, 5, 5, 5, 5, 5, 5, 5, 5, 5, 5, 5, 5, 5, 4, 5, 1, 1, 1, 4, 3, 5, 3, 2, 5, 5, 1, 5, 2, 4, 4, 5, 1, 4, 5, 5, 4, 5, 5, 5, 2, 1, 5, 5, 4, 4, 5, 2, 5, 1, 5, 5, 5, 5, 5, 4, 5, 3, 2, 5, 3, 5, 1, 5, 2, 5, 5, 2, 3, 1, 5, 5, 5, 5, 4, 5, 5, 4, 5, 5, 4, 4, 5, 4, 5, 5, 5, 5, 5, 5, 5, 5, 1, 5, 5, 5, 5, 5, 1, 5, 5, 4, 5, 5, 5, 4, 5, 5, 5, 1, 5, 5, 5, 4, 5, 4, 5, 5, 5, 5, 5, 5, 4, 5, 5, 4, 5, 5, 5, 1, 5, 5, 5, 5, 1, 5, 5, 5, 5, 5, 4, 1, 5, 5, 5, 4, 2, 4, 5, 5, 4, 4, 3, 2, 3, 3, 5, 5, 5, 4, 4, 4, 4, 5, 3, 4, 2, 4, 5, 5, 4, 5, 5, 5, 5, 5, 5, 2, 4, 5, 4, 5, 4, 4, 3, 5, 2, 5, 3, 4, 5, 2, 5, 3, 5, 5, 4, 1, 2, 5, 5, 1, 5, 1, 5, 5, 5, 5, 5, 5, 3, 4, 4, 5, 5, 5, 3, 4, 4, 5, 3, 5, 5, 4], \"yaxis\": \"y\"}, {\"alignmentgroup\": \"True\", \"hovertemplate\": \"price=%{x}<extra></extra>\", \"legendgroup\": \"\", \"marker\": {\"color\": \"#636efa\", \"symbol\": \"circle\"}, \"name\": \"\", \"offsetgroup\": \"\", \"scalegroup\": \"x\", \"showlegend\": false, \"type\": \"violin\", \"x\": [15.27, 15.27, 15.27, 10.15, 10.15, 10.15, 10.15, 4.0, 4.0, 4.0, 4.0, 4.0, 4.0, 4.0, 4.0, 4.0, 4.0, 4.0, 4.0, 4.0, 4.0, 4.0, 4.0, 4.0, 4.0, 4.0, 4.0, 4.0, 4.0, 4.0, 4.0, 4.0, 4.0, 4.0, 4.0, 4.0, 4.0, 13.97, 13.97, 13.97, 13.97, 13.97, 47.88, 47.88, 47.88, 47.88, 47.88, 47.88, 47.88, 47.88, 47.88, 47.88, 47.88, 47.88, 47.88, 47.88, 47.88, 47.88, 47.88, 47.88, 47.88, 47.88, 47.88, 47.88, 47.88, 47.88, 47.88, 47.88, 47.88, 47.88, 47.88, 47.88, 47.88, 47.88, 47.88, 47.88, 47.88, 47.88, 47.88, 47.88, 47.88, 47.88, 47.88, 47.88, 47.88, 15.99, 15.99, 15.99, 15.99, 15.99, 15.99, 15.99, 15.99, 15.99, 44.88, 44.88, 44.88, 44.88, 44.88, 44.88, 44.88, 44.88, 44.88, 44.88, 44.88, 44.88, 44.88, 44.88, 44.88, 44.88, 44.88, 44.88, 9.94, 9.94, 9.94, 9.94, 9.94, 9.94, 9.94, 9.94, 9.94, 9.94, 9.94, 9.94, 9.94, 9.94, 9.94, 9.94, 9.94, 9.94, 9.94, 9.94, 9.94, 9.94, 9.94, 9.94, 9.94, 9.94, 9.94, 9.94, 9.94, 9.94, 9.94, 9.94, 9.94, 17.89, 17.89, 17.89, 17.89, 17.89, 17.89, 17.89, 17.89, 17.89, 17.89, 17.89, 17.89, 17.89, 17.89, 17.0, 17.0, 99.26, 99.26, 99.26, 99.26, 99.26, 99.26, 99.26, 99.26, 99.26, 99.26, 99.26, 99.26, 99.26, 99.26, 11.15, 11.15, 11.15, 11.15, 11.15, 11.15, 11.15, 11.15, 11.15, 11.15, 11.15, 11.15, 11.15, 11.15, 11.15, 11.15, 11.15, 11.15, 11.15, 11.15, 11.15, 11.15, 11.15, 11.15, 11.15, 11.15, 11.15, 11.15, 11.15, 11.15, 11.15, 11.15, 11.15, 11.15, 11.15, 11.15, 11.15, 11.15, 11.15, 11.15, 11.15, 11.15, 11.15, 11.15, 11.15, 11.15, 11.15, 11.15, 11.15, 11.15, 11.15, 11.15, 11.15, 11.15, 11.15, 11.15, 11.15, 11.15, 11.15, 11.15, 11.15, 11.15, 11.15, 11.15, 11.15, 11.15, 11.15, 11.15, 11.15, 11.15, 11.15, 11.15, 11.15, 11.15, 11.15, 11.15, 11.15, 11.15, 11.15, 11.15, 11.15, 11.15, 11.15, 11.15, 11.15, 11.15, 11.15, 11.15, 11.15, 11.15, 11.15, 11.15, 11.15, 11.15, 11.15, 11.15, 11.15, 11.15, 11.15, 11.15, 11.15, 11.15, 11.15, 11.15, 11.15, 11.15, 11.15, 11.15, 11.15, 11.15, 11.15, 11.15, 11.15, 11.15, 11.15, 11.15, 11.15, 11.15, 11.15, 11.15, 11.15, 11.15, 11.15, 11.15, 11.15, 11.15, 11.15, 11.15, 11.15, 11.15, 11.15, 11.15, 11.15, 11.15, 11.15, 11.15, 11.15, 11.15, 11.15, 11.15, 11.15, 11.15, 11.15, 11.15, 11.15, 11.15, 11.15, 11.15, 11.15, 11.15, 11.15, 11.15, 11.15, 11.15, 11.15, 11.15, 11.15, 11.15, 11.15, 11.15, 11.15, 11.15, 11.15, 11.15, 11.15, 11.15, 11.15, 11.15, 11.15, 11.15, 11.15, 11.15, 11.15, 11.15, 11.15, 11.15, 11.15, 11.15, 11.15, 11.15, 11.15, 11.15, 11.15, 11.15, 11.15, 11.15, 11.15, 11.15, 11.15, 11.15, 11.15, 11.15, 11.15, 11.15, 11.15, 11.15, 11.15, 11.15, 11.15, 11.15, 11.15, 11.15, 11.15, 11.15, 11.15, 11.15, 11.15, 11.15, 11.15, 11.15, 11.15, 11.15, 11.15, 11.15, 11.15, 11.15, 11.15, 11.15, 11.15, 11.15, 11.15, 11.15, 11.15, 11.15, 11.15, 11.15, 11.15, 11.15, 11.15, 11.15, 11.15, 11.15, 11.15, 11.15, 11.15, 11.15, 11.15, 11.15, 11.15, 11.15, 11.15, 11.15, 11.15, 11.15, 11.15, 11.15, 11.15, 11.15, 11.15, 11.15, 11.15, 11.15, 11.15, 11.15, 11.15, 11.15, 11.15, 11.15, 11.15, 11.15, 11.15, 11.15, 11.15, 11.15, 11.15, 11.15, 11.15, 11.15, 11.15, 11.15, 11.15, 11.15, 11.15, 11.15, 11.15, 11.15, 59.99, 59.99, 59.99, 59.99, 59.99, 59.99, 59.99, 59.99, 59.99, 59.99, 59.99, 59.99, 59.99, 59.99, 59.99, 59.99, 59.99, 59.99, 59.99, 59.99, 59.99, 59.99, 59.99, 59.99, 59.99, 59.99, 59.99, 59.99, 59.99, 59.99, 59.99, 4.99, 4.99, 4.99, 4.99, 4.99, 4.99, 4.99, 4.99, 4.99, 4.99, 4.99, 4.99, 4.99, 4.99, 4.99, 4.99, 4.99, 4.99, 8.47, 8.47, 8.47, 8.47, 8.47, 27.99, 27.99, 27.99, 27.99, 27.99, 27.99, 27.99, 27.99, 27.99, 27.99, 27.99, 27.99, 27.99, 27.99, 27.99, 27.99, 27.99, 27.99, 27.99, 27.99, 27.99, 27.99, 27.99, 27.99, 27.99, 27.99, 27.99, 27.99, 27.99, 27.99, 27.99, 27.99, 27.99, 27.99, 27.99, 27.99, 27.99, 27.99, 27.99, 27.99, 27.99, 27.99, 27.99, 27.99, 27.99, 27.99, 27.99, 27.99, 27.99, 27.99, 27.99, 27.99, 27.99, 27.99, 27.99, 27.99, 27.99, 27.99, 27.99, 27.99, 27.99, 27.99, 27.99, 27.99, 27.99, 27.99, 27.99, 27.99, 27.99, 27.99, 27.99, 27.99, 27.99, 27.99, 27.99, 27.99, 27.99, 27.99, 27.99, 27.99, 27.99, 27.99, 27.99, 27.99, 27.99, 27.99, 27.99, 27.99, 27.99, 27.99, 27.99, 27.99, 27.99, 27.99, 27.99, 27.99, 89.99, 89.99, 89.99, 89.99, 89.99, 89.99, 89.99, 89.99, 89.99, 89.99, 89.99, 89.99, 89.99, 90.0, 90.0, 90.0, 90.0, 90.0, 90.0, 90.0, 90.0, 90.0, 90.0, 90.0, 90.0, 90.0, 90.0, 90.0, 90.0, 90.0, 90.0, 90.0, 90.0, 90.0, 90.0, 90.0, 90.0, 90.0, 90.0, 90.0, 90.0, 90.0, 90.0, 90.0, 90.0, 90.0, 90.0, 90.0, 90.0, 90.0, 90.0, 90.0, 90.0, 90.0, 90.0, 90.0, 90.0, 90.0, 90.0, 90.0, 90.0, 90.0, 90.0, 90.0, 90.0, 90.0, 90.0, 90.0, 90.0, 14.95, 14.95, 14.99, 14.99, 14.99, 14.99, 14.99, 14.99, 14.99, 14.99, 12.99, 12.99, 12.99, 12.99, 5.99, 5.99, 5.99, 5.99, 5.99, 5.99, 5.99, 5.99, 5.99, 5.99, 5.99, 5.99, 5.99, 5.99, 9.39, 9.39, 14.6, 14.6, 14.6, 14.6, 14.6, 14.6, 12.95, 12.95, 12.95, 12.95, 12.95, 12.95, 12.95, 12.95, 12.95, 12.95, 12.95, 12.95, 61.99, 61.99, 61.99, 61.99, 61.99, 61.99, 61.99, 61.99, 61.99, 61.99, 61.99, 61.99, 61.99, 61.99, 61.99, 61.99, 61.99, 61.99, 61.99, 61.99, 61.99, 61.99, 61.99, 61.99, 61.99, 61.99, 61.99, 61.99, 61.99, 61.99, 61.99, 61.99, 61.99, 61.99, 61.99, 61.99, 61.99, 61.99, 61.99], \"xaxis\": \"x3\", \"yaxis\": \"y3\"}, {\"alignmentgroup\": \"True\", \"hovertemplate\": \"rating=%{y}<extra></extra>\", \"legendgroup\": \"\", \"marker\": {\"color\": \"#636efa\", \"symbol\": \"circle\"}, \"name\": \"\", \"offsetgroup\": \"\", \"scalegroup\": \"y\", \"showlegend\": false, \"type\": \"violin\", \"xaxis\": \"x2\", \"y\": [5, 3, 3, 4, 5, 5, 5, 5, 5, 5, 5, 3, 4, 5, 5, 1, 5, 5, 4, 5, 5, 5, 5, 5, 5, 5, 4, 5, 3, 5, 5, 5, 5, 5, 5, 5, 3, 5, 5, 5, 5, 5, 4, 5, 3, 2, 5, 5, 4, 5, 5, 4, 5, 5, 5, 5, 5, 4, 5, 1, 5, 5, 5, 5, 5, 5, 4, 4, 5, 5, 4, 5, 5, 5, 5, 5, 5, 5, 5, 5, 5, 4, 5, 5, 5, 5, 4, 5, 5, 5, 4, 5, 5, 5, 5, 5, 3, 5, 5, 5, 4, 2, 4, 5, 5, 1, 5, 3, 5, 5, 5, 5, 4, 5, 5, 5, 5, 5, 5, 5, 5, 3, 5, 4, 5, 5, 5, 2, 3, 5, 5, 5, 5, 5, 4, 5, 5, 5, 3, 5, 5, 5, 3, 4, 5, 5, 5, 5, 5, 3, 5, 5, 4, 5, 4, 5, 5, 5, 4, 3, 5, 3, 5, 5, 4, 5, 5, 4, 4, 5, 5, 5, 5, 4, 5, 5, 5, 5, 4, 5, 5, 5, 4, 5, 5, 5, 5, 5, 2, 5, 5, 5, 5, 5, 5, 5, 5, 5, 5, 5, 5, 5, 5, 5, 5, 5, 5, 5, 5, 5, 5, 4, 5, 5, 5, 5, 5, 5, 5, 5, 5, 5, 5, 1, 5, 5, 5, 5, 5, 5, 5, 5, 5, 3, 5, 5, 4, 4, 5, 5, 5, 4, 5, 5, 4, 5, 5, 5, 5, 5, 5, 5, 4, 5, 5, 5, 5, 5, 5, 5, 5, 5, 4, 5, 5, 5, 5, 5, 5, 5, 5, 5, 5, 5, 4, 5, 5, 5, 5, 1, 5, 5, 1, 5, 1, 5, 5, 5, 5, 5, 5, 5, 5, 5, 5, 5, 5, 5, 3, 5, 5, 5, 5, 5, 5, 1, 2, 5, 5, 1, 5, 5, 5, 5, 4, 5, 4, 5, 2, 4, 5, 5, 5, 5, 5, 5, 2, 5, 5, 5, 5, 5, 5, 5, 5, 5, 5, 5, 5, 5, 4, 5, 5, 5, 5, 5, 5, 5, 5, 5, 5, 5, 5, 4, 5, 5, 5, 5, 5, 5, 5, 5, 5, 5, 5, 5, 5, 5, 5, 5, 5, 5, 5, 5, 5, 5, 5, 1, 2, 5, 5, 2, 5, 5, 5, 5, 5, 5, 5, 5, 1, 5, 5, 5, 5, 5, 5, 5, 5, 5, 5, 5, 5, 5, 5, 5, 5, 5, 5, 5, 5, 5, 3, 4, 5, 5, 3, 5, 5, 5, 4, 5, 5, 5, 5, 1, 5, 5, 2, 4, 1, 5, 5, 5, 5, 5, 5, 5, 5, 5, 5, 5, 5, 5, 5, 5, 5, 5, 5, 5, 5, 5, 1, 5, 1, 4, 1, 1, 1, 2, 5, 5, 5, 3, 1, 5, 1, 2, 5, 2, 5, 3, 4, 1, 1, 5, 1, 5, 5, 5, 1, 1, 5, 5, 5, 5, 1, 5, 5, 5, 4, 5, 5, 5, 5, 4, 5, 5, 5, 4, 1, 4, 4, 1, 1, 5, 5, 5, 5, 5, 4, 5, 5, 5, 5, 5, 5, 3, 2, 3, 3, 4, 5, 5, 4, 5, 5, 5, 4, 4, 5, 4, 5, 5, 5, 5, 5, 5, 5, 5, 5, 5, 5, 5, 5, 5, 5, 4, 5, 1, 1, 1, 4, 3, 5, 3, 2, 5, 5, 1, 5, 2, 4, 4, 5, 1, 4, 5, 5, 4, 5, 5, 5, 2, 1, 5, 5, 4, 4, 5, 2, 5, 1, 5, 5, 5, 5, 5, 4, 5, 3, 2, 5, 3, 5, 1, 5, 2, 5, 5, 2, 3, 1, 5, 5, 5, 5, 4, 5, 5, 4, 5, 5, 4, 4, 5, 4, 5, 5, 5, 5, 5, 5, 5, 5, 1, 5, 5, 5, 5, 5, 1, 5, 5, 4, 5, 5, 5, 4, 5, 5, 5, 1, 5, 5, 5, 4, 5, 4, 5, 5, 5, 5, 5, 5, 4, 5, 5, 4, 5, 5, 5, 1, 5, 5, 5, 5, 1, 5, 5, 5, 5, 5, 4, 1, 5, 5, 5, 4, 2, 4, 5, 5, 4, 4, 3, 2, 3, 3, 5, 5, 5, 4, 4, 4, 4, 5, 3, 4, 2, 4, 5, 5, 4, 5, 5, 5, 5, 5, 5, 2, 4, 5, 4, 5, 4, 4, 3, 5, 2, 5, 3, 4, 5, 2, 5, 3, 5, 5, 4, 1, 2, 5, 5, 1, 5, 1, 5, 5, 5, 5, 5, 5, 3, 4, 4, 5, 5, 5, 3, 4, 4, 5, 3, 5, 5, 4], \"yaxis\": \"y2\"}],\n",
       "                        {\"legend\": {\"tracegroupgap\": 0}, \"template\": {\"data\": {\"bar\": [{\"error_x\": {\"color\": \"#f2f5fa\"}, \"error_y\": {\"color\": \"#f2f5fa\"}, \"marker\": {\"line\": {\"color\": \"rgb(17,17,17)\", \"width\": 0.5}}, \"type\": \"bar\"}], \"barpolar\": [{\"marker\": {\"line\": {\"color\": \"rgb(17,17,17)\", \"width\": 0.5}}, \"type\": \"barpolar\"}], \"carpet\": [{\"aaxis\": {\"endlinecolor\": \"#A2B1C6\", \"gridcolor\": \"#506784\", \"linecolor\": \"#506784\", \"minorgridcolor\": \"#506784\", \"startlinecolor\": \"#A2B1C6\"}, \"baxis\": {\"endlinecolor\": \"#A2B1C6\", \"gridcolor\": \"#506784\", \"linecolor\": \"#506784\", \"minorgridcolor\": \"#506784\", \"startlinecolor\": \"#A2B1C6\"}, \"type\": \"carpet\"}], \"choropleth\": [{\"colorbar\": {\"outlinewidth\": 0, \"ticks\": \"\"}, \"type\": \"choropleth\"}], \"contour\": [{\"colorbar\": {\"outlinewidth\": 0, \"ticks\": \"\"}, \"colorscale\": [[0.0, \"#0d0887\"], [0.1111111111111111, \"#46039f\"], [0.2222222222222222, \"#7201a8\"], [0.3333333333333333, \"#9c179e\"], [0.4444444444444444, \"#bd3786\"], [0.5555555555555556, \"#d8576b\"], [0.6666666666666666, \"#ed7953\"], [0.7777777777777778, \"#fb9f3a\"], [0.8888888888888888, \"#fdca26\"], [1.0, \"#f0f921\"]], \"type\": \"contour\"}], \"contourcarpet\": [{\"colorbar\": {\"outlinewidth\": 0, \"ticks\": \"\"}, \"type\": \"contourcarpet\"}], \"heatmap\": [{\"colorbar\": {\"outlinewidth\": 0, \"ticks\": \"\"}, \"colorscale\": [[0.0, \"#0d0887\"], [0.1111111111111111, \"#46039f\"], [0.2222222222222222, \"#7201a8\"], [0.3333333333333333, \"#9c179e\"], [0.4444444444444444, \"#bd3786\"], [0.5555555555555556, \"#d8576b\"], [0.6666666666666666, \"#ed7953\"], [0.7777777777777778, \"#fb9f3a\"], [0.8888888888888888, \"#fdca26\"], [1.0, \"#f0f921\"]], \"type\": \"heatmap\"}], \"heatmapgl\": [{\"colorbar\": {\"outlinewidth\": 0, \"ticks\": \"\"}, \"colorscale\": [[0.0, \"#0d0887\"], [0.1111111111111111, \"#46039f\"], [0.2222222222222222, \"#7201a8\"], [0.3333333333333333, \"#9c179e\"], [0.4444444444444444, \"#bd3786\"], [0.5555555555555556, \"#d8576b\"], [0.6666666666666666, \"#ed7953\"], [0.7777777777777778, \"#fb9f3a\"], [0.8888888888888888, \"#fdca26\"], [1.0, \"#f0f921\"]], \"type\": \"heatmapgl\"}], \"histogram\": [{\"marker\": {\"colorbar\": {\"outlinewidth\": 0, \"ticks\": \"\"}}, \"type\": \"histogram\"}], \"histogram2d\": [{\"colorbar\": {\"outlinewidth\": 0, \"ticks\": \"\"}, \"colorscale\": [[0.0, \"#0d0887\"], [0.1111111111111111, \"#46039f\"], [0.2222222222222222, \"#7201a8\"], [0.3333333333333333, \"#9c179e\"], [0.4444444444444444, \"#bd3786\"], [0.5555555555555556, \"#d8576b\"], [0.6666666666666666, \"#ed7953\"], [0.7777777777777778, \"#fb9f3a\"], [0.8888888888888888, \"#fdca26\"], [1.0, \"#f0f921\"]], \"type\": \"histogram2d\"}], \"histogram2dcontour\": [{\"colorbar\": {\"outlinewidth\": 0, \"ticks\": \"\"}, \"colorscale\": [[0.0, \"#0d0887\"], [0.1111111111111111, \"#46039f\"], [0.2222222222222222, \"#7201a8\"], [0.3333333333333333, \"#9c179e\"], [0.4444444444444444, \"#bd3786\"], [0.5555555555555556, \"#d8576b\"], [0.6666666666666666, \"#ed7953\"], [0.7777777777777778, \"#fb9f3a\"], [0.8888888888888888, \"#fdca26\"], [1.0, \"#f0f921\"]], \"type\": \"histogram2dcontour\"}], \"mesh3d\": [{\"colorbar\": {\"outlinewidth\": 0, \"ticks\": \"\"}, \"type\": \"mesh3d\"}], \"parcoords\": [{\"line\": {\"colorbar\": {\"outlinewidth\": 0, \"ticks\": \"\"}}, \"type\": \"parcoords\"}], \"pie\": [{\"automargin\": true, \"type\": \"pie\"}], \"scatter\": [{\"marker\": {\"line\": {\"color\": \"#283442\"}}, \"type\": \"scatter\"}], \"scatter3d\": [{\"line\": {\"colorbar\": {\"outlinewidth\": 0, \"ticks\": \"\"}}, \"marker\": {\"colorbar\": {\"outlinewidth\": 0, \"ticks\": \"\"}}, \"type\": \"scatter3d\"}], \"scattercarpet\": [{\"marker\": {\"colorbar\": {\"outlinewidth\": 0, \"ticks\": \"\"}}, \"type\": \"scattercarpet\"}], \"scattergeo\": [{\"marker\": {\"colorbar\": {\"outlinewidth\": 0, \"ticks\": \"\"}}, \"type\": \"scattergeo\"}], \"scattergl\": [{\"marker\": {\"line\": {\"color\": \"#283442\"}}, \"type\": \"scattergl\"}], \"scattermapbox\": [{\"marker\": {\"colorbar\": {\"outlinewidth\": 0, \"ticks\": \"\"}}, \"type\": \"scattermapbox\"}], \"scatterpolar\": [{\"marker\": {\"colorbar\": {\"outlinewidth\": 0, \"ticks\": \"\"}}, \"type\": \"scatterpolar\"}], \"scatterpolargl\": [{\"marker\": {\"colorbar\": {\"outlinewidth\": 0, \"ticks\": \"\"}}, \"type\": \"scatterpolargl\"}], \"scatterternary\": [{\"marker\": {\"colorbar\": {\"outlinewidth\": 0, \"ticks\": \"\"}}, \"type\": \"scatterternary\"}], \"surface\": [{\"colorbar\": {\"outlinewidth\": 0, \"ticks\": \"\"}, \"colorscale\": [[0.0, \"#0d0887\"], [0.1111111111111111, \"#46039f\"], [0.2222222222222222, \"#7201a8\"], [0.3333333333333333, \"#9c179e\"], [0.4444444444444444, \"#bd3786\"], [0.5555555555555556, \"#d8576b\"], [0.6666666666666666, \"#ed7953\"], [0.7777777777777778, \"#fb9f3a\"], [0.8888888888888888, \"#fdca26\"], [1.0, \"#f0f921\"]], \"type\": \"surface\"}], \"table\": [{\"cells\": {\"fill\": {\"color\": \"#506784\"}, \"line\": {\"color\": \"rgb(17,17,17)\"}}, \"header\": {\"fill\": {\"color\": \"#2a3f5f\"}, \"line\": {\"color\": \"rgb(17,17,17)\"}}, \"type\": \"table\"}]}, \"layout\": {\"annotationdefaults\": {\"arrowcolor\": \"#f2f5fa\", \"arrowhead\": 0, \"arrowwidth\": 1}, \"coloraxis\": {\"colorbar\": {\"outlinewidth\": 0, \"ticks\": \"\"}}, \"colorscale\": {\"diverging\": [[0, \"#8e0152\"], [0.1, \"#c51b7d\"], [0.2, \"#de77ae\"], [0.3, \"#f1b6da\"], [0.4, \"#fde0ef\"], [0.5, \"#f7f7f7\"], [0.6, \"#e6f5d0\"], [0.7, \"#b8e186\"], [0.8, \"#7fbc41\"], [0.9, \"#4d9221\"], [1, \"#276419\"]], \"sequential\": [[0.0, \"#0d0887\"], [0.1111111111111111, \"#46039f\"], [0.2222222222222222, \"#7201a8\"], [0.3333333333333333, \"#9c179e\"], [0.4444444444444444, \"#bd3786\"], [0.5555555555555556, \"#d8576b\"], [0.6666666666666666, \"#ed7953\"], [0.7777777777777778, \"#fb9f3a\"], [0.8888888888888888, \"#fdca26\"], [1.0, \"#f0f921\"]], \"sequentialminus\": [[0.0, \"#0d0887\"], [0.1111111111111111, \"#46039f\"], [0.2222222222222222, \"#7201a8\"], [0.3333333333333333, \"#9c179e\"], [0.4444444444444444, \"#bd3786\"], [0.5555555555555556, \"#d8576b\"], [0.6666666666666666, \"#ed7953\"], [0.7777777777777778, \"#fb9f3a\"], [0.8888888888888888, \"#fdca26\"], [1.0, \"#f0f921\"]]}, \"colorway\": [\"#636efa\", \"#EF553B\", \"#00cc96\", \"#ab63fa\", \"#FFA15A\", \"#19d3f3\", \"#FF6692\", \"#B6E880\", \"#FF97FF\", \"#FECB52\"], \"font\": {\"color\": \"#f2f5fa\"}, \"geo\": {\"bgcolor\": \"rgb(17,17,17)\", \"lakecolor\": \"rgb(17,17,17)\", \"landcolor\": \"rgb(17,17,17)\", \"showlakes\": true, \"showland\": true, \"subunitcolor\": \"#506784\"}, \"hoverlabel\": {\"align\": \"left\"}, \"hovermode\": \"closest\", \"mapbox\": {\"style\": \"dark\"}, \"paper_bgcolor\": \"rgb(17,17,17)\", \"plot_bgcolor\": \"rgb(17,17,17)\", \"polar\": {\"angularaxis\": {\"gridcolor\": \"#506784\", \"linecolor\": \"#506784\", \"ticks\": \"\"}, \"bgcolor\": \"rgb(17,17,17)\", \"radialaxis\": {\"gridcolor\": \"#506784\", \"linecolor\": \"#506784\", \"ticks\": \"\"}}, \"scene\": {\"xaxis\": {\"backgroundcolor\": \"rgb(17,17,17)\", \"gridcolor\": \"#506784\", \"gridwidth\": 2, \"linecolor\": \"#506784\", \"showbackground\": true, \"ticks\": \"\", \"zerolinecolor\": \"#C8D4E3\"}, \"yaxis\": {\"backgroundcolor\": \"rgb(17,17,17)\", \"gridcolor\": \"#506784\", \"gridwidth\": 2, \"linecolor\": \"#506784\", \"showbackground\": true, \"ticks\": \"\", \"zerolinecolor\": \"#C8D4E3\"}, \"zaxis\": {\"backgroundcolor\": \"rgb(17,17,17)\", \"gridcolor\": \"#506784\", \"gridwidth\": 2, \"linecolor\": \"#506784\", \"showbackground\": true, \"ticks\": \"\", \"zerolinecolor\": \"#C8D4E3\"}}, \"shapedefaults\": {\"line\": {\"color\": \"#f2f5fa\"}}, \"sliderdefaults\": {\"bgcolor\": \"#C8D4E3\", \"bordercolor\": \"rgb(17,17,17)\", \"borderwidth\": 1, \"tickwidth\": 0}, \"ternary\": {\"aaxis\": {\"gridcolor\": \"#506784\", \"linecolor\": \"#506784\", \"ticks\": \"\"}, \"baxis\": {\"gridcolor\": \"#506784\", \"linecolor\": \"#506784\", \"ticks\": \"\"}, \"bgcolor\": \"rgb(17,17,17)\", \"caxis\": {\"gridcolor\": \"#506784\", \"linecolor\": \"#506784\", \"ticks\": \"\"}}, \"title\": {\"x\": 0.05}, \"updatemenudefaults\": {\"bgcolor\": \"#506784\", \"borderwidth\": 0}, \"xaxis\": {\"automargin\": true, \"gridcolor\": \"#283442\", \"linecolor\": \"#506784\", \"ticks\": \"\", \"title\": {\"standoff\": 15}, \"zerolinecolor\": \"#283442\", \"zerolinewidth\": 2}, \"yaxis\": {\"automargin\": true, \"gridcolor\": \"#283442\", \"linecolor\": \"#506784\", \"ticks\": \"\", \"title\": {\"standoff\": 15}, \"zerolinecolor\": \"#283442\", \"zerolinewidth\": 2}}}, \"title\": {\"text\": \"Distribution of Prices per Rating\"}, \"xaxis\": {\"anchor\": \"y\", \"domain\": [0.0, 0.8358], \"title\": {\"text\": \"price\"}}, \"xaxis2\": {\"anchor\": \"y2\", \"domain\": [0.8408, 1.0], \"matches\": \"x2\", \"showgrid\": false, \"showline\": false, \"showticklabels\": false, \"ticks\": \"\"}, \"xaxis3\": {\"anchor\": \"y3\", \"domain\": [0.0, 0.8358], \"matches\": \"x\", \"showgrid\": true, \"showticklabels\": false}, \"xaxis4\": {\"anchor\": \"y4\", \"domain\": [0.8408, 1.0], \"matches\": \"x2\", \"showgrid\": false, \"showline\": false, \"showticklabels\": false, \"ticks\": \"\"}, \"yaxis\": {\"anchor\": \"x\", \"domain\": [0.0, 0.8316], \"title\": {\"text\": \"rating\"}}, \"yaxis2\": {\"anchor\": \"x2\", \"domain\": [0.0, 0.8316], \"matches\": \"y\", \"showgrid\": true, \"showticklabels\": false}, \"yaxis3\": {\"anchor\": \"x3\", \"domain\": [0.8416, 1.0], \"matches\": \"y3\", \"showgrid\": false, \"showline\": false, \"showticklabels\": false, \"ticks\": \"\"}, \"yaxis4\": {\"anchor\": \"x4\", \"domain\": [0.8416, 1.0], \"matches\": \"y3\", \"showgrid\": true, \"showline\": false, \"showticklabels\": false, \"ticks\": \"\"}},\n",
       "                        {\"responsive\": true}\n",
       "                    ).then(function(){\n",
       "                            \n",
       "var gd = document.getElementById('fb2dca1f-ee00-4e54-8cd7-885eb4cb77c9');\n",
       "var x = new MutationObserver(function (mutations, observer) {{\n",
       "        var display = window.getComputedStyle(gd).display;\n",
       "        if (!display || display === 'none') {{\n",
       "            console.log([gd, 'removed!']);\n",
       "            Plotly.purge(gd);\n",
       "            observer.disconnect();\n",
       "        }}\n",
       "}});\n",
       "\n",
       "// Listen for the removal of the full notebook cells\n",
       "var notebookContainer = gd.closest('#notebook-container');\n",
       "if (notebookContainer) {{\n",
       "    x.observe(notebookContainer, {childList: true});\n",
       "}}\n",
       "\n",
       "// Listen for the clearing of the current output cell\n",
       "var outputEl = gd.closest('.output');\n",
       "if (outputEl) {{\n",
       "    x.observe(outputEl, {childList: true});\n",
       "}}\n",
       "\n",
       "                        })\n",
       "                };\n",
       "                });\n",
       "            </script>\n",
       "        </div>"
      ]
     },
     "metadata": {},
     "output_type": "display_data"
    }
   ],
   "source": [
    "fig2 = px.scatter(df_p2, x=df_p2['price'], y=df_p2['rating'], title='Distribution of Prices per Rating', template='plotly_dark', \\\n",
    "                 marginal_y=\"violin\", marginal_x=\"violin\")\n",
    "\n",
    "#fig2.update_xaxes(range=[1,100])\n",
    "fig2.show()"
   ]
  },
  {
   "cell_type": "code",
   "execution_count": 107,
   "metadata": {},
   "outputs": [
    {
     "data": {
      "text/plain": [
       "<function matplotlib.pyplot.show(close=None, block=None)>"
      ]
     },
     "execution_count": 107,
     "metadata": {},
     "output_type": "execute_result"
    },
    {
     "data": {
      "image/png": "[encoded data removed]",
      "text/plain": [
       "<Figure size 1800x720 with 2 Axes>"
      ]
     },
     "metadata": {
      "needs_background": "dark"
     },
     "output_type": "display_data"
    }
   ],
   "source": [
    "fields = defaultdict(list)\n",
    "\n",
    "for d in dataset:\n",
    "    for k, v in d.items():\n",
    "        fields[k].append(v)\n",
    "        \n",
    "temp = fields\n",
    "temp.pop('reviewerID', None)\n",
    "temp.pop('reviewText', None)\n",
    "temp.pop('summary', None)\n",
    "temp.pop('asin', None)\n",
    "temp.pop('date', None)\n",
    "\n",
    "time = pd.DataFrame(temp)\n",
    "time['count'] = 1\n",
    "treview = time.drop(['votes', 'rating'], axis=1)\n",
    "treview = treview.pivot_table('count', 'month', 'year', aggfunc='count')\n",
    "\n",
    "plt.figure(figsize=(25,10))\n",
    "plt.style.use(\"dark_background\")\n",
    "\n",
    "heatMap = sns.heatmap(treview, annot=True, fmt='g', cmap='Reds', linewidths=3, linecolor='black', \\\n",
    "                      cbar_kws={'label': 'Number of reviews per Month', 'orientation': 'horizontal'})\n",
    "heatMap.set_yticklabels(heatMap.get_yticklabels(), rotation=0)\n",
    "heatMap.set_xticklabels(heatMap.get_xticklabels(), rotation=0)\n",
    "\n",
    "plt.show"
   ]
  },
  {
   "cell_type": "markdown",
   "metadata": {},
   "source": [
    "___"
   ]
  },
  {
   "cell_type": "markdown",
   "metadata": {},
   "source": [
    "### <div align=\"center\">SENTIMENT ANALYSIS</div>"
   ]
  },
  {
   "cell_type": "markdown",
   "metadata": {},
   "source": [
    "Now we will perform a **sentiment analysis** of the reviews, to build a **rating predictor model** based on the words used in the text of the reviews."
   ]
  },
  {
   "cell_type": "code",
   "execution_count": 108,
   "metadata": {},
   "outputs": [
    {
     "name": "stdout",
     "output_type": "stream",
     "text": [
      "4820\n"
     ]
    }
   ],
   "source": [
    "wordCount = defaultdict(int)\n",
    "punctuation = set(string.punctuation)\n",
    "stemmer = PorterStemmer()\n",
    "for d in data:\n",
    "    r = ''.join([c for c in d['reviewText'].lower() if not c in punctuation])\n",
    "    for w in r.split():\n",
    "        w = stemmer.stem(w)\n",
    "        wordCount[w] += 1\n",
    "print(len(wordCount))"
   ]
  },
  {
   "cell_type": "code",
   "execution_count": 134,
   "metadata": {},
   "outputs": [],
   "source": [
    "counts = [(wordCount[w], w) for w in wordCount]\n",
    "counts.sort()\n",
    "counts.reverse()\n",
    "\n",
    "words = [x[1] for x in counts [:10000]]\n",
    "\n",
    "wordId = dict(zip(words, range(len(words))))\n",
    "wordSet = set(words)"
   ]
  },
  {
   "cell_type": "markdown",
   "metadata": {},
   "source": [
    "DATA SPLITTING"
   ]
  },
  {
   "cell_type": "code",
   "execution_count": 135,
   "metadata": {},
   "outputs": [],
   "source": [
    "def feature(datum):\n",
    "    feat = [0]*len(words)\n",
    "    r = ''.join([c for c in datum['reviewText'].lower() if not c in punctuation])\n",
    "    for w in r.split():\n",
    "        w = stemmer.stem(w)\n",
    "        if w in words:\n",
    "            feat[wordId[w]] += 1\n",
    "        feat.append(1)\n",
    "        return feat"
   ]
  },
  {
   "cell_type": "code",
   "execution_count": 136,
   "metadata": {},
   "outputs": [],
   "source": [
    "random.shuffle(data)"
   ]
  },
  {
   "cell_type": "code",
   "execution_count": 137,
   "metadata": {},
   "outputs": [],
   "source": [
    "X = [feature(d) for d in data]\n",
    "y = [d['rating'] for d in data]"
   ]
  },
  {
   "cell_type": "code",
   "execution_count": 138,
   "metadata": {},
   "outputs": [],
   "source": [
    "N = len(X)\n",
    "X_train = X[:3*N//5]\n",
    "X_valid = X[3*N//5:4*N//5]\n",
    "X_test = X[4*N//5:]\n",
    "y_train = y[:3*N//5]\n",
    "y_valid = y[3*N//5:4*N//5]\n",
    "y_test = y[4*N//5:]"
   ]
  },
  {
   "cell_type": "code",
   "execution_count": 139,
   "metadata": {},
   "outputs": [
    {
     "name": "stdout",
     "output_type": "stream",
     "text": [
      "Train set = 889 \n",
      "Validation set = 296 \n",
      "Test set = 297 \n",
      "From a dataset of 1482 size.\n"
     ]
    }
   ],
   "source": [
    "print('Train set = {} \\nValidation set = {} \\nTest set = {} \\nFrom a dataset of {} size.'.format(len(X_train), len(X_valid), len(X_test), len(X)))"
   ]
  },
  {
   "cell_type": "code",
   "execution_count": 140,
   "metadata": {},
   "outputs": [],
   "source": [
    "x1 = X_train\n",
    "x2 = X_valid\n",
    "x3 = X_test\n",
    "y1 = y_train\n",
    "y2 = y_valid\n",
    "y3 = y_test"
   ]
  },
  {
   "cell_type": "markdown",
   "metadata": {},
   "source": [
    "#### LINEAR APPROACH - Linear Regression"
   ]
  },
  {
   "cell_type": "code",
   "execution_count": 141,
   "metadata": {},
   "outputs": [],
   "source": [
    "theta,residuals,rank,s = np.linalg.lstsq(X, y, rcond=None)"
   ]
  },
  {
   "cell_type": "code",
   "execution_count": 142,
   "metadata": {},
   "outputs": [],
   "source": [
    "wordWeights = list(zip(theta, words + ['offset']))\n",
    "wordWeights.sort()"
   ]
  },
  {
   "cell_type": "code",
   "execution_count": 143,
   "metadata": {},
   "outputs": [
    {
     "data": {
      "text/plain": [
       "Ridge(fit_intercept=False)"
      ]
     },
     "execution_count": 143,
     "metadata": {},
     "output_type": "execute_result"
    }
   ],
   "source": [
    "model = linear_model.Ridge(1.0, fit_intercept=False)\n",
    "model.fit(X_train, y_train)"
   ]
  },
  {
   "cell_type": "code",
   "execution_count": 144,
   "metadata": {},
   "outputs": [],
   "source": [
    "theta2 = model.coef_"
   ]
  },
  {
   "cell_type": "code",
   "execution_count": 145,
   "metadata": {},
   "outputs": [],
   "source": [
    "wordsWeight = list(zip(theta2, words + ['offset']))\n",
    "wordsWeight.sort()"
   ]
  },
  {
   "cell_type": "code",
   "execution_count": 146,
   "metadata": {},
   "outputs": [
    {
     "data": {
      "text/plain": [
       "[(0.9104589434981305, 'fit'),\n",
       " (0.9104589434981311, 'deliv'),\n",
       " (0.9104589434981322, 'clearli'),\n",
       " (0.9104589434981349, 'enjoy'),\n",
       " (0.9104589434981386, 'georgou'),\n",
       " (0.9104589434981419, 'inexpens'),\n",
       " (0.9104589434981443, 'now'),\n",
       " (0.9104589434981561, 'with'),\n",
       " (0.910458943498316, 'and'),\n",
       " (4.08954105650188, 'offset')]"
      ]
     },
     "execution_count": 146,
     "metadata": {},
     "output_type": "execute_result"
    }
   ],
   "source": [
    "wordWeights[-10:]"
   ]
  },
  {
   "cell_type": "code",
   "execution_count": 147,
   "metadata": {},
   "outputs": [
    {
     "data": {
      "text/plain": [
       "[(-3.0895410565019046, 'po'),\n",
       " (-3.0895410565019, 'seller'),\n",
       " (-3.08954105650189, 'unbox'),\n",
       " (-3.089541056501889, 'start'),\n",
       " (-3.0895410565018886, 'all'),\n",
       " (-3.089541056501888, 'fm'),\n",
       " (-3.089541056501887, 'keep'),\n",
       " (-3.089541056501886, 'get'),\n",
       " (-3.0895410565018855, 'complet'),\n",
       " (-3.0895410565018855, 'hi')]"
      ]
     },
     "execution_count": 147,
     "metadata": {},
     "output_type": "execute_result"
    }
   ],
   "source": [
    "wordWeights[:10]"
   ]
  },
  {
   "cell_type": "markdown",
   "metadata": {},
   "source": [
    "**MODEL EVALUATION**"
   ]
  },
  {
   "cell_type": "code",
   "execution_count": 148,
   "metadata": {},
   "outputs": [],
   "source": [
    "predictions = model.predict(x1)"
   ]
  },
  {
   "cell_type": "code",
   "execution_count": 129,
   "metadata": {},
   "outputs": [],
   "source": [
    "differences = [(x-y)**2 for (x,y) in zip(predictions,y1)]"
   ]
  },
  {
   "cell_type": "code",
   "execution_count": 149,
   "metadata": {},
   "outputs": [
    {
     "name": "stdout",
     "output_type": "stream",
     "text": [
      "MSE = 0.859539549912118\n"
     ]
    }
   ],
   "source": [
    "mseTrain = sum(differences) / len(differences)\n",
    "print('MSE = {}'.format(mseTrain))"
   ]
  },
  {
   "cell_type": "code",
   "execution_count": 150,
   "metadata": {},
   "outputs": [
    {
     "name": "stdout",
     "output_type": "stream",
     "text": [
      "R2 = 0.3246695914626413\n"
     ]
    }
   ],
   "source": [
    "fvuTrain = mseTrain / np.var(y1)\n",
    "R2_Train = 1-fvuTrain\n",
    "print('R2 = {}'.format(R2_Train))"
   ]
  },
  {
   "cell_type": "code",
   "execution_count": 132,
   "metadata": {},
   "outputs": [],
   "source": [
    "bestModel = None\n",
    "bestMSE = None"
   ]
  },
  {
   "cell_type": "code",
   "execution_count": 133,
   "metadata": {},
   "outputs": [
    {
     "ename": "NameError",
     "evalue": "name 'MSE' is not defined",
     "output_type": "error",
     "traceback": [
      "\u001b[1;31m---------------------------------------------------------------------------\u001b[0m",
      "\u001b[1;31mNameError\u001b[0m                                 Traceback (most recent call last)",
      "\u001b[1;32m<ipython-input-133-167e4a64ee94>\u001b[0m in \u001b[0;36m<module>\u001b[1;34m\u001b[0m\n\u001b[0;32m      3\u001b[0m     \u001b[0mmodel\u001b[0m\u001b[1;33m.\u001b[0m\u001b[0mfit\u001b[0m\u001b[1;33m(\u001b[0m\u001b[0mx1\u001b[0m\u001b[1;33m,\u001b[0m \u001b[0my1\u001b[0m\u001b[1;33m)\u001b[0m\u001b[1;33m\u001b[0m\u001b[1;33m\u001b[0m\u001b[0m\n\u001b[0;32m      4\u001b[0m \u001b[1;33m\u001b[0m\u001b[0m\n\u001b[1;32m----> 5\u001b[1;33m     \u001b[0mmseTrain\u001b[0m \u001b[1;33m=\u001b[0m \u001b[0mMSE\u001b[0m\u001b[1;33m(\u001b[0m\u001b[0mmodel\u001b[0m\u001b[1;33m,\u001b[0m \u001b[0mx1\u001b[0m\u001b[1;33m,\u001b[0m \u001b[0my1\u001b[0m\u001b[1;33m)\u001b[0m\u001b[1;33m\u001b[0m\u001b[1;33m\u001b[0m\u001b[0m\n\u001b[0m\u001b[0;32m      6\u001b[0m     \u001b[0mmseValid\u001b[0m \u001b[1;33m=\u001b[0m \u001b[0mMSE\u001b[0m\u001b[1;33m(\u001b[0m\u001b[0mmodel\u001b[0m\u001b[1;33m,\u001b[0m \u001b[0mx2\u001b[0m\u001b[1;33m,\u001b[0m \u001b[0my2\u001b[0m\u001b[1;33m)\u001b[0m\u001b[1;33m\u001b[0m\u001b[1;33m\u001b[0m\u001b[0m\n\u001b[0;32m      7\u001b[0m \u001b[1;33m\u001b[0m\u001b[0m\n",
      "\u001b[1;31mNameError\u001b[0m: name 'MSE' is not defined"
     ]
    }
   ],
   "source": [
    "for lamb in [0.01, 0.1, 1, 10, 100]:\n",
    "    model = linear_model.Ridge(lamb, fit_intercept=False)\n",
    "    model.fit(x1, y1)\n",
    "    \n",
    "    mseTrain = MSE(model, x1, y1)\n",
    "    mseValid = MSE(model, x2, y2)\n",
    "    \n",
    "    print('lambda = ' + str(lamb) + ' - Training error: ' + str(mseTrain) + ' / Validation error: ' + str(mseValid))\n",
    "    \n",
    "    if not bestModel or mseValid < bestMSE:\n",
    "        bestModel = model\n",
    "        bestMSE = mseValid\n",
    "print('\\nBest MSE on Validation Set is ' + str(bestMSE) + ' (lambda = ' + str(bestModel.alpha) + ')')"
   ]
  },
  {
   "cell_type": "code",
   "execution_count": 339,
   "metadata": {},
   "outputs": [
    {
     "name": "stdout",
     "output_type": "stream",
     "text": [
      "Test error: 1.3591125415989858\n"
     ]
    }
   ],
   "source": [
    "mseTest = MSE(bestModel, x3, y3)\n",
    "print('Test error: ' + str(mseTest))"
   ]
  },
  {
   "cell_type": "code",
   "execution_count": 221,
   "metadata": {},
   "outputs": [
    {
     "name": "stdout",
     "output_type": "stream",
     "text": [
      "R2 Test Set = 0.04689023896596589\n"
     ]
    }
   ],
   "source": [
    "fvuTest = mseTest / np.var(y3)\n",
    "R2_Test = 1-fvuTest\n",
    "print('R2 Test Set = {}'.format(R2_Test))"
   ]
  },
  {
   "cell_type": "markdown",
   "metadata": {},
   "source": [
    "___\n",
    "#### CLASSIFICATION APPROACH - Support Vector Classifier\n",
    "Will the rating be equal to or greater than 4?"
   ]
  },
  {
   "cell_type": "code",
   "execution_count": 340,
   "metadata": {},
   "outputs": [],
   "source": [
    "y_class = [(rating >= 4) for rating in y1]"
   ]
  },
  {
   "cell_type": "code",
   "execution_count": 343,
   "metadata": {},
   "outputs": [
    {
     "data": {
      "text/plain": [
       "SVC()"
      ]
     },
     "execution_count": 343,
     "metadata": {},
     "output_type": "execute_result"
    }
   ],
   "source": [
    "model = svm.SVC()\n",
    "model.fit(x1, y_class)"
   ]
  },
  {
   "cell_type": "code",
   "execution_count": 344,
   "metadata": {},
   "outputs": [],
   "source": [
    "class_predict = model.predict(x1)"
   ]
  },
  {
   "cell_type": "markdown",
   "metadata": {},
   "source": [
    "MODEL EVALUATION"
   ]
  },
  {
   "cell_type": "code",
   "execution_count": 345,
   "metadata": {},
   "outputs": [],
   "source": [
    "correct = class_predict == y_class"
   ]
  },
  {
   "cell_type": "code",
   "execution_count": 346,
   "metadata": {},
   "outputs": [
    {
     "name": "stdout",
     "output_type": "stream",
     "text": [
      "Accuracy = 0.8638920134983127\n"
     ]
    }
   ],
   "source": [
    "accuracy = sum(correct) / len(correct)\n",
    "print('Accuracy = {}'.format(accuracy))"
   ]
  },
  {
   "cell_type": "code",
   "execution_count": 347,
   "metadata": {},
   "outputs": [],
   "source": [
    "TP = sum([(p and l) for (p,l) in zip(class_predict, y_class)])\n",
    "FP = sum([(p and not l) for (p,l) in zip(class_predict, y_class)])\n",
    "TN = sum([(not p and not l) for (p,l) in zip(class_predict, y_class)])\n",
    "FN = sum([(not p and l) for (p,l) in zip(class_predict, y_class)])"
   ]
  },
  {
   "cell_type": "code",
   "execution_count": 348,
   "metadata": {},
   "outputs": [
    {
     "name": "stdout",
     "output_type": "stream",
     "text": [
      "True Positives: 755 \n",
      "False Positives: 119 \n",
      "True Negatives: 13 \n",
      "False Negatives: 2\n"
     ]
    }
   ],
   "source": [
    "print('True Positives: {} \\nFalse Positives: {} \\nTrue Negatives: {} \\nFalse Negatives: {}'\\\n",
    "     .format(TP, FP, TN, FN))"
   ]
  },
  {
   "cell_type": "code",
   "execution_count": 349,
   "metadata": {},
   "outputs": [
    {
     "name": "stdout",
     "output_type": "stream",
     "text": [
      "This model's performance is as follows: \n",
      "Overall Accuracy: 86.4%\n",
      "True Positive Rate (Recall): 86.4%\n",
      "True Negative Rate: 86.4%\n",
      "Balanced Error Rate: 86.4%\n",
      "Precision: 86.4%\n",
      "F1-Score: 86.4%\n"
     ]
    }
   ],
   "source": [
    "model_accuracy = (TP+TN)/(TP+TN+FP+FN)\n",
    "TPR = TP/(TP+FN)\n",
    "TNR = TN/(TN+FP)\n",
    "BER = 1 - 1/2 * (TPR + TNR)\n",
    "precision = TP / (TP+FP)\n",
    "F1 = 2*(precision*TPR)/(precision+TPR)\n",
    "print('This model\\'s performance is as follows: \\nOverall Accuracy: {0:.1%}\\nTrue Positive Rate \\\n",
    "(Recall): {0:.1%}\\nTrue Negative Rate: {0:.1%}\\nBalanced Error Rate: {0:.1%}\\nPrecision: {0:.1%}\\n\\\n",
    "F1-Score: {0:.1%}'.format(model_accuracy, TPR, TNR, BER, precision, F1))"
   ]
  },
  {
   "cell_type": "code",
   "execution_count": 354,
   "metadata": {},
   "outputs": [
    {
     "data": {
      "text/plain": [
       "0.04049493813273341"
      ]
     },
     "execution_count": 354,
     "metadata": {},
     "output_type": "execute_result"
    }
   ],
   "source": [
    "model.score(x1,y1,sample_weight=None)"
   ]
  },
  {
   "cell_type": "code",
   "execution_count": null,
   "metadata": {},
   "outputs": [],
   "source": []
  },
  {
   "cell_type": "code",
   "execution_count": 242,
   "metadata": {},
   "outputs": [],
   "source": [
    "confidences = model.decision_function(x1)"
   ]
  },
  {
   "cell_type": "code",
   "execution_count": 243,
   "metadata": {},
   "outputs": [],
   "source": [
    "confidenceAndLabels = list(zip(confidences,y_class))"
   ]
  },
  {
   "cell_type": "code",
   "execution_count": 249,
   "metadata": {},
   "outputs": [],
   "source": [
    "labelsRankedByConfidence = [z[1] for z in confidenceAndLabels]"
   ]
  },
  {
   "cell_type": "code",
   "execution_count": 251,
   "metadata": {},
   "outputs": [],
   "source": [
    "def precisionAtK(K,y_sorted):\n",
    "    return sum(y_sorted[:K])/K"
   ]
  },
  {
   "cell_type": "code",
   "execution_count": 252,
   "metadata": {},
   "outputs": [],
   "source": [
    "def recallAtK(K,y_sorted):\n",
    "    return sum(y_sorted[:K])/sum(y_sorted)"
   ]
  },
  {
   "cell_type": "code",
   "execution_count": 261,
   "metadata": {},
   "outputs": [
    {
     "name": "stdout",
     "output_type": "stream",
     "text": [
      "Precision at 500 is 0.866\n",
      "Recall at 500 is 0.571994715984148\n"
     ]
    }
   ],
   "source": [
    "at = 500\n",
    "prec = precisionAtK(at, labelsRankedByConfidence)\n",
    "rec = recallAtK(at, labelsRankedByConfidence)\n",
    "print('Precision at ' + str(at) + ' is ' + str(prec))\n",
    "print('Recall at ' + str(at) + ' is ' + str(rec))"
   ]
  },
  {
   "cell_type": "code",
   "execution_count": 265,
   "metadata": {},
   "outputs": [
    {
     "data": {
      "text/plain": [
       "[(2.041518953867072, True),\n",
       " (1.9284113874684847, True),\n",
       " (1.5560268834007625, True),\n",
       " (3.117024202477381, True),\n",
       " (1.8252920537525485, True)]"
      ]
     },
     "execution_count": 265,
     "metadata": {},
     "output_type": "execute_result"
    }
   ],
   "source": [
    "confidenceAndLabels[:5]"
   ]
  },
  {
   "cell_type": "code",
   "execution_count": 272,
   "metadata": {
    "collapsed": true,
    "jupyter": {
     "outputs_hidden": true,
     "source_hidden": true
    }
   },
   "outputs": [
    {
     "ename": "TypeError",
     "evalue": "slice indices must be integers or None or have an __index__ method",
     "output_type": "error",
     "traceback": [
      "\u001b[1;31m---------------------------------------------------------------------------\u001b[0m",
      "\u001b[1;31mTypeError\u001b[0m                                 Traceback (most recent call last)",
      "\u001b[1;32m<ipython-input-272-08cc8a6e4311>\u001b[0m in \u001b[0;36m<module>\u001b[1;34m\u001b[0m\n\u001b[0;32m      2\u001b[0m \u001b[0mre\u001b[0m \u001b[1;33m=\u001b[0m \u001b[1;33m[\u001b[0m\u001b[1;33m]\u001b[0m\u001b[1;33m\u001b[0m\u001b[1;33m\u001b[0m\u001b[0m\n\u001b[0;32m      3\u001b[0m \u001b[1;32mfor\u001b[0m \u001b[0mK\u001b[0m \u001b[1;32min\u001b[0m \u001b[0mconfidenceAndLabels\u001b[0m\u001b[1;33m:\u001b[0m\u001b[1;33m\u001b[0m\u001b[1;33m\u001b[0m\u001b[0m\n\u001b[1;32m----> 4\u001b[1;33m     \u001b[0mpr\u001b[0m\u001b[1;33m.\u001b[0m\u001b[0mappend\u001b[0m\u001b[1;33m(\u001b[0m\u001b[0mprecisionAtK\u001b[0m\u001b[1;33m(\u001b[0m\u001b[0mK\u001b[0m\u001b[1;33m,\u001b[0m \u001b[0my1\u001b[0m\u001b[1;33m)\u001b[0m\u001b[1;33m)\u001b[0m\u001b[1;33m\u001b[0m\u001b[1;33m\u001b[0m\u001b[0m\n\u001b[0m\u001b[0;32m      5\u001b[0m     \u001b[0mre\u001b[0m\u001b[1;33m.\u001b[0m\u001b[0mappend\u001b[0m\u001b[1;33m(\u001b[0m\u001b[0mrecallAtK\u001b[0m\u001b[1;33m(\u001b[0m\u001b[0mK\u001b[0m\u001b[1;33m,\u001b[0m \u001b[0my1\u001b[0m\u001b[1;33m)\u001b[0m\u001b[1;33m)\u001b[0m\u001b[1;33m\u001b[0m\u001b[1;33m\u001b[0m\u001b[0m\n",
      "\u001b[1;32m<ipython-input-251-98e4e843e26b>\u001b[0m in \u001b[0;36mprecisionAtK\u001b[1;34m(K, y_sorted)\u001b[0m\n\u001b[0;32m      1\u001b[0m \u001b[1;32mdef\u001b[0m \u001b[0mprecisionAtK\u001b[0m\u001b[1;33m(\u001b[0m\u001b[0mK\u001b[0m\u001b[1;33m,\u001b[0m\u001b[0my_sorted\u001b[0m\u001b[1;33m)\u001b[0m\u001b[1;33m:\u001b[0m\u001b[1;33m\u001b[0m\u001b[1;33m\u001b[0m\u001b[0m\n\u001b[1;32m----> 2\u001b[1;33m     \u001b[1;32mreturn\u001b[0m \u001b[0msum\u001b[0m\u001b[1;33m(\u001b[0m\u001b[0my_sorted\u001b[0m\u001b[1;33m[\u001b[0m\u001b[1;33m:\u001b[0m\u001b[0mK\u001b[0m\u001b[1;33m]\u001b[0m\u001b[1;33m)\u001b[0m\u001b[1;33m/\u001b[0m\u001b[0mK\u001b[0m\u001b[1;33m\u001b[0m\u001b[1;33m\u001b[0m\u001b[0m\n\u001b[0m",
      "\u001b[1;31mTypeError\u001b[0m: slice indices must be integers or None or have an __index__ method"
     ]
    }
   ],
   "source": [
    "pr = []\n",
    "re = []\n",
    "for K in confidenceAndLabels:\n",
    "    pr.append(precisionAtK(K, y1))\n",
    "    re.append(recallAtK(K, y1))"
   ]
  },
  {
   "cell_type": "code",
   "execution_count": 274,
   "metadata": {
    "collapsed": true,
    "jupyter": {
     "outputs_hidden": true,
     "source_hidden": true
    }
   },
   "outputs": [
    {
     "ename": "ValueError",
     "evalue": "String or int arguments are only possible when a DataFrame or an array is provided in the `data_frame` argument. No DataFrame was provided, but argument 'x' is of type str or int.",
     "output_type": "error",
     "traceback": [
      "\u001b[1;31m---------------------------------------------------------------------------\u001b[0m",
      "\u001b[1;31mValueError\u001b[0m                                Traceback (most recent call last)",
      "\u001b[1;32m<ipython-input-274-979301690d3c>\u001b[0m in \u001b[0;36m<module>\u001b[1;34m\u001b[0m\n\u001b[1;32m----> 1\u001b[1;33m \u001b[0mfig5\u001b[0m \u001b[1;33m=\u001b[0m \u001b[0mpx\u001b[0m\u001b[1;33m.\u001b[0m\u001b[0mline\u001b[0m\u001b[1;33m(\u001b[0m\u001b[0mx\u001b[0m\u001b[1;33m=\u001b[0m\u001b[0mlen\u001b[0m\u001b[1;33m(\u001b[0m\u001b[0mlabelsRankedByConfidence\u001b[0m\u001b[1;33m)\u001b[0m\u001b[1;33m,\u001b[0m \u001b[0my\u001b[0m\u001b[1;33m=\u001b[0m\u001b[1;33m[\u001b[0m\u001b[0mprec\u001b[0m\u001b[1;33m,\u001b[0m \u001b[0mrec\u001b[0m\u001b[1;33m]\u001b[0m\u001b[1;33m,\u001b[0m \u001b[0mtitle\u001b[0m\u001b[1;33m=\u001b[0m\u001b[1;34m'Progression of Confidence (Precision and Recall;)'\u001b[0m\u001b[1;33m,\u001b[0m \u001b[0mtemplate\u001b[0m\u001b[1;33m=\u001b[0m\u001b[1;34m'plotly_dark'\u001b[0m\u001b[1;33m)\u001b[0m\u001b[1;33m\u001b[0m\u001b[1;33m\u001b[0m\u001b[0m\n\u001b[0m\u001b[0;32m      2\u001b[0m \u001b[1;31m#fig2.update_layout({'plot_bgcolor': 'rgba(0, 0, 0, 0)', 'paper_bgcolor': 'rgba(0, 0, 0, 0)',})\u001b[0m\u001b[1;33m\u001b[0m\u001b[1;33m\u001b[0m\u001b[1;33m\u001b[0m\u001b[0m\n\u001b[0;32m      3\u001b[0m \u001b[0mfig5\u001b[0m\u001b[1;33m.\u001b[0m\u001b[0mshow\u001b[0m\u001b[1;33m(\u001b[0m\u001b[1;33m)\u001b[0m\u001b[1;33m\u001b[0m\u001b[1;33m\u001b[0m\u001b[0m\n",
      "\u001b[1;32mF:\\Anaconda\\envs\\courses\\lib\\site-packages\\plotly\\express\\_chart_types.py\u001b[0m in \u001b[0;36mline\u001b[1;34m(data_frame, x, y, line_group, color, line_dash, hover_name, hover_data, custom_data, text, facet_row, facet_col, facet_col_wrap, facet_row_spacing, facet_col_spacing, error_x, error_x_minus, error_y, error_y_minus, animation_frame, animation_group, category_orders, labels, orientation, color_discrete_sequence, color_discrete_map, line_dash_sequence, line_dash_map, log_x, log_y, range_x, range_y, line_shape, render_mode, title, template, width, height)\u001b[0m\n\u001b[0;32m    250\u001b[0m     \u001b[0ma\u001b[0m \u001b[0mpolyline\u001b[0m \u001b[0mmark\u001b[0m \u001b[1;32min\u001b[0m \u001b[1;36m2\u001b[0m\u001b[0mD\u001b[0m \u001b[0mspace\u001b[0m\u001b[1;33m.\u001b[0m\u001b[1;33m\u001b[0m\u001b[1;33m\u001b[0m\u001b[0m\n\u001b[0;32m    251\u001b[0m     \"\"\"\n\u001b[1;32m--> 252\u001b[1;33m     \u001b[1;32mreturn\u001b[0m \u001b[0mmake_figure\u001b[0m\u001b[1;33m(\u001b[0m\u001b[0margs\u001b[0m\u001b[1;33m=\u001b[0m\u001b[0mlocals\u001b[0m\u001b[1;33m(\u001b[0m\u001b[1;33m)\u001b[0m\u001b[1;33m,\u001b[0m \u001b[0mconstructor\u001b[0m\u001b[1;33m=\u001b[0m\u001b[0mgo\u001b[0m\u001b[1;33m.\u001b[0m\u001b[0mScatter\u001b[0m\u001b[1;33m)\u001b[0m\u001b[1;33m\u001b[0m\u001b[1;33m\u001b[0m\u001b[0m\n\u001b[0m\u001b[0;32m    253\u001b[0m \u001b[1;33m\u001b[0m\u001b[0m\n\u001b[0;32m    254\u001b[0m \u001b[1;33m\u001b[0m\u001b[0m\n",
      "\u001b[1;32mF:\\Anaconda\\envs\\courses\\lib\\site-packages\\plotly\\express\\_core.py\u001b[0m in \u001b[0;36mmake_figure\u001b[1;34m(args, constructor, trace_patch, layout_patch)\u001b[0m\n\u001b[0;32m   1829\u001b[0m     \u001b[0mapply_default_cascade\u001b[0m\u001b[1;33m(\u001b[0m\u001b[0margs\u001b[0m\u001b[1;33m)\u001b[0m\u001b[1;33m\u001b[0m\u001b[1;33m\u001b[0m\u001b[0m\n\u001b[0;32m   1830\u001b[0m \u001b[1;33m\u001b[0m\u001b[0m\n\u001b[1;32m-> 1831\u001b[1;33m     \u001b[0margs\u001b[0m \u001b[1;33m=\u001b[0m \u001b[0mbuild_dataframe\u001b[0m\u001b[1;33m(\u001b[0m\u001b[0margs\u001b[0m\u001b[1;33m,\u001b[0m \u001b[0mconstructor\u001b[0m\u001b[1;33m)\u001b[0m\u001b[1;33m\u001b[0m\u001b[1;33m\u001b[0m\u001b[0m\n\u001b[0m\u001b[0;32m   1832\u001b[0m     \u001b[1;32mif\u001b[0m \u001b[0mconstructor\u001b[0m \u001b[1;32min\u001b[0m \u001b[1;33m[\u001b[0m\u001b[0mgo\u001b[0m\u001b[1;33m.\u001b[0m\u001b[0mTreemap\u001b[0m\u001b[1;33m,\u001b[0m \u001b[0mgo\u001b[0m\u001b[1;33m.\u001b[0m\u001b[0mSunburst\u001b[0m\u001b[1;33m]\u001b[0m \u001b[1;32mand\u001b[0m \u001b[0margs\u001b[0m\u001b[1;33m[\u001b[0m\u001b[1;34m\"path\"\u001b[0m\u001b[1;33m]\u001b[0m \u001b[1;32mis\u001b[0m \u001b[1;32mnot\u001b[0m \u001b[1;32mNone\u001b[0m\u001b[1;33m:\u001b[0m\u001b[1;33m\u001b[0m\u001b[1;33m\u001b[0m\u001b[0m\n\u001b[0;32m   1833\u001b[0m         \u001b[0margs\u001b[0m \u001b[1;33m=\u001b[0m \u001b[0mprocess_dataframe_hierarchy\u001b[0m\u001b[1;33m(\u001b[0m\u001b[0margs\u001b[0m\u001b[1;33m)\u001b[0m\u001b[1;33m\u001b[0m\u001b[1;33m\u001b[0m\u001b[0m\n",
      "\u001b[1;32mF:\\Anaconda\\envs\\courses\\lib\\site-packages\\plotly\\express\\_core.py\u001b[0m in \u001b[0;36mbuild_dataframe\u001b[1;34m(args, constructor)\u001b[0m\n\u001b[0;32m   1361\u001b[0m     \u001b[1;31m# now that things have been prepped, we do the systematic rewriting of `args`\u001b[0m\u001b[1;33m\u001b[0m\u001b[1;33m\u001b[0m\u001b[1;33m\u001b[0m\u001b[0m\n\u001b[0;32m   1362\u001b[0m \u001b[1;33m\u001b[0m\u001b[0m\n\u001b[1;32m-> 1363\u001b[1;33m     df_output, wide_id_vars = process_args_into_dataframe(\n\u001b[0m\u001b[0;32m   1364\u001b[0m         \u001b[0margs\u001b[0m\u001b[1;33m,\u001b[0m \u001b[0mwide_mode\u001b[0m\u001b[1;33m,\u001b[0m \u001b[0mvar_name\u001b[0m\u001b[1;33m,\u001b[0m \u001b[0mvalue_name\u001b[0m\u001b[1;33m\u001b[0m\u001b[1;33m\u001b[0m\u001b[0m\n\u001b[0;32m   1365\u001b[0m     )\n",
      "\u001b[1;32mF:\\Anaconda\\envs\\courses\\lib\\site-packages\\plotly\\express\\_core.py\u001b[0m in \u001b[0;36mprocess_args_into_dataframe\u001b[1;34m(args, wide_mode, var_name, value_name)\u001b[0m\n\u001b[0;32m   1146\u001b[0m                         \u001b[0mdf_output\u001b[0m\u001b[1;33m[\u001b[0m\u001b[0mcol_name\u001b[0m\u001b[1;33m]\u001b[0m \u001b[1;33m=\u001b[0m \u001b[0mnp\u001b[0m\u001b[1;33m.\u001b[0m\u001b[0marray\u001b[0m\u001b[1;33m(\u001b[0m\u001b[0mreal_argument\u001b[0m\u001b[1;33m)\u001b[0m\u001b[1;33m\u001b[0m\u001b[1;33m\u001b[0m\u001b[0m\n\u001b[0;32m   1147\u001b[0m                 \u001b[1;32melif\u001b[0m \u001b[1;32mnot\u001b[0m \u001b[0mdf_provided\u001b[0m\u001b[1;33m:\u001b[0m\u001b[1;33m\u001b[0m\u001b[1;33m\u001b[0m\u001b[0m\n\u001b[1;32m-> 1148\u001b[1;33m                     raise ValueError(\n\u001b[0m\u001b[0;32m   1149\u001b[0m                         \u001b[1;34m\"String or int arguments are only possible when a \"\u001b[0m\u001b[1;33m\u001b[0m\u001b[1;33m\u001b[0m\u001b[0m\n\u001b[0;32m   1150\u001b[0m                         \u001b[1;34m\"DataFrame or an array is provided in the `data_frame` \"\u001b[0m\u001b[1;33m\u001b[0m\u001b[1;33m\u001b[0m\u001b[0m\n",
      "\u001b[1;31mValueError\u001b[0m: String or int arguments are only possible when a DataFrame or an array is provided in the `data_frame` argument. No DataFrame was provided, but argument 'x' is of type str or int."
     ]
    }
   ],
   "source": [
    "\n",
    "fig5 = px.line(x=len(labelsRankedByConfidence), y=[prec, rec], title='Progression of Confidence (Precision and Recall;)', template='plotly_dark')\n",
    "#fig2.update_layout({'plot_bgcolor': 'rgba(0, 0, 0, 0)', 'paper_bgcolor': 'rgba(0, 0, 0, 0)',})\n",
    "fig5.show()"
   ]
  },
  {
   "cell_type": "markdown",
   "metadata": {
    "jupyter": {
     "source_hidden": true
    }
   },
   "source": [
    "#### MEASUREMENTS"
   ]
  },
  {
   "cell_type": "code",
   "execution_count": 275,
   "metadata": {
    "jupyter": {
     "source_hidden": true
    }
   },
   "outputs": [],
   "source": [
    "def MSE(model, x1, y1):\n",
    "    predictions = model.predict(x1)\n",
    "    differences = [(a-b)**2 for (a,b) in zip(predictions, y1)]\n",
    "    return sum(differences) / len(differences)"
   ]
  },
  {
   "cell_type": "code",
   "execution_count": 276,
   "metadata": {
    "jupyter": {
     "source_hidden": true
    }
   },
   "outputs": [],
   "source": [
    "bestModel = None\n",
    "bestMSE = None"
   ]
  },
  {
   "cell_type": "code",
   "execution_count": 309,
   "metadata": {
    "collapsed": true,
    "jupyter": {
     "outputs_hidden": true,
     "source_hidden": true
    }
   },
   "outputs": [
    {
     "name": "stdout",
     "output_type": "stream",
     "text": [
      "lambda = 0.01 - Training error: 0.7629554375441481 / Validation error: 1.1199869701256358\n",
      "lambda = 0.1 - Training error: 0.7648717834167394 / Validation error: 1.1094121589082948\n",
      "lambda = 1 - Training error: 0.8241880984297614 / Validation error: 1.076182042436132\n",
      "lambda = 10 - Training error: 1.0297306928955992 / Validation error: 1.1005382003264015\n",
      "lambda = 100 - Training error: 1.3400732258418346 / Validation error: 1.3648764485750915\n",
      "\n",
      "Best MSE on Validation Set is 1.076182042436132 (lambda = 1)\n"
     ]
    }
   ],
   "source": [
    "for lamb in [0.01, 0.1, 1, 10, 100]:\n",
    "    model = linear_model.Ridge(lamb, fit_intercept=False)\n",
    "    model.fit(x1, y1)\n",
    "    \n",
    "    mseTrain = MSE(model, x1, y1)\n",
    "    mseValid = MSE(model, x2, y2)\n",
    "    \n",
    "    print('lambda = ' + str(lamb) + ' - Training error: ' + str(mseTrain) + ' / Validation error: ' + str(mseValid))\n",
    "    \n",
    "    if not bestModel or mseValid < bestMSE:\n",
    "        bestModel = model\n",
    "        bestMSE = mseValid\n",
    "print('\\nBest MSE on Validation Set is ' + str(bestMSE) + ' (lambda = ' + str(bestModel.alpha) + ')')"
   ]
  },
  {
   "cell_type": "code",
   "execution_count": 279,
   "metadata": {
    "collapsed": true,
    "jupyter": {
     "outputs_hidden": true,
     "source_hidden": true
    }
   },
   "outputs": [
    {
     "name": "stdout",
     "output_type": "stream",
     "text": [
      "Test error: 1.3591125415989858\n"
     ]
    }
   ],
   "source": [
    "mseTest = MSE(bestModel, x3, y3)\n",
    "print('Test error: ' + str(mseTest))"
   ]
  },
  {
   "cell_type": "code",
   "execution_count": 280,
   "metadata": {
    "jupyter": {
     "source_hidden": true
    }
   },
   "outputs": [],
   "source": [
    "def cost(theta, labels, lamb):\n",
    "    unpack(theta)"
   ]
  },
  {
   "cell_type": "markdown",
   "metadata": {},
   "source": [
    "___\n",
    "___\n",
    "### <div align=\"center\">RELATED ITEMS RECOMMENDATION</div>"
   ]
  },
  {
   "cell_type": "code",
   "execution_count": 282,
   "metadata": {},
   "outputs": [],
   "source": [
    "usersPerItem = defaultdict(set)\n",
    "itemsPerUser = defaultdict(set)\n",
    "itemNames = {}"
   ]
  },
  {
   "cell_type": "code",
   "execution_count": 283,
   "metadata": {},
   "outputs": [],
   "source": [
    "for d in data:\n",
    "    user, item = d['reviewerID'], d['asin']\n",
    "    usersPerItem[item].add(user)\n",
    "    itemsPerUser[user].add(item)\n",
    "    itemNames[item] = d['name']"
   ]
  },
  {
   "cell_type": "code",
   "execution_count": 284,
   "metadata": {},
   "outputs": [],
   "source": [
    "def Jaccard(s1, s2):\n",
    "    numer = len(s1.intersection(s2))\n",
    "    denom = len(s1.union(s2))\n",
    "    return numer / denom"
   ]
  },
  {
   "cell_type": "code",
   "execution_count": 292,
   "metadata": {},
   "outputs": [],
   "source": [
    "def mostRelated(i):\n",
    "    similarities = []\n",
    "    users = usersPerItem[i]\n",
    "    candidateItems = set()\n",
    "    for u in users:\n",
    "        candidateItems = candidateItems.union(itemsPerUser[u])\n",
    "    for i2 in candidateItems:\n",
    "        if i2 == i: continue\n",
    "        sim = Jaccard(users, usersPerItem[i2])\n",
    "        similarities.append((sim, i2))\n",
    "    similarities.sort(reverse=True)\n",
    "    return similarities[:5]"
   ]
  },
  {
   "cell_type": "code",
   "execution_count": 333,
   "metadata": {},
   "outputs": [],
   "source": [
    "query = data[1]['asin']"
   ]
  },
  {
   "cell_type": "code",
   "execution_count": 334,
   "metadata": {},
   "outputs": [
    {
     "data": {
      "text/plain": [
       "[(0.006622516556291391, '1400501717')]"
      ]
     },
     "execution_count": 334,
     "metadata": {},
     "output_type": "execute_result"
    }
   ],
   "source": [
    "mostRelated(query)"
   ]
  },
  {
   "cell_type": "code",
   "execution_count": 335,
   "metadata": {},
   "outputs": [
    {
     "data": {
      "text/plain": [
       "'Barnes & Noble Nook Simple Touch eBook Reader (Wi-Fi Only)'"
      ]
     },
     "execution_count": 335,
     "metadata": {},
     "output_type": "execute_result"
    }
   ],
   "source": [
    "itemNames[query]"
   ]
  },
  {
   "cell_type": "code",
   "execution_count": 336,
   "metadata": {},
   "outputs": [
    {
     "data": {
      "text/plain": [
       "['Barnes and Noble Nook Simple Touch eBook Reader 2GB WiFi with GlowLight']"
      ]
     },
     "execution_count": 336,
     "metadata": {},
     "output_type": "execute_result"
    }
   ],
   "source": [
    "[itemNames[x[1]] for x in mostRelated(query)]"
   ]
  },
  {
   "cell_type": "markdown",
   "metadata": {},
   "source": [
    "___\n",
    "___\n",
    "### <div align=\"center\">LATENT FACTOR RECOMMENDATION</div>"
   ]
  },
  {
   "cell_type": "code",
   "execution_count": null,
   "metadata": {},
   "outputs": [],
   "source": [
    "reviewsPerUser = defaultdict(set)\n",
    "reviewsPerItem = defaultdict(set)\n",
    "\n",
    "for d in data:\n",
    "    user,item = d['reviewerID'], d['asin']\n",
    "    reviewsPerItem[item].add(user)\n",
    "    itemsPerUser[user].add(item)\n",
    "    itemNames[item] = d['productName']"
   ]
  },
  {
   "cell_type": "code",
   "execution_count": 303,
   "metadata": {},
   "outputs": [],
   "source": [
    "usersPerItem = defaultdict(set)\n",
    "itemsPerUser = defaultdict(set)\n",
    "\n",
    "itemNames = {}\n",
    "\n",
    "for d in data:\n",
    "    user,item = d['reviewerID'], d['asin']\n",
    "    usersPerItem[item].add(user)\n",
    "    itemsPerUser[user].add(item)\n",
    "    itemNames[item] = d['name']"
   ]
  },
  {
   "cell_type": "code",
   "execution_count": 332,
   "metadata": {},
   "outputs": [
    {
     "name": "stdout",
     "output_type": "stream",
     "text": [
      "Users: 1461\n",
      "Items: 50\n"
     ]
    }
   ],
   "source": [
    "N = len(data)\n",
    "nUsers = len(itemsPerUser)\n",
    "nItems = len(usersPerItem)\n",
    "users = list(itemsPerUser.keys())\n",
    "items = list(usersPerItem.keys())\n",
    "\n",
    "print('Users: ' + str(nUsers) + '\\nItems: ' + str(nItems))"
   ]
  },
  {
   "cell_type": "code",
   "execution_count": 317,
   "metadata": {},
   "outputs": [
    {
     "ename": "TypeError",
     "evalue": "unsupported operand type(s) for /: 'generator' and 'int'",
     "output_type": "error",
     "traceback": [
      "\u001b[1;31m---------------------------------------------------------------------------\u001b[0m",
      "\u001b[1;31mTypeError\u001b[0m                                 Traceback (most recent call last)",
      "\u001b[1;32m<ipython-input-317-4bd0928c450c>\u001b[0m in \u001b[0;36m<module>\u001b[1;34m\u001b[0m\n\u001b[1;32m----> 1\u001b[1;33m \u001b[0malpha\u001b[0m \u001b[1;33m=\u001b[0m \u001b[0mnp\u001b[0m\u001b[1;33m.\u001b[0m\u001b[0mmean\u001b[0m\u001b[1;33m(\u001b[0m\u001b[0mi\u001b[0m\u001b[1;33m[\u001b[0m\u001b[1;34m'rating'\u001b[0m\u001b[1;33m]\u001b[0m \u001b[1;32mfor\u001b[0m \u001b[0mi\u001b[0m \u001b[1;32min\u001b[0m \u001b[0mdata\u001b[0m\u001b[1;33m)\u001b[0m\u001b[1;33m\u001b[0m\u001b[1;33m\u001b[0m\u001b[0m\n\u001b[0m\u001b[0;32m      2\u001b[0m \u001b[0muserBiases\u001b[0m \u001b[1;33m=\u001b[0m \u001b[0mdefaultdict\u001b[0m\u001b[1;33m(\u001b[0m\u001b[0mfloat\u001b[0m\u001b[1;33m)\u001b[0m\u001b[1;33m\u001b[0m\u001b[1;33m\u001b[0m\u001b[0m\n\u001b[0;32m      3\u001b[0m \u001b[0mitemBiases\u001b[0m \u001b[1;33m=\u001b[0m \u001b[0mdefaultdict\u001b[0m\u001b[1;33m(\u001b[0m\u001b[0mfloat\u001b[0m\u001b[1;33m)\u001b[0m\u001b[1;33m\u001b[0m\u001b[1;33m\u001b[0m\u001b[0m\n\u001b[0;32m      4\u001b[0m \u001b[0muserGamma\u001b[0m \u001b[1;33m=\u001b[0m \u001b[1;33m{\u001b[0m\u001b[1;33m}\u001b[0m\u001b[1;33m\u001b[0m\u001b[1;33m\u001b[0m\u001b[0m\n\u001b[0;32m      5\u001b[0m \u001b[0mitemGamma\u001b[0m \u001b[1;33m=\u001b[0m \u001b[1;33m{\u001b[0m\u001b[1;33m}\u001b[0m\u001b[1;33m\u001b[0m\u001b[1;33m\u001b[0m\u001b[0m\n",
      "\u001b[1;32m<__array_function__ internals>\u001b[0m in \u001b[0;36mmean\u001b[1;34m(*args, **kwargs)\u001b[0m\n",
      "\u001b[1;32mF:\\Anaconda\\envs\\courses\\lib\\site-packages\\numpy\\core\\fromnumeric.py\u001b[0m in \u001b[0;36mmean\u001b[1;34m(a, axis, dtype, out, keepdims)\u001b[0m\n\u001b[0;32m   3370\u001b[0m             \u001b[1;32mreturn\u001b[0m \u001b[0mmean\u001b[0m\u001b[1;33m(\u001b[0m\u001b[0maxis\u001b[0m\u001b[1;33m=\u001b[0m\u001b[0maxis\u001b[0m\u001b[1;33m,\u001b[0m \u001b[0mdtype\u001b[0m\u001b[1;33m=\u001b[0m\u001b[0mdtype\u001b[0m\u001b[1;33m,\u001b[0m \u001b[0mout\u001b[0m\u001b[1;33m=\u001b[0m\u001b[0mout\u001b[0m\u001b[1;33m,\u001b[0m \u001b[1;33m**\u001b[0m\u001b[0mkwargs\u001b[0m\u001b[1;33m)\u001b[0m\u001b[1;33m\u001b[0m\u001b[1;33m\u001b[0m\u001b[0m\n\u001b[0;32m   3371\u001b[0m \u001b[1;33m\u001b[0m\u001b[0m\n\u001b[1;32m-> 3372\u001b[1;33m     return _methods._mean(a, axis=axis, dtype=dtype,\n\u001b[0m\u001b[0;32m   3373\u001b[0m                           out=out, **kwargs)\n\u001b[0;32m   3374\u001b[0m \u001b[1;33m\u001b[0m\u001b[0m\n",
      "\u001b[1;32mF:\\Anaconda\\envs\\courses\\lib\\site-packages\\numpy\\core\\_methods.py\u001b[0m in \u001b[0;36m_mean\u001b[1;34m(a, axis, dtype, out, keepdims)\u001b[0m\n\u001b[0;32m    170\u001b[0m             \u001b[0mret\u001b[0m \u001b[1;33m=\u001b[0m \u001b[0mret\u001b[0m\u001b[1;33m.\u001b[0m\u001b[0mdtype\u001b[0m\u001b[1;33m.\u001b[0m\u001b[0mtype\u001b[0m\u001b[1;33m(\u001b[0m\u001b[0mret\u001b[0m \u001b[1;33m/\u001b[0m \u001b[0mrcount\u001b[0m\u001b[1;33m)\u001b[0m\u001b[1;33m\u001b[0m\u001b[1;33m\u001b[0m\u001b[0m\n\u001b[0;32m    171\u001b[0m     \u001b[1;32melse\u001b[0m\u001b[1;33m:\u001b[0m\u001b[1;33m\u001b[0m\u001b[1;33m\u001b[0m\u001b[0m\n\u001b[1;32m--> 172\u001b[1;33m         \u001b[0mret\u001b[0m \u001b[1;33m=\u001b[0m \u001b[0mret\u001b[0m \u001b[1;33m/\u001b[0m \u001b[0mrcount\u001b[0m\u001b[1;33m\u001b[0m\u001b[1;33m\u001b[0m\u001b[0m\n\u001b[0m\u001b[0;32m    173\u001b[0m \u001b[1;33m\u001b[0m\u001b[0m\n\u001b[0;32m    174\u001b[0m     \u001b[1;32mreturn\u001b[0m \u001b[0mret\u001b[0m\u001b[1;33m\u001b[0m\u001b[1;33m\u001b[0m\u001b[0m\n",
      "\u001b[1;31mTypeError\u001b[0m: unsupported operand type(s) for /: 'generator' and 'int'"
     ]
    }
   ],
   "source": [
    "*** alpha = np.mean(i['rating'] for i in data)\n",
    "userBiases = defaultdict(float)\n",
    "itemBiases = defaultdict(float)\n",
    "userGamma = {}\n",
    "itemGamma = {}"
   ]
  },
  {
   "cell_type": "code",
   "execution_count": null,
   "metadata": {},
   "outputs": [],
   "source": [
    "N = len(y1)\n"
   ]
  },
  {
   "cell_type": "code",
   "execution_count": null,
   "metadata": {},
   "outputs": [],
   "source": []
  },
  {
   "cell_type": "code",
   "execution_count": null,
   "metadata": {},
   "outputs": [],
   "source": []
  },
  {
   "cell_type": "code",
   "execution_count": 318,
   "metadata": {},
   "outputs": [],
   "source": [
    "K = 2"
   ]
  },
  {
   "cell_type": "code",
   "execution_count": 319,
   "metadata": {},
   "outputs": [
    {
     "ename": "NameError",
     "evalue": "name 'userGamma' is not defined",
     "output_type": "error",
     "traceback": [
      "\u001b[1;31m---------------------------------------------------------------------------\u001b[0m",
      "\u001b[1;31mNameError\u001b[0m                                 Traceback (most recent call last)",
      "\u001b[1;32m<ipython-input-319-0d3e6bca14ba>\u001b[0m in \u001b[0;36m<module>\u001b[1;34m\u001b[0m\n\u001b[0;32m      1\u001b[0m \u001b[1;32mfor\u001b[0m \u001b[0mu\u001b[0m \u001b[1;32min\u001b[0m \u001b[0mitemsPerUser\u001b[0m\u001b[1;33m:\u001b[0m\u001b[1;33m\u001b[0m\u001b[1;33m\u001b[0m\u001b[0m\n\u001b[1;32m----> 2\u001b[1;33m     \u001b[0muserGamma\u001b[0m\u001b[1;33m[\u001b[0m\u001b[0mu\u001b[0m\u001b[1;33m]\u001b[0m \u001b[1;33m=\u001b[0m \u001b[1;33m[\u001b[0m\u001b[0mrandom\u001b[0m\u001b[1;33m.\u001b[0m\u001b[0mrandom\u001b[0m\u001b[1;33m(\u001b[0m\u001b[1;33m)\u001b[0m \u001b[1;33m*\u001b[0m \u001b[1;36m0.1\u001b[0m \u001b[1;33m-\u001b[0m \u001b[1;36m0.05\u001b[0m \u001b[1;32mfor\u001b[0m \u001b[0mk\u001b[0m \u001b[1;32min\u001b[0m \u001b[0mrange\u001b[0m\u001b[1;33m(\u001b[0m\u001b[0mK\u001b[0m\u001b[1;33m)\u001b[0m\u001b[1;33m]\u001b[0m\u001b[1;33m\u001b[0m\u001b[1;33m\u001b[0m\u001b[0m\n\u001b[0m\u001b[0;32m      3\u001b[0m \u001b[1;33m\u001b[0m\u001b[0m\n\u001b[0;32m      4\u001b[0m \u001b[1;32mfor\u001b[0m \u001b[0mi\u001b[0m \u001b[1;32min\u001b[0m \u001b[0mitemsPerItem\u001b[0m\u001b[1;33m:\u001b[0m\u001b[1;33m\u001b[0m\u001b[1;33m\u001b[0m\u001b[0m\n\u001b[0;32m      5\u001b[0m     \u001b[0mitemGamma\u001b[0m\u001b[1;33m[\u001b[0m\u001b[0mi\u001b[0m\u001b[1;33m]\u001b[0m \u001b[1;33m=\u001b[0m \u001b[1;33m[\u001b[0m\u001b[0mrandom\u001b[0m\u001b[1;33m.\u001b[0m\u001b[0mrandom\u001b[0m\u001b[1;33m(\u001b[0m\u001b[1;33m)\u001b[0m \u001b[1;33m*\u001b[0m \u001b[1;36m0.01\u001b[0m \u001b[1;33m-\u001b[0m \u001b[1;36m0.05\u001b[0m \u001b[1;32mfor\u001b[0m \u001b[0mk\u001b[0m \u001b[1;32min\u001b[0m \u001b[0mrange\u001b[0m\u001b[1;33m(\u001b[0m\u001b[0mK\u001b[0m\u001b[1;33m)\u001b[0m\u001b[1;33m]\u001b[0m\u001b[1;33m\u001b[0m\u001b[1;33m\u001b[0m\u001b[0m\n",
      "\u001b[1;31mNameError\u001b[0m: name 'userGamma' is not defined"
     ]
    }
   ],
   "source": [
    "for u in itemsPerUser:\n",
    "    userGamma[u] = [random.random() * 0.1 - 0.05 for k in range(K)]\n",
    "\n",
    "for i in itemsPerItem:\n",
    "    itemGamma[i] = [random.random() * 0.01 - 0.05 for k in range(K)]"
   ]
  },
  {
   "cell_type": "code",
   "execution_count": 321,
   "metadata": {},
   "outputs": [],
   "source": [
    "def inner(x, y):\n",
    "    return sum([a*b for a,b in zip(x,y)])\n",
    "def prediction(user,item):\n",
    "    alpha = userBiases[user] + itemBiases[item] + inner(userGamma[user], itemGamma[item])\n",
    "    return alpha"
   ]
  },
  {
   "cell_type": "code",
   "execution_count": 322,
   "metadata": {},
   "outputs": [],
   "source": [
    "def unpack(theta):\n",
    "    global alpha\n",
    "    global userBiases\n",
    "    global itemBiases\n",
    "    global userGamma\n",
    "    global itemGamma\n",
    "    index = 0\n",
    "    alpha = theta[index]\n",
    "    index += 1\n",
    "    userBiases = dict(zip(users, theta[index:index+nUsers]))\n",
    "    index += nUsers\n",
    "    itemBiases = dict(zip(items, theta[index:index+nItems]))\n",
    "    for u in users:\n",
    "        userGamma[u] = theta[index:index+K]\n",
    "        index += K\n",
    "    for i in items:\n",
    "        itemGamma[i] = theta[index:index+K]\n",
    "        index += K"
   ]
  },
  {
   "cell_type": "code",
   "execution_count": 323,
   "metadata": {},
   "outputs": [],
   "source": [
    "def cost(theta, labels, lamb):\n",
    "    unpack(theta)\n",
    "    predictions = [prediction(d['reviewerID'], d['asin']) for d in data]\n",
    "    cost = MSE(predictions, labels)\n",
    "    print('MSE = ' + str(cost))\n",
    "    for u in users:\n",
    "        cost += lamb*userBiases[u]**2\n",
    "        for k in range(K):\n",
    "            cost += lamb*userGamma[u][k]**2\n",
    "    for i in items:\n",
    "        cost += lamb*itemBiases[i]**2\n",
    "        for k in range(K):\n",
    "            cost += lamb*itemGamma[i][k]**2\n",
    "    return cost"
   ]
  },
  {
   "cell_type": "code",
   "execution_count": 326,
   "metadata": {},
   "outputs": [
    {
     "ename": "SyntaxError",
     "evalue": "invalid syntax (<ipython-input-326-6eb9b00430dd>, line 10)",
     "output_type": "error",
     "traceback": [
      "\u001b[1;36m  File \u001b[1;32m\"<ipython-input-326-6eb9b00430dd>\"\u001b[1;36m, line \u001b[1;32m10\u001b[0m\n\u001b[1;33m    dUserGamma[u] = [0,0 for k in range(K)]\u001b[0m\n\u001b[1;37m                         ^\u001b[0m\n\u001b[1;31mSyntaxError\u001b[0m\u001b[1;31m:\u001b[0m invalid syntax\n"
     ]
    }
   ],
   "source": [
    "def derivative(theta, labels, lamb):\n",
    "    unpack(theta)\n",
    "    N = len(data)\n",
    "    dalpha = 0\n",
    "    dUserBiases = defaultdict(float)\n",
    "    dItemBiases = defaultdict(float)\n",
    "    dUserGamma = {}\n",
    "    dItemGamma = {}\n",
    "    for u in itemsPerUser:\n",
    "        dUserGamma[u] = [0,0 for k in range(K)]\n",
    "    for i in itemsPerUser:\n",
    "        dItemGamma[i] = [0,0 for k in range(K)]\n",
    "    for d in data:\n",
    "        u,i = d['reviewerID'], d['asin']\n",
    "        pred = prediction(u,i)\n",
    "        diff = pred = d('rating')\n",
    "        dalpha += 2/N*diff\n",
    "        dUserBiases[u] += 2/N*diff\n",
    "        for k in range(K):\n",
    "            dUserGamma[u][k] += 2/N*itemGamma[i][k]*diff\n",
    "            dItemGamma[i][k] += 2/N*userGamma[u][k]*diff\n",
    "    for u in userBiases:\n",
    "        dUserBiases[u] += 2*lamb*userBiases[u]\n",
    "        for k in range(K):\n",
    "            dUserGamma[u][k] += 2*lamb*userGamma[u][k]\n",
    "    for i in itemBiases:\n",
    "        dItemBiases[i] += 2*lamb*itemBiases[i]\n",
    "        for k in range(K):\n",
    "            dItemGamma[i][k] += 2*lamb*itemGamma[i][k]\n",
    "    dtheta = [dalpha] + [dUserBiases[u] for u in users] + [dItemBiases[i] for i in items]\n",
    "    for u in users:\n",
    "        dtheta += dUserGamma[u]\n",
    "    for i in items:\n",
    "        dtheta += dItemGamma[i]\n",
    "    return np.array(dtheta)"
   ]
  },
  {
   "cell_type": "code",
   "execution_count": null,
   "metadata": {},
   "outputs": [],
   "source": [
    "MSE(alwaysPredictMean, labels)"
   ]
  },
  {
   "cell_type": "code",
   "execution_count": null,
   "metadata": {},
   "outputs": [],
   "source": [
    "scipy.optimize.fmin_l_bfgs_b(cost, [ratingMean] + [0.0]*(nUsers*(K+1) + nItems*(K+1)),\\\n",
    "                            derivative, args = (labels, 0.001))"
   ]
  },
  {
   "cell_type": "code",
   "execution_count": null,
   "metadata": {},
   "outputs": [],
   "source": []
  }
 ],
 "metadata": {
  "kernelspec": {
   "display_name": "Python 3",
   "language": "python",
   "name": "python3"
  },
  "language_info": {
   "codemirror_mode": {
    "name": "ipython",
    "version": 3
   },
   "file_extension": ".py",
   "mimetype": "text/x-python",
   "name": "python",
   "nbconvert_exporter": "python",
   "pygments_lexer": "ipython3",
   "version": "3.8.5"
  }
 },
 "nbformat": 4,
 "nbformat_minor": 4
}
