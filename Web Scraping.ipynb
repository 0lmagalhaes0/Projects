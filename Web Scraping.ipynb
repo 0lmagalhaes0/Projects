{
 "cells": [
  {
   "cell_type": "markdown",
   "metadata": {},
   "source": [
    "# WEB SCRAPING\n",
    "\n",
    "#### *Luis Magalhaes*"
   ]
  },
  {
   "cell_type": "code",
   "execution_count": 2,
   "metadata": {},
   "outputs": [],
   "source": [
    "import requests\n",
    "from bs4 import BeautifulSoup\n",
    "import pandas as pd"
   ]
  },
  {
   "cell_type": "markdown",
   "metadata": {},
   "source": [
    "### TABLES\n",
    "\n",
    "#### FROM WIKIPEDIA-LIKE SOURCES"
   ]
  },
  {
   "cell_type": "code",
   "execution_count": 3,
   "metadata": {},
   "outputs": [],
   "source": [
    "headers = {'User-Agent': 'Mozilla/5.0 (Windows NT 6.3; Win64; x64) AppleWebKit/537.36 (KHTML, like Gecko) Chrome/54.0.2840.71 Safari/537.36'}\n",
    "url = \"https://en.wikipedia.org/wiki/List_of_national_capitals\"\n",
    "r = requests.get(url, headers=headers)"
   ]
  },
  {
   "cell_type": "code",
   "execution_count": 4,
   "metadata": {},
   "outputs": [],
   "source": [
    "soup = BeautifulSoup(r.content, \"html.parser\")\n",
    "table = soup.find_all('table')[1]\n",
    "rows = table.find_all('tr')\n",
    "row_list = list()"
   ]
  },
  {
   "cell_type": "code",
   "execution_count": 5,
   "metadata": {},
   "outputs": [],
   "source": [
    "for tr in rows:\n",
    "    td = tr.find_all('td')\n",
    "    row = [i.text for i in td]\n",
    "    row_list.append(row)"
   ]
  },
  {
   "cell_type": "code",
   "execution_count": 6,
   "metadata": {},
   "outputs": [],
   "source": [
    "df_bs = pd.DataFrame(row_list,columns=['City','Country','Notes'])\n",
    "df_bs.set_index('Country',inplace=True)\n",
    "df_bs.to_csv('beautifulsoup.csv')"
   ]
  },
  {
   "cell_type": "code",
   "execution_count": 9,
   "metadata": {},
   "outputs": [
    {
     "name": "stdout",
     "output_type": "stream",
     "text": [
      "(263, 2)\n"
     ]
    },
    {
     "data": {
      "text/html": [
       "<div>\n",
       "<style scoped>\n",
       "    .dataframe tbody tr th:only-of-type {\n",
       "        vertical-align: middle;\n",
       "    }\n",
       "\n",
       "    .dataframe tbody tr th {\n",
       "        vertical-align: top;\n",
       "    }\n",
       "\n",
       "    .dataframe thead th {\n",
       "        text-align: right;\n",
       "    }\n",
       "</style>\n",
       "<table border=\"1\" class=\"dataframe\">\n",
       "  <thead>\n",
       "    <tr style=\"text-align: right;\">\n",
       "      <th></th>\n",
       "      <th>City</th>\n",
       "      <th>Notes</th>\n",
       "    </tr>\n",
       "    <tr>\n",
       "      <th>Country</th>\n",
       "      <th></th>\n",
       "      <th></th>\n",
       "    </tr>\n",
       "  </thead>\n",
       "  <tbody>\n",
       "    <tr>\n",
       "      <th>Namibia</th>\n",
       "      <td>Windhoek</td>\n",
       "      <td>\\n</td>\n",
       "    </tr>\n",
       "    <tr>\n",
       "      <th>Cameroon</th>\n",
       "      <td>Yaoundé</td>\n",
       "      <td>\\n</td>\n",
       "    </tr>\n",
       "    <tr>\n",
       "      <th>Nauru</th>\n",
       "      <td>Yaren (de facto)</td>\n",
       "      <td>Country does not have an official capital; how...</td>\n",
       "    </tr>\n",
       "    <tr>\n",
       "      <th>Armenia</th>\n",
       "      <td>Yerevan</td>\n",
       "      <td>\\n</td>\n",
       "    </tr>\n",
       "    <tr>\n",
       "      <th>Croatia</th>\n",
       "      <td>Zagreb</td>\n",
       "      <td>\\n</td>\n",
       "    </tr>\n",
       "  </tbody>\n",
       "</table>\n",
       "</div>"
      ],
      "text/plain": [
       "                       City                                              Notes\n",
       "Country                                                                       \n",
       " Namibia           Windhoek                                                 \\n\n",
       " Cameroon           Yaoundé                                                 \\n\n",
       " Nauru     Yaren (de facto)  Country does not have an official capital; how...\n",
       " Armenia            Yerevan                                                 \\n\n",
       " Croatia             Zagreb                                                 \\n"
      ]
     },
     "execution_count": 9,
     "metadata": {},
     "output_type": "execute_result"
    }
   ],
   "source": [
    "print(df_bs.shape)\n",
    "df_bs.tail()"
   ]
  },
  {
   "cell_type": "markdown",
   "metadata": {},
   "source": [
    "____"
   ]
  },
  {
   "cell_type": "markdown",
   "metadata": {},
   "source": [
    "### ANYTHING (in this example, forum comments)\n",
    "\n",
    "#### WITH SELENIUM"
   ]
  },
  {
   "cell_type": "code",
   "execution_count": 10,
   "metadata": {},
   "outputs": [],
   "source": [
    "from selenium import webdriver\n",
    "from selenium.webdriver.common.by import By\n",
    "from selenium.webdriver.support.ui import WebDriverWait\n",
    "from selenium.webdriver.support import expected_conditions as EC\n",
    "from selenium.common.exceptions import TimeoutException\n",
    "import pandas as pd\n",
    "import time"
   ]
  },
  {
   "cell_type": "code",
   "execution_count": 11,
   "metadata": {},
   "outputs": [],
   "source": [
    "url = 'https://forums.edmunds.com/discussion/2864/general/x/entry-level-luxury-performance-sedans/p400'\n",
    "driver = webdriver.Chrome()  # in the parenthesis we can specify the chromedriver path: (executable_path='chromedriver')\n",
    "driver.get(url)"
   ]
  },
  {
   "cell_type": "code",
   "execution_count": 12,
   "metadata": {},
   "outputs": [],
   "source": [
    "comments = pd.DataFrame(columns = ['Date','user_id','comments']) \n",
    "#ids = driver.find_elements_by_xpath(\"//*[contains(@id,'Comment_')]\")\n",
    "comment_ids = []"
   ]
  },
  {
   "cell_type": "code",
   "execution_count": 13,
   "metadata": {},
   "outputs": [],
   "source": [
    "def retrieve_comments_ids():\n",
    "    #cleaning the list for the next iteration\n",
    "    comment_ids[:] = []\n",
    "    ids = driver.find_elements_by_xpath(\"//*[contains(@id,'Comment_')]\")\n",
    "    for i in ids:\n",
    "        comment_ids.append(i.get_attribute('id'))\n",
    "\n",
    "def populate_data():\n",
    "    ids = driver.find_elements_by_xpath(\"//*[contains(@id,'Comment_')]\")\n",
    "    for x in comment_ids:\n",
    "        #Extract dates from for each user on a page\n",
    "        user_date = driver.find_elements_by_xpath('//*[@id=\"' + x +'\"]/div/div[2]/div[2]/span[1]/a/time')[0]\n",
    "        date = user_date.get_attribute('title')\n",
    "\n",
    "        #Extract user ids from each user on a page\n",
    "        userid_element = driver.find_elements_by_xpath('//*[@id=\"' + x +'\"]/div/div[2]/div[1]/span[1]/a[2]')[0]\n",
    "        userid = userid_element.text\n",
    "\n",
    "        #Extract Message for each user on a page\n",
    "        user_message = driver.find_elements_by_xpath('//*[@id=\"' + x +'\"]/div/div[3]/div/div[1]')[0]\n",
    "        comment = user_message.text\n",
    "                                   \n",
    "        #Adding date, userid and comment for each user in a dataframe    \n",
    "        comments.loc[len(comments)] = [date,userid,comment]"
   ]
  },
  {
   "cell_type": "code",
   "execution_count": 14,
   "metadata": {},
   "outputs": [
    {
     "name": "stdout",
     "output_type": "stream",
     "text": [
      "401\n",
      "402\n",
      "403\n",
      "404\n",
      "405\n"
     ]
    }
   ],
   "source": [
    "pageCounter = 400\n",
    "while pageCounter < 405:\n",
    "    retrieve_comments_ids()\n",
    "    populate_data()\n",
    "    driver.find_element_by_xpath('//body/div[1]/main/div/div[3]/div[3]/span/span/a[11]').click()\n",
    "    \n",
    "    time.sleep(10)\n",
    "    pageCounter +=1\n",
    "    print(pageCounter)"
   ]
  },
  {
   "cell_type": "code",
   "execution_count": 15,
   "metadata": {},
   "outputs": [
    {
     "name": "stdout",
     "output_type": "stream",
     "text": [
      "(250, 3)\n"
     ]
    },
    {
     "data": {
      "text/html": [
       "<div>\n",
       "<style scoped>\n",
       "    .dataframe tbody tr th:only-of-type {\n",
       "        vertical-align: middle;\n",
       "    }\n",
       "\n",
       "    .dataframe tbody tr th {\n",
       "        vertical-align: top;\n",
       "    }\n",
       "\n",
       "    .dataframe thead th {\n",
       "        text-align: right;\n",
       "    }\n",
       "</style>\n",
       "<table border=\"1\" class=\"dataframe\">\n",
       "  <thead>\n",
       "    <tr style=\"text-align: right;\">\n",
       "      <th></th>\n",
       "      <th>Date</th>\n",
       "      <th>user_id</th>\n",
       "      <th>comments</th>\n",
       "    </tr>\n",
       "  </thead>\n",
       "  <tbody>\n",
       "    <tr>\n",
       "      <th>245</th>\n",
       "      <td>May 4, 2016 8:39AM</td>\n",
       "      <td>qbrozen</td>\n",
       "      <td>Michaell said:\\nshow previous quotes\\nI read a...</td>\n",
       "    </tr>\n",
       "    <tr>\n",
       "      <th>246</th>\n",
       "      <td>May 4, 2016 10:54AM</td>\n",
       "      <td>kyfdx</td>\n",
       "      <td>Spotted an STS-V on Monday. That has to be pre...</td>\n",
       "    </tr>\n",
       "    <tr>\n",
       "      <th>247</th>\n",
       "      <td>May 4, 2016 11:44AM</td>\n",
       "      <td>roadburner</td>\n",
       "      <td>I don't know what Cadillac is going to do; the...</td>\n",
       "    </tr>\n",
       "    <tr>\n",
       "      <th>248</th>\n",
       "      <td>May 4, 2016 2:19PM</td>\n",
       "      <td>laurasdada</td>\n",
       "      <td>Perhaps review their pricing model, study Lexu...</td>\n",
       "    </tr>\n",
       "    <tr>\n",
       "      <th>249</th>\n",
       "      <td>May 4, 2016 3:16PM</td>\n",
       "      <td>roadburner</td>\n",
       "      <td>laurasdada said:\\nPerhaps review their pricing...</td>\n",
       "    </tr>\n",
       "  </tbody>\n",
       "</table>\n",
       "</div>"
      ],
      "text/plain": [
       "                    Date     user_id  \\\n",
       "245   May 4, 2016 8:39AM     qbrozen   \n",
       "246  May 4, 2016 10:54AM       kyfdx   \n",
       "247  May 4, 2016 11:44AM  roadburner   \n",
       "248   May 4, 2016 2:19PM  laurasdada   \n",
       "249   May 4, 2016 3:16PM  roadburner   \n",
       "\n",
       "                                              comments  \n",
       "245  Michaell said:\\nshow previous quotes\\nI read a...  \n",
       "246  Spotted an STS-V on Monday. That has to be pre...  \n",
       "247  I don't know what Cadillac is going to do; the...  \n",
       "248  Perhaps review their pricing model, study Lexu...  \n",
       "249  laurasdada said:\\nPerhaps review their pricing...  "
      ]
     },
     "execution_count": 15,
     "metadata": {},
     "output_type": "execute_result"
    }
   ],
   "source": [
    "print(comments.shape)\n",
    "comments.tail()"
   ]
  },
  {
   "cell_type": "markdown",
   "metadata": {},
   "source": [
    "### Now we can analyse the data collected. In this example, let's extract the frequency that each relevant word is used in these comments."
   ]
  },
  {
   "cell_type": "code",
   "execution_count": 16,
   "metadata": {},
   "outputs": [
    {
     "name": "stderr",
     "output_type": "stream",
     "text": [
      "[nltk_data] Downloading package stopwords to\n",
      "[nltk_data]     C:\\Users\\luisa\\AppData\\Roaming\\nltk_data...\n",
      "[nltk_data]   Package stopwords is already up-to-date!\n",
      "[nltk_data] Downloading package punkt to\n",
      "[nltk_data]     C:\\Users\\luisa\\AppData\\Roaming\\nltk_data...\n",
      "[nltk_data]   Package punkt is already up-to-date!\n"
     ]
    },
    {
     "data": {
      "text/plain": [
       "True"
      ]
     },
     "execution_count": 16,
     "metadata": {},
     "output_type": "execute_result"
    }
   ],
   "source": [
    "import nltk\n",
    "nltk.download('stopwords')\n",
    "nltk.download('punkt')"
   ]
  },
  {
   "cell_type": "code",
   "execution_count": 17,
   "metadata": {},
   "outputs": [],
   "source": [
    "from nltk.corpus import stopwords\n",
    "from nltk.tokenize import word_tokenize\n",
    "from nltk.stem.porter import PorterStemmer"
   ]
  },
  {
   "cell_type": "code",
   "execution_count": 18,
   "metadata": {},
   "outputs": [],
   "source": [
    "comments_text = comments['comments'].str.cat(sep=' ')"
   ]
  },
  {
   "cell_type": "code",
   "execution_count": 19,
   "metadata": {},
   "outputs": [],
   "source": [
    "tokens = word_tokenize(comments_text)"
   ]
  },
  {
   "cell_type": "code",
   "execution_count": 20,
   "metadata": {},
   "outputs": [],
   "source": [
    "porter = PorterStemmer()\n",
    "stemmed = [porter.stem(word) for word in tokens]"
   ]
  },
  {
   "cell_type": "code",
   "execution_count": 21,
   "metadata": {},
   "outputs": [
    {
     "name": "stdout",
     "output_type": "stream",
     "text": [
      "['well', '.', 'could', 'be', 'someth', 'interest', 'to', 'consid', 'in', '2']\n"
     ]
    }
   ],
   "source": [
    "print(stemmed[:10])"
   ]
  },
  {
   "cell_type": "code",
   "execution_count": 22,
   "metadata": {},
   "outputs": [],
   "source": [
    "words = [word for word in stemmed if word.isalpha()]\n",
    "stop_words = set(stopwords.words('english'))"
   ]
  },
  {
   "cell_type": "code",
   "execution_count": 23,
   "metadata": {},
   "outputs": [],
   "source": [
    "words = [w for w in words if not w in stop_words]"
   ]
  },
  {
   "cell_type": "code",
   "execution_count": 24,
   "metadata": {},
   "outputs": [],
   "source": [
    "freq = []\n",
    "for w in words:\n",
    "    freq.append(words.count(w))"
   ]
  },
  {
   "cell_type": "code",
   "execution_count": 25,
   "metadata": {},
   "outputs": [],
   "source": [
    "word_freq = dict(zip(words, freq))"
   ]
  },
  {
   "cell_type": "code",
   "execution_count": 27,
   "metadata": {},
   "outputs": [],
   "source": [
    "frequent_words = sorted(word_freq.items(), key=lambda x: x[1], reverse=True)"
   ]
  },
  {
   "cell_type": "code",
   "execution_count": 28,
   "metadata": {},
   "outputs": [
    {
     "name": "stdout",
     "output_type": "stream",
     "text": [
      "The most frequent relevant words that appear in these comments are:\n",
      "[('I', 503), ('car', 202), ('wa', 116), ('said', 110), ('bmw', 89), ('would', 85), ('one', 83), ('get', 83), ('ha', 78), ('like', 74), ('thi', 74), ('mile', 64), ('good', 60), ('new', 57), ('engin', 57), ('time', 54), ('know', 54), ('It', 53), ('go', 53), ('think', 52), ('dealer', 51), ('also', 48), ('audi', 47), ('year', 45), ('want', 45), ('brake', 44), ('make', 43), ('realli', 43), ('seem', 43), ('ani', 43), ('point', 43), ('look', 41), ('well', 40), ('doe', 40), ('servic', 40), ('onli', 39), ('back', 38), ('use', 38), ('say', 37), ('could', 34), ('drive', 34), ('much', 34), ('replac', 34), ('price', 33), ('thing', 33), ('My', 32), ('veri', 32), ('cost', 32), ('shop', 32), ('number', 32), ('right', 30), ('part', 30), ('come', 30), ('leas', 30), ('front', 30), ('issu', 29), ('So', 29), ('vehicl', 28), ('even', 28), ('chip', 28), ('reliabl', 28), ('rear', 28), ('peopl', 27), ('If', 27), ('differ', 26), ('warranti', 26), ('mayb', 26), ('way', 26), ('sport', 25), ('still', 25), ('quot', 25), ('nice', 24), ('everi', 24), ('probabl', 24), ('show', 24), ('need', 24), ('mod', 24), ('rotor', 24), ('model', 24), ('chang', 24), ('someth', 23), ('HP', 23), ('perform', 23), ('take', 23), ('though', 22), ('repair', 22), ('power', 22), ('give', 22), ('around', 22), ('better', 22), ('pay', 21), ('next', 21), ('sure', 21), ('interest', 20), ('keep', 20), ('suspens', 20), ('mileag', 20), ('actual', 20), ('may', 19), ('first', 19), ('see', 19), ('less', 19), ('read', 19), ('previou', 18), ('wife', 18), ('pad', 18), ('bit', 17), ('find', 17), ('tune', 17), ('ca', 17), ('anoth', 17), ('packag', 17), ('wear', 17), ('whi', 17), ('us', 17), ('work', 17), ('high', 17), ('day', 17), ('test', 17), ('month', 17), ('cpo', 16), ('becaus', 16), ('bm', 16), ('affect', 16), ('owner', 16), ('flightnurs', 16), ('befor', 16), ('got', 16), ('oil', 16), ('long', 16), ('payment', 16), ('dyno', 16), ('bodi', 16), ('We', 15), ('ye', 15), ('free', 15), ('hi', 15), ('tire', 15), ('buy', 15), ('start', 15), ('seat', 15), ('reason', 15), ('never', 15), ('mazda', 15), ('far', 14), ('sinc', 14), ('low', 14), ('extra', 14), ('money', 14), ('base', 14), ('lexu', 14), ('took', 13), ('M', 13), ('live', 13), ('two', 13), ('might', 13), ('made', 13), ('charg', 13), ('sound', 13), ('hp', 13), ('turbo', 13), ('end', 13), ('bought', 13), ('requir', 13), ('great', 13), ('plu', 13), ('noth', 13), ('fuel', 13), ('least', 13), ('pretti', 13), ('old', 13), ('msd', 13), ('wheel', 12), ('without', 12), ('cours', 12), ('put', 12), ('transmiss', 12), ('roadburn', 12), ('almost', 12), ('deal', 12), ('factori', 12), ('stickguy', 12), ('post', 12), ('agre', 12), ('appreci', 12), ('happen', 12), ('light', 12), ('ask', 12), ('mani', 12), ('honda', 12), ('yet', 11), ('claim', 11), ('mean', 11), ('sell', 11), ('lot', 11), ('last', 11), ('certain', 11), ('check', 11), ('case', 11), ('stuff', 11), ('worth', 11), ('etc', 11), ('damag', 11), ('compar', 11), ('round', 11), ('A', 11), ('infin', 11), ('acura', 11), ('certifi', 11), ('feel', 11), ('includ', 10), ('howev', 10), ('list', 10), ('size', 10), ('increas', 10), ('problem', 10), ('rather', 10), ('add', 10), ('away', 10), ('offer', 10), ('today', 10), ('modifi', 10), ('manufactur', 10), ('driven', 10), ('tri', 10), ('sale', 10), ('market', 10), ('decent', 10), ('done', 10), ('automat', 10), ('He', 10), ('valu', 10), ('lower', 10), ('factor', 10), ('As', 10), ('level', 10), ('enough', 10), ('experi', 10), ('door', 9), ('littl', 9), ('sandman', 9), ('big', 9), ('upgrad', 9), ('boost', 9), ('must', 9), ('spend', 9), ('No', 9), ('build', 9), ('son', 9), ('miss', 9), ('stock', 9), ('faster', 9), ('real', 9), ('mpg', 9), ('forum', 9), ('track', 9), ('gener', 9), ('paid', 9), ('wrx', 9), ('excel', 9), ('mainten', 9), ('set', 9), ('http', 9), ('area', 9), ('love', 9), ('notic', 9), ('mention', 9), ('MF', 9), ('consid', 8), ('top', 8), ('golf', 8), ('rick', 8), ('stress', 8), ('basic', 8), ('ad', 8), ('hard', 8), ('alway', 8), ('definit', 8), ('everyth', 8), ('nyccarguy', 8), ('equip', 8), ('guy', 8), ('loaner', 8), ('coupl', 8), ('later', 8), ('along', 8), ('anyth', 8), ('principl', 8), ('At', 8), ('run', 8), ('perhap', 8), ('product', 8), ('cheap', 8), ('cover', 8), ('due', 8), ('yeah', 8), ('independ', 8), ('mark', 8), ('compani', 8), ('markcincinnati', 8), ('person', 8), ('awd', 8), ('wonder', 8), ('thank', 8), ('turn', 8), ('local', 8), ('sticker', 8), ('adapt', 8), ('small', 7), ('order', 7), ('huge', 7), ('expect', 7), ('rememb', 7), ('enthusiast', 7), ('dealership', 7), ('fluid', 7), ('tank', 7), ('onc', 7), ('custom', 7), ('GT', 7), ('pick', 7), ('past', 7), ('certainli', 7), ('competit', 7), ('relat', 7), ('buyer', 7), ('folk', 7), ('let', 7), ('system', 7), ('lose', 7), ('auto', 7), ('guess', 7), ('essenti', 7), ('current', 7), ('wrong', 7), ('fine', 7), ('standard', 7), ('whatev', 7), ('question', 7), ('brand', 7), ('labor', 7), ('four', 7), ('option', 7), ('besid', 7), ('interior', 7), ('thought', 7), ('call', 7), ('fix', 7), ('care', 7), ('fun', 7), ('MB', 7), ('stick', 7), ('cvt', 7), ('cyl', 7), ('wait', 7), ('week', 7), ('mustang', 7), ('rental', 7), ('seri', 6), ('road', 6), ('instal', 6), ('FN', 6), ('steve', 6), ('ago', 6), ('depart', 6), ('assum', 6), ('within', 6), ('Do', 6), ('hope', 6), ('event', 6), ('bring', 6), ('learn', 6), ('driver', 6), ('decid', 6), ('In', 6), ('consum', 6), ('larg', 6), ('abov', 6), ('help', 6), ('expens', 6), ('older', 6), ('talk', 6), ('ga', 6), ('exactli', 6), ('side', 6), ('lead', 6), ('energi', 6), ('prior', 6), ('open', 6), ('economi', 6), ('result', 6), ('control', 6), ('depend', 6), ('ownership', 6), ('either', 6), ('On', 6), ('signific', 6), ('shape', 6), ('best', 6), ('sold', 6), ('fact', 6), ('absolut', 6), ('pleas', 6), ('correct', 6), ('sensor', 6), ('major', 6), ('report', 6), ('entri', 6), ('came', 6), ('usual', 6), ('handl', 6), ('recent', 6), ('left', 6), ('sweendogi', 6), ('oem', 6), ('save', 6), ('told', 6), ('neighbor', 6), ('lucki', 6), ('luxuri', 6), ('motor', 6), ('plenti', 6), ('tlx', 6), ('compel', 6), ('twice', 6), ('kind', 6), ('michael', 6), ('bulb', 6), ('cadillac', 6), ('color', 5), ('follow', 5), ('trade', 5), ('wo', 5), ('stage', 5), ('accord', 5), ('torqu', 5), ('doubt', 5), ('effect', 5), ('aggress', 5), ('california', 5), ('mixtur', 5), ('emiss', 5), ('respect', 5), ('given', 5), ('race', 5), ('figur', 5), ('void', 5), ('safeti', 5), ('built', 5), ('regard', 5), ('understand', 5), ('legaci', 5), ('life', 5), ('plan', 5), ('fight', 5), ('tech', 5), ('premium', 5), ('commun', 5), ('count', 5), ('pedal', 5), ('repres', 5), ('often', 5), ('sometim', 5), ('world', 5), ('potenti', 5), ('clean', 5), ('adjust', 5), ('simpl', 5), ('club', 5), ('found', 5), ('design', 5), ('possibl', 5), ('broke', 5), ('indic', 5), ('believ', 5), ('entir', 5), ('posit', 5), ('asid', 5), ('three', 5), ('complaint', 5), ('avail', 5), ('articl', 5), ('washer', 5), ('knock', 5), ('line', 5), ('negoti', 5), ('bet', 5), ('indi', 5), ('answer', 5), ('Ca', 5), ('review', 5), ('funni', 5), ('averag', 5), ('hassl', 5), ('term', 5), ('headlight', 5), ('head', 5), ('purchas', 5), ('realiz', 5), ('honest', 5), ('amount', 5), ('els', 5), ('perfectli', 5), ('drove', 5), ('rang', 5), ('recommend', 5), ('origin', 5), ('ZF', 5), ('class', 5), ('collis', 5), ('deposit', 5), ('argu', 5), ('unfortun', 4), ('prefer', 4), ('modif', 4), ('caus', 4), ('dinan', 4), ('anyon', 4), ('natur', 4), ('measur', 4), ('mess', 4), ('buck', 4), ('kyfdx', 4), ('licens', 4), ('stori', 4), ('ford', 4), ('ever', 4), ('push', 4), ('complet', 4), ('haul', 4), ('exampl', 4), ('water', 4), ('wave', 4), ('toss', 4), ('pull', 4), ('load', 4), ('final', 4), ('roll', 4), ('zero', 4), ('ride', 4), ('eye', 4), ('longev', 4), ('obvious', 4), ('piec', 4), ('research', 4), ('soon', 4), ('crap', 4), ('Is', 4), ('joy', 4), ('limit', 4), ('appli', 4), ('otherwis', 4), ('went', 4), ('abl', 4), ('steer', 4), ('mix', 4), ('choic', 4), ('wish', 4), ('structur', 4), ('advanc', 4), ('nois', 4), ('somewher', 4), ('compet', 4), ('idea', 4), ('note', 4), ('reput', 4), ('bad', 4), ('matter', 4), ('configur', 4), ('sorri', 4), ('edg', 4), ('magazin', 4), ('decis', 4), ('fraction', 4), ('heck', 4), ('hardli', 4), ('filter', 4), ('beta', 4), ('version', 4), ('true', 4), ('everyon', 4), ('discount', 4), ('rate', 4), ('busi', 4), ('sort', 4), ('whether', 4), ('topic', 4), ('forget', 4), ('acceler', 4), ('sedan', 4), ('normal', 4), ('hit', 4), ('street', 4), ('trip', 4), ('box', 4), ('Or', 4), ('wow', 4), ('imagin', 4), ('condit', 4), ('pain', 4), ('quicker', 4), ('fwd', 4), ('chanc', 4), ('typic', 4), ('home', 4), ('conscienti', 4), ('main', 4), ('TL', 4), ('hose', 4), ('blame', 4), ('quit', 4), ('belt', 4), ('tlong', 4), ('practic', 4), ('frequent', 4), ('passion', 4), ('human', 4), ('speed', 4), ('B', 4), ('short', 4), ('feet', 4), ('consider', 4), ('snow', 4), ('german', 4), ('valv', 4), ('VW', 4), ('deriv', 4), ('edc', 4), ('adm', 4), ('stand', 4), ('win', 4), ('circlew', 4), ('heard', 4), ('atf', 4), ('fee', 4), ('secur', 4), ('imho', 4), ('upon', 4), ('hatch', 4), ('goe', 3), ('shot', 3), ('odd', 3), ('white', 3), ('truth', 3), ('underwhelm', 3), ('behind', 3), ('arriv', 3), ('whole', 3), ('minut', 3), ('carnaught', 3), ('risk', 3), ('item', 3), ('confid', 3), ('becom', 3), ('per', 3), ('state', 3), ('amaz', 3), ('grasp', 3), ('taken', 3), ('sever', 3), ('discuss', 3), ('OK', 3), ('book', 3), ('degre', 3), ('leak', 3), ('specif', 3), ('net', 3), ('near', 3), ('honestli', 3), ('bag', 3), ('hold', 3), ('gotten', 3), ('fulli', 3), ('msrp', 3), ('tough', 3), ('coup', 3), ('mppk', 3), ('mpe', 3), ('cheapo', 3), ('compromis', 3), ('pass', 3), ('properli', 3), ('tuner', 3), ('weed', 3), ('pictur', 3), ('beam', 3), ('detail', 3), ('aftermarket', 3), ('manag', 3), ('window', 3), ('featur', 3), ('super', 3), ('improv', 3), ('print', 3), ('total', 3), ('qbrozen', 3), ('intak', 3), ('yor', 3), ('statement', 3), ('violat', 3), ('wand', 3), ('primarili', 3), ('higher', 3), ('rpm', 3), ('throttl', 3), ('spark', 3), ('dial', 3), ('unless', 3), ('lack', 3), ('anybodi', 3), ('tell', 3), ('subaru', 3), ('gain', 3), ('tweak', 3), ('suspect', 3), ('plug', 3), ('larger', 3), ('equal', 3), ('tremend', 3), ('darl', 3), ('weigh', 3), ('instanc', 3), ('data', 3), ('approv', 3), ('conjur', 3), ('trick', 3), ('extraordinari', 3), ('type', 3), ('easier', 3), ('advis', 3), ('reward', 3), ('attent', 3), ('lux', 3), ('quick', 3), ('enhanc', 3), ('move', 3), ('dread', 3), ('wood', 3), ('mechan', 3), ('flat', 3), ('special', 3), ('impress', 3), ('opinion', 3), ('suggest', 3), ('job', 3), ('hundr', 3), ('mind', 3), ('clarif', 3), ('news', 3), ('stun', 3), ('phase', 3), ('wore', 3), ('passat', 3), ('starter', 3), ('nurs', 3), ('cheaper', 3), ('depreci', 3), ('windshield', 3), ('warn', 3), ('inspect', 3), ('gone', 3), ('altern', 3), ('readi', 3), ('Oh', 3), ('happi', 3), ('non', 3), ('pleasur', 3), ('max', 3), ('bug', 3), ('insur', 3), ('civic', 3), ('black', 3), ('quattro', 3), ('comfort', 3), ('attract', 3), ('softwar', 3), ('bank', 3), ('lol', 3), ('flush', 3), ('volum', 3), ('creas', 3), ('sit', 3), ('auction', 3), ('easi', 3), ('gig', 3), ('chronic', 3), ('spot', 3), ('electron', 3), ('durabl', 3), ('liter', 3), ('transform', 3), ('toggl', 3), ('bolster', 3), ('somewhat', 3), ('judg', 3), ('sporti', 3), ('weight', 3), ('shock', 3), ('versatil', 3), ('damp', 3), ('qualiti', 3), ('san', 3), ('diego', 3), ('deduct', 3), ('page', 3), ('merced', 3), ('volvo', 3), ('ding', 3), ('account', 3), ('dash', 3), ('air', 3), ('vent', 3), ('store', 3), ('combo', 2), ('tint', 2), ('sharp', 2), ('gray', 2), ('sti', 2), ('saw', 2), ('perfect', 2), ('afford', 2), ('retir', 2), ('style', 2), ('extrem', 2), ('friday', 2), ('compon', 2), ('X', 2), ('berger', 2), ('offroad', 2), ('ship', 2), ('dirtier', 2), ('bargain', 2), ('blower', 2), ('weekend', 2), ('million', 2), ('outrag', 2), ('hang', 2), ('thread', 2), ('traffic', 2), ('school', 2), ('satch', 2), ('calif', 2), ('met', 2), ('distinctli', 2), ('vari', 2), ('friendli', 2), ('czar', 2), ('separ', 2), ('wiper', 2), ('litigi', 2), ('societi', 2), ('liabl', 2), ('quest', 2), ('oomph', 2), ('similarli', 2), ('statesid', 2), ('caught', 2), ('night', 2), ('kid', 2), ('daughter', 2), ('walk', 2), ('pocket', 2), ('grand', 2), ('shall', 2), ('felt', 2), ('monthli', 2), ('streetabl', 2), ('paramet', 2), ('horsepow', 2), ('junki', 2), ('conced', 2), ('burger', 2), ('motorsport', 2), ('confus', 2), ('audiworld', 2), ('driveway', 2), ('nav', 2), ('breathtak', 2), ('exhaust', 2), ('lust', 2), ('particular', 2), ('simpli', 2), ('reach', 2), ('nearli', 2), ('unmod', 2), ('wide', 2), ('someon', 2), ('admit', 2), ('anymor', 2), ('poseur', 2), ('fool', 2), ('slightli', 2), ('plain', 2), ('cam', 2), ('receiv', 2), ('via', 2), ('mazdaspe', 2), ('hypertech', 2), ('infinit', 2), ('magic', 2), ('ignit', 2), ('cruis', 2), ('map', 2), ('certainti', 2), ('suppos', 2), ('usag', 2), ('util', 2), ('poni', 2), ('prematur', 2), ('argument', 2), ('doom', 2), ('statist', 2), ('Go', 2), ('modest', 2), ('margin', 2), ('consist', 2), ('hot', 2), ('mpk', 2), ('warren', 2), ('nah', 2), ('optim', 2), ('appar', 2), ('warrant', 2), ('portion', 2), ('teach', 2), ('tradeoff', 2), ('anyway', 2), ('effort', 2), ('pump', 2), ('lb', 2), ('video', 2), ('youtub', 2), ('prove', 2), ('pressur', 2), ('cheat', 2), ('tool', 2), ('suspici', 2), ('incid', 2), ('monkey', 2), ('trust', 2), ('PR', 2), ('impli', 2), ('imparti', 2), ('sourc', 2), ('advic', 2), ('deodor', 2), ('highest', 2), ('CD', 2), ('empir', 2), ('substanti', 2), ('blindli', 2), ('accept', 2), ('second', 2), ('method', 2), ('calibr', 2), ('assur', 2), ('leaki', 2), ('worri', 2), ('swing', 2), ('C', 2), ('D', 2), ('R', 2), ('rev', 2), ('clutch', 2), ('darn', 2), ('overal', 2), ('flexibl', 2), ('rwd', 2), ('although', 2), ('mph', 2), ('gremlin', 2), ('tripper', 2), ('stop', 2), ('wuss', 2), ('gallon', 2), ('appreshait', 2), ('qualifi', 2), ('screen', 2), ('solid', 2), ('period', 2), ('favor', 2), ('CA', 2), ('dept', 2), ('prohibit', 2), ('carri', 2), ('advantag', 2), ('correctli', 2), ('whew', 2), ('avoid', 2), ('horribl', 2), ('fed', 2), ('thick', 2), ('spec', 2), ('pilot', 2), ('heavi', 2), ('half', 2), ('hurt', 2), ('familiar', 2), ('dsg', 2), ('nissan', 2), ('address', 2), ('colleg', 2), ('sled', 2), ('SC', 2), ('distanc', 2), ('froma', 2), ('luckier', 2), ('spare', 2), ('commut', 2), ('dure', 2), ('routin', 2), ('attempt', 2), ('breakdown', 2), ('fail', 2), ('strut', 2), ('mount', 2), ('fan', 2), ('late', 2), ('glove', 2), ('psycholog', 2), ('barrier', 2), ('resal', 2), ('gen', 2), ('Of', 2), ('serpentin', 2), ('skip', 2), ('luck', 2), ('wors', 2), ('poison', 2), ('pond', 2), ('tip', 2), ('applianc', 2), ('extens', 2), ('silli', 2), ('smile', 2), ('whenev', 2), ('wax', 2), ('tangibl', 2), ('machin', 2), ('crazi', 2), ('concept', 2), ('analysi', 2), ('contamin', 2), ('sat', 2), ('pickup', 2), ('hood', 2), ('bumper', 2), ('MY', 2), ('pounc', 2), ('lean', 2), ('toward', 2), ('fuss', 2), ('alreadi', 2), ('newer', 2), ('tradit', 2), ('websit', 2), ('close', 2), ('sprout', 2), ('deprec', 2), ('necessarili', 2), ('leader', 2), ('segment', 2), ('mid', 2), ('shift', 2), ('breld', 2), ('chrysler', 2), ('card', 2), ('wind', 2), ('vault', 2), ('thrill', 2), ('output', 2), ('accler', 2), ('camera', 2), ('SH', 2), ('ratio', 2), ('highway', 2), ('choos', 2), ('proper', 2), ('filer', 2), ('declin', 2), ('button', 2), ('fell', 2), ('insid', 2), ('kick', 2), ('quarter', 2), ('closer', 2), ('NJ', 2), ('clock', 2), ('condens', 2), ('none', 2), ('dollar', 2), ('scope', 2), ('refresh', 2), ('comfi', 2), ('eventu', 2), ('regardless', 2), ('process', 2), ('relationship', 2), ('AZ', 2), ('convers', 2), ('insist', 2), ('intend', 2), ('gt', 2), ('surpris', 2), ('suit', 2), ('helen', 2), ('keller', 2), ('blind', 2), ('monitor', 2), ('lane', 2), ('departur', 2), ('wrangler', 2), ('foot', 2), ('press', 2), ('full', 2), ('manual', 2), ('drag', 2), ('racer', 2), ('albeit', 2), ('kit', 2), ('decad', 2), ('worthi', 2), ('budget', 2), ('atmospher', 2), ('shelbi', 2), ('challeng', 2), ('okay', 2), ('legend', 2), ('truli', 2), ('similar', 2), ('variou', 2), ('GM', 2), ('convert', 2), ('coincid', 2), ('chalk', 2), ('lousi', 2), ('error', 2), ('sign', 2), ('hate', 2), ('suffer', 2), ('ti', 2), ('center', 2), ('outstand', 2), ('counti', 2), ('calib', 2), ('uninsur', 2), ('bww', 2), ('El', 2), ('sway', 2), ('tax', 2), ('invest', 2), ('jack', 2), ('held', 2), ('hostag', 2), ('nonetheless', 2), ('realiti', 2), ('owe', 2), ('treat', 2), ('candid', 2), ('rent', 2), ('plastic', 2), ('worst', 2), ('ok', 2), ('harsh', 2), ('idl', 2), ('leather', 2), ('nicer', 2), ('freeway', 2), ('bottom', 2), ('chunk', 2), ('speedbump', 2), ('babi', 2), ('return', 2), ('grati', 2), ('cash', 2), ('wire', 2), ('malfunct', 2), ('lumbar', 2), ('vin', 2), ('ytd', 2), ('vs', 2), ('studi', 2), ('circa', 2), ('sonata', 1), ('flight', 1), ('bout', 1), ('boot', 1), ('leman', 1), ('automak', 1), ('crown', 1), ('photo', 1), ('blue', 1), ('chick', 1), ('flown', 1), ('nest', 1), ('enjoy', 1), ('ourselv', 1), ('leav', 1), ('proport', 1), ('entertain', 1), ('dct', 1), ('notwithstand', 1), ('weather', 1), ('spent', 1), ('entitl', 1), ('saleen', 1), ('autograph', 1), ('poster', 1), ('brochur', 1), ('brad', 1), ('code', 1), ('thrown', 1), ('OF', 1), ('upward', 1), ('percentag', 1), ('realist', 1), ('daili', 1), ('inch', 1), ('dipstick', 1), ('cryin', 1), ('loud', 1), ('curiou', 1), ('mindset', 1), ('neurot', 1), ('envelop', 1), ('saturday', 1), ('ahl', 1), ('minor', 1), ('leagu', 1), ('hockey', 1), ('game', 1), ('eat', 1), ('juic', 1), ('snack', 1), ('concess', 1), ('search', 1), ('thoroughli', 1), ('bottl', 1), ('mistak', 1), ('listen', 1), ('trigger', 1), ('dhp', 1), ('assist', 1), ('heat', 1), ('oct', 1), ('ED', 1), ('heavier', 1), ('MS', 1), ('warrante', 1), ('mucho', 1), ('ducket', 1), ('el', 1), ('yep', 1), ('Be', 1), ('pet', 1), ('peev', 1), ('remark', 1), ('particip', 1), ('agon', 1), ('prize', 1), ('possess', 1), ('deliv', 1), ('pride', 1), ('acquir', 1), ('garag', 1), ('caption', 1), ('pic', 1), ('begin', 1), ('breath', 1), ('aid', 1), ('elabor', 1), ('retrofit', 1), ('navig', 1), ('laid', 1), ('involv', 1), ('underhood', 1), ('plumb', 1), ('charger', 1), ('ceil', 1), ('exceed', 1), ('seen', 1), ('sline', 1), ('surpass', 1), ('outperform', 1), ('poss', 1), ('btw', 1), ('younger', 1), ('rule', 1), ('racetrack', 1), ('remind', 1), ('idiot', 1), ('intro', 1), ('parti', 1), ('capabl', 1), ('poor', 1), ('chime', 1), ('except', 1), ('ten', 1), ('durat', 1), ('charm', 1), ('unchang', 1), ('caution', 1), ('attitud', 1), ('act', 1), ('balanc', 1), ('basi', 1), ('likelihood', 1), ('teenag', 1), ('advers', 1), ('bill', 1), ('individu', 1), ('physic', 1), ('failur', 1), ('float', 1), ('boat', 1), ('instantli', 1), ('evid', 1), ('defer', 1), ('beyond', 1), ('span', 1), ('benefit', 1), ('outweigh', 1), ('disput', 1), ('disagre', 1), ('whatsoev', 1), ('notion', 1), ('sought', 1), ('pursu', 1), ('erod', 1), ('extent', 1), ('uoa', 1), ('sleep', 1), ('alleg', 1), ('benign', 1), ('homework', 1), ('supercharg', 1), ('opt', 1), ('colder', 1), ('intercool', 1), ('throw', 1), ('climb', 1), ('mountain', 1), ('dino', 1), ('reduc', 1), ('roadrunn', 1), ('motorcycl', 1), ('stone', 1), ('comput', 1), ('brainer', 1), ('uphold', 1), ('face', 1), ('strictli', 1), ('bode', 1), ('thesi', 1), ('epa', 1), ('certif', 1), ('legal', 1), ('offici', 1), ('carb', 1), ('washabl', 1), ('louder', 1), ('access', 1), ('australian', 1), ('mp', 1), ('unlead', 1), ('jump', 1), ('daddi', 1), ('garlit', 1), ('highli', 1), ('info', 1), ('hire', 1), ('firm', 1), ('undo', 1), ('advertis', 1), ('comment', 1), ('astronom', 1), ('rise', 1), ('bash', 1), ('sarcasm', 1), ('across', 1), ('rag', 1), ('drop', 1), ('straight', 1), ('ordeal', 1), ('abil', 1), ('rough', 1), ('pavement', 1), ('danc', 1), ('mundan', 1), ('drivetrain', 1), ('respons', 1), ('fairli', 1), ('strongli', 1), ('persuad', 1), ('ditto', 1), ('S', 1), ('RS', 1), ('edit', 1), ('expos', 1), ('snot', 1), ('dump', 1), ('applic', 1), ('necesearili', 1), ('bosch', 1), ('overhead', 1), ('gorgeou', 1), ('tv', 1), ('wifi', 1), ('coffe', 1), ('corner', 1), ('breathtakingli', 1), ('maintain', 1), ('expir', 1), ('nevertheless', 1), ('specialist', 1), ('citi', 1), ('program', 1), ('accessori', 1), ('diy', 1), ('project', 1), ('coupon', 1), ('gave', 1), ('reflect', 1), ('resid', 1), ('MA', 1), ('pattern', 1), ('progress', 1), ('AA', 1), ('cross', 1), ('drill', 1), ('mida', 1), ('peac', 1), ('ferodo', 1), ('geez', 1), ('former', 1), ('tsx', 1), ('sens', 1), ('platform', 1), ('nose', 1), ('oreo', 1), ('cooki', 1), ('captiv', 1), ('audienc', 1), ('intact', 1), ('resurfac', 1), ('advisor', 1), ('bia', 1), ('prici', 1), ('thinner', 1), ('goal', 1), ('explor', 1), ('ward', 1), ('interestingli', 1), ('revert', 1), ('assembl', 1), ('locat', 1), ('hill', 1), ('park', 1), ('break', 1), ('glamor', 1), ('fanci', 1), ('dashboard', 1), ('cool', 1), ('tranni', 1), ('errr', 1), ('key', 1), ('tempt', 1), ('brought', 1), ('excess', 1), ('truck', 1), ('nimbl', 1), ('finger', 1), ('batteri', 1), ('complain', 1), ('untouch', 1), ('upset', 1), ('eight', 1), ('loan', 1), ('DC', 1), ('beltway', 1), ('terrifi', 1), ('situat', 1), ('greatli', 1), ('brain', 1), ('surgeon', 1), ('especi', 1), ('amort', 1), ('histor', 1), ('record', 1), ('recal', 1), ('unabl', 1), ('numer', 1), ('match', 1), ('arm', 1), ('jetta', 1), ('mercuri', 1), ('villag', 1), ('reli', 1), ('patienc', 1), ('attach', 1), ('clamp', 1), ('fortun', 1), ('reserv', 1), ('marker', 1), ('outright', 1), ('substandard', 1), ('contentedli', 1), ('subject', 1), ('justifi', 1), ('anywher', 1), ('worn', 1), ('ball', 1), ('joint', 1), ('exhibit', 1), ('mushi', 1), ('glaze', 1), ('crack', 1), ('hanger', 1), ('twenti', 1), ('stretch', 1), ('rapid', 1), ('success', 1), ('graduat', 1), ('coil', 1), ('pack', 1), ('die', 1), ('aaa', 1), ('hid', 1), ('wonki', 1), ('support', 1), ('transit', 1), ('camero', 1), ('spoke', 1), ('openli', 1), ('unusu', 1), ('seller', 1), ('horror', 1), ('knowledg', 1), ('dad', 1), ('assess', 1), ('actuari', 1), ('interview', 1), ('men', 1), ('predict', 1), ('neglect', 1), ('gaff', 1), ('Am', 1), ('rotat', 1), ('slight', 1), ('pleasant', 1), ('amplifi', 1), ('counter', 1), ('speak', 1), ('intent', 1), ('updat', 1), ('hawthorn', 1), ('inde', 1), ('sent', 1), ('neither', 1), ('killer', 1), ('coolant', 1), ('sampl', 1), ('sight', 1), ('unseen', 1), ('mostli', 1), ('minu', 1), ('east', 1), ('coast', 1), ('gap', 1), ('bay', 1), ('googl', 1), ('serial', 1), ('sunday', 1), ('chain', 1), ('disqualifi', 1), ('statu', 1), ('write', 1), ('compens', 1), ('bigger', 1), ('peach', 1), ('bot', 1), ('luxo', 1), ('elaps', 1), ('btob', 1), ('powertrain', 1), ('coverag', 1), ('rout', 1), ('ergonom', 1), ('LX', 1), ('lineup', 1), ('imnsho', 1), ('fill', 1), ('station', 1), ('pano', 1), ('roof', 1), ('stronic', 1), ('ft', 1), ('cushi', 1), ('gentli', 1), ('facelift', 1), ('modern', 1), ('touch', 1), ('dig', 1), ('function', 1), ('scoop', 1), ('bomb', 1), ('Si', 1), ('summer', 1), ('scream', 1), ('trim', 1), ('simplifi', 1), ('forgot', 1), ('unlik', 1), ('scoot', 1), ('lighter', 1), ('critic', 1), ('disastr', 1), ('jeep', 1), ('compass', 1), ('dime', 1), ('credit', 1), ('extend', 1), ('explain', 1), ('linear', 1), ('smooth', 1), ('drone', 1), ('meager', 1), ('deter', 1), ('hand', 1), ('solut', 1), ('AT', 1), ('delet', 1), ('appear', 1), ('letter', 1), ('whine', 1), ('tabl', 1), ('stabl', 1), ('backup', 1), ('sluggish', 1), ('aw', 1), ('NY', 1), ('luckili', 1), ('retain', 1), ('ident', 1), ('crisi', 1), ('bradd', 1), ('turbocharg', 1), ('gem', 1), ('andr', 1), ('cafe', 1), ('sweet', 1), ('addit', 1), ('technolog', 1), ('email', 1), ('word', 1), ('chose', 1), ('sad', 1), ('februari', 1), ('form', 1), ('snooz', 1), ('mini', 1), ('van', 1), ('pix', 1), ('knob', 1), ('shame', 1), ('ray', 1), ('catena', 1), ('ouch', 1), ('ML', 1), ('stray', 1), ('unnecessari', 1), ('OP', 1), ('bright', 1), ('red', 1), ('singl', 1), ('categori', 1), ('bang', 1), ('greet', 1), ('sunni', 1), ('barrett', 1), ('jackson', 1), ('blow', 1), ('link', 1), ('beauti', 1), ('meet', 1), ('gentlemen', 1), ('forward', 1), ('url', 1), ('LT', 1), ('rock', 1), ('date', 1), ('wildcat', 1), ('marri', 1), ('grow', 1), ('phoenix', 1), ('elimin', 1), ('lag', 1), ('block', 1), ('chevi', 1), ('misspent', 1), ('youth', 1), ('hover', 1), ('michelin', 1), ('pss', 1), ('stagger', 1), ('setup', 1), ('NA', 1), ('fitment', 1), ('US', 1), ('chiropractor', 1), ('audio', 1), ('dislik', 1), ('bob', 1), ('harper', 1), ('frombmw', 1), ('IP', 1), ('temperatur', 1), ('gaug', 1), ('instead', 1), ('graphic', 1), ('illumin', 1), ('wooden', 1), ('lsd', 1), ('sooner', 1), ('mode', 1), ('dsc', 1), ('enabl', 1), ('outing', 1), ('putnam', 1), ('launch', 1), ('synaps', 1), ('contrast', 1), ('akin', 1), ('usabl', 1), ('standpoint', 1), ('public', 1), ('easili', 1), ('munich', 1), ('badg', 1), ('forgotten', 1), ('boast', 1), ('congrat', 1), ('erot', 1), ('plane', 1), ('significantli', 1), ('paper', 1), ('tack', 1), ('moron', 1), ('rest', 1), ('jaguar', 1), ('ftype', 1), ('rid', 1), ('friend', 1), ('slaughter', 1), ('To', 1), ('tree', 1), ('yard', 1), ('adap', 1), ('damper', 1), ('switch', 1), ('jounc', 1), ('rebound', 1), ('magnetorheolog', 1), ('sophist', 1), ('experienc', 1), ('congratul', 1), ('An', 1), ('resembl', 1), ('distribut', 1), ('unload', 1), ('bracket', 1), ('retail', 1), ('sooo', 1), ('NC', 1), ('clear', 1), ('unplow', 1), ('ground', 1), ('clearanc', 1), ('underneath', 1), ('yesterday', 1), ('burn', 1), ('wiggl', 1), ('alon', 1), ('P', 1), ('join', 1), ('anonym', 1), ('immedi', 1), ('escondido', 1), ('mcdonald', 1), ('kept', 1), ('name', 1), ('despit', 1), ('shoddi', 1), ('workmanship', 1), ('panel', 1), ('quickli', 1), ('tale', 1), ('cliff', 1), ('polici', 1), ('waiver', 1), ('fit', 1), ('lubric', 1), ('provid', 1), ('km', 1), ('offens', 1), ('trailer', 1), ('oper', 1), ('toy', 1), ('interv', 1), ('tend', 1), ('proactiv', 1), ('scari', 1), ('trail', 1), ('IS', 1), ('amg', 1), ('tigerheel', 1), ('pacif', 1), ('glendal', 1), ('select', 1), ('exec', 1), ('dmv', 1), ('calcul', 1), ('sum', 1), ('cap', 1), ('acquisit', 1), ('bmwf', 1), ('markup', 1), ('allow', 1), ('doc', 1), ('difficult', 1), ('serious', 1), ('concern', 1), ('savvi', 1), ('investig', 1), ('bimmerfest', 1), ('contract', 1), ('debit', 1), ('printout', 1), ('shade', 1), ('seeed', 1), ('perfunctori', 1), ('recondit', 1), ('tear', 1), ('stain', 1), ('scrap', 1), ('dent', 1), ('rash', 1), ('rim', 1), ('cut', 1), ('disagr', 1), ('chassi', 1), ('effici', 1), ('stellar', 1), ('abus', 1), ('germani', 1), ('W', 1), ('mexico', 1), ('solv', 1), ('mexican', 1), ('teeth', 1), ('serv', 1), ('april', 1), ('benz', 1), ('lincoln', 1), ('ditch', 1), ('fire', 1), ('ct', 1), ('scion', 1), ('announc', 1), ('spike', 1), ('rug', 1), ('furnitur', 1), ('OH', 1), ('caddi', 1), ('V', 1), ('monday', 1), ('rare', 1), ('percept', 1), ('catch', 1), ('laurasdada', 1), ('butt', 1), ('competitor', 1)]\n"
     ]
    }
   ],
   "source": [
    "print('The most frequent relevant words that appear in these comments are:\\n' + str(list(frequent_words)))"
   ]
  },
  {
   "cell_type": "markdown",
   "metadata": {},
   "source": [
    "### From such list, we can extract the most commented features related to the forum's theme.\n",
    "\n",
    "#### By cross-referencing the words with their respective sentences (as groups of words) using ML algorithms, it's possible even to extract possible meanings and contexts for these mentions."
   ]
  }
 ],
 "metadata": {
  "kernelspec": {
   "display_name": "Python 3",
   "language": "python",
   "name": "python3"
  },
  "language_info": {
   "codemirror_mode": {
    "name": "ipython",
    "version": 3
   },
   "file_extension": ".py",
   "mimetype": "text/x-python",
   "name": "python",
   "nbconvert_exporter": "python",
   "pygments_lexer": "ipython3",
   "version": "3.7.6"
  }
 },
 "nbformat": 4,
 "nbformat_minor": 4
}
